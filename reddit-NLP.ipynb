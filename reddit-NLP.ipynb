{
 "cells": [
  {
   "cell_type": "markdown",
   "metadata": {},
   "source": [
    "**WARNING**\n",
    "Gridsearch cell takes 10-15 minutes to run. "
   ]
  },
  {
   "cell_type": "markdown",
   "metadata": {},
   "source": [
    "Imports"
   ]
  },
  {
   "cell_type": "code",
   "execution_count": 57,
   "metadata": {},
   "outputs": [],
   "source": [
    "import pandas as pd\n",
    "import numpy as np\n",
    "from sklearn.model_selection import train_test_split, GridSearchCV, cross_val_score\n",
    "from bs4 import BeautifulSoup        \n",
    "import nltk\n",
    "from nltk.corpus import stopwords \n",
    "from nltk.stem import WordNetLemmatizer\n",
    "from nltk.tokenize import RegexpTokenizer \n",
    "import regex as re\n",
    "from nltk.stem.porter import PorterStemmer\n",
    "from sklearn.feature_extraction.text import CountVectorizer, TfidfVectorizer\n",
    "from sklearn.pipeline import Pipeline\n",
    "from sklearn.linear_model import LogisticRegression"
   ]
  },
  {
   "cell_type": "markdown",
   "metadata": {},
   "source": [
    "Read in original (first scrape) relationship csv."
   ]
  },
  {
   "cell_type": "code",
   "execution_count": 2,
   "metadata": {},
   "outputs": [
    {
     "data": {
      "text/html": [
       "<div>\n",
       "<style scoped>\n",
       "    .dataframe tbody tr th:only-of-type {\n",
       "        vertical-align: middle;\n",
       "    }\n",
       "\n",
       "    .dataframe tbody tr th {\n",
       "        vertical-align: top;\n",
       "    }\n",
       "\n",
       "    .dataframe thead th {\n",
       "        text-align: right;\n",
       "    }\n",
       "</style>\n",
       "<table border=\"1\" class=\"dataframe\">\n",
       "  <thead>\n",
       "    <tr style=\"text-align: right;\">\n",
       "      <th></th>\n",
       "      <th>Unnamed: 0</th>\n",
       "      <th>id</th>\n",
       "      <th>author</th>\n",
       "      <th>title</th>\n",
       "      <th>selftext</th>\n",
       "      <th>timestamp</th>\n",
       "      <th>num_comments</th>\n",
       "      <th>ups</th>\n",
       "      <th>subreddit</th>\n",
       "    </tr>\n",
       "  </thead>\n",
       "  <tbody>\n",
       "    <tr>\n",
       "      <th>0</th>\n",
       "      <td>0</td>\n",
       "      <td>b2nc2f</td>\n",
       "      <td>eganist</td>\n",
       "      <td>[meta] Think of the comments as an inverted Ub...</td>\n",
       "      <td>Since two or three times a week we end up remo...</td>\n",
       "      <td>2019-03-18 20:04:08</td>\n",
       "      <td>52</td>\n",
       "      <td>3153</td>\n",
       "      <td>relationship_advice</td>\n",
       "    </tr>\n",
       "    <tr>\n",
       "      <th>1</th>\n",
       "      <td>1</td>\n",
       "      <td>ca66sv</td>\n",
       "      <td>throwawaynocollege01</td>\n",
       "      <td>Mom had an affair 18 years ago, I [18M] am the...</td>\n",
       "      <td>Pretty much the title. I have no idea how to p...</td>\n",
       "      <td>2019-07-07 12:13:03</td>\n",
       "      <td>5732</td>\n",
       "      <td>21144</td>\n",
       "      <td>relationship_advice</td>\n",
       "    </tr>\n",
       "    <tr>\n",
       "      <th>2</th>\n",
       "      <td>2</td>\n",
       "      <td>c9ztfk</td>\n",
       "      <td>thegoodtwin28</td>\n",
       "      <td>UPDATE: I'm thinking of distancing myself from...</td>\n",
       "      <td>Thank you for all the helpful comments.\\n\\nA l...</td>\n",
       "      <td>2019-07-06 22:52:54</td>\n",
       "      <td>620</td>\n",
       "      <td>8427</td>\n",
       "      <td>relationship_advice</td>\n",
       "    </tr>\n",
       "    <tr>\n",
       "      <th>3</th>\n",
       "      <td>3</td>\n",
       "      <td>ca62qi</td>\n",
       "      <td>bigkyrososa</td>\n",
       "      <td>General Advice: You Don't Require Evidence/Con...</td>\n",
       "      <td>Just some general relationship advice after ob...</td>\n",
       "      <td>2019-07-07 11:58:29</td>\n",
       "      <td>39</td>\n",
       "      <td>202</td>\n",
       "      <td>relationship_advice</td>\n",
       "    </tr>\n",
       "    <tr>\n",
       "      <th>4</th>\n",
       "      <td>4</td>\n",
       "      <td>ca8eih</td>\n",
       "      <td>grizzythekid</td>\n",
       "      <td>I just found out that my daughter is not my da...</td>\n",
       "      <td>So my SO of 4+ years just confessed that my da...</td>\n",
       "      <td>2019-07-07 16:03:19</td>\n",
       "      <td>83</td>\n",
       "      <td>69</td>\n",
       "      <td>relationship_advice</td>\n",
       "    </tr>\n",
       "  </tbody>\n",
       "</table>\n",
       "</div>"
      ],
      "text/plain": [
       "   Unnamed: 0      id                author  \\\n",
       "0           0  b2nc2f               eganist   \n",
       "1           1  ca66sv  throwawaynocollege01   \n",
       "2           2  c9ztfk         thegoodtwin28   \n",
       "3           3  ca62qi           bigkyrososa   \n",
       "4           4  ca8eih          grizzythekid   \n",
       "\n",
       "                                               title  \\\n",
       "0  [meta] Think of the comments as an inverted Ub...   \n",
       "1  Mom had an affair 18 years ago, I [18M] am the...   \n",
       "2  UPDATE: I'm thinking of distancing myself from...   \n",
       "3  General Advice: You Don't Require Evidence/Con...   \n",
       "4  I just found out that my daughter is not my da...   \n",
       "\n",
       "                                            selftext            timestamp  \\\n",
       "0  Since two or three times a week we end up remo...  2019-03-18 20:04:08   \n",
       "1  Pretty much the title. I have no idea how to p...  2019-07-07 12:13:03   \n",
       "2  Thank you for all the helpful comments.\\n\\nA l...  2019-07-06 22:52:54   \n",
       "3  Just some general relationship advice after ob...  2019-07-07 11:58:29   \n",
       "4  So my SO of 4+ years just confessed that my da...  2019-07-07 16:03:19   \n",
       "\n",
       "   num_comments    ups            subreddit  \n",
       "0            52   3153  relationship_advice  \n",
       "1          5732  21144  relationship_advice  \n",
       "2           620   8427  relationship_advice  \n",
       "3            39    202  relationship_advice  \n",
       "4            83     69  relationship_advice  "
      ]
     },
     "execution_count": 2,
     "metadata": {},
     "output_type": "execute_result"
    }
   ],
   "source": [
    "relationship = pd.read_csv('datasets/relationship.csv')\n",
    "relationship.head()"
   ]
  },
  {
   "cell_type": "markdown",
   "metadata": {},
   "source": [
    "Read in original (first scrape) dating csv."
   ]
  },
  {
   "cell_type": "code",
   "execution_count": 3,
   "metadata": {},
   "outputs": [
    {
     "data": {
      "text/html": [
       "<div>\n",
       "<style scoped>\n",
       "    .dataframe tbody tr th:only-of-type {\n",
       "        vertical-align: middle;\n",
       "    }\n",
       "\n",
       "    .dataframe tbody tr th {\n",
       "        vertical-align: top;\n",
       "    }\n",
       "\n",
       "    .dataframe thead th {\n",
       "        text-align: right;\n",
       "    }\n",
       "</style>\n",
       "<table border=\"1\" class=\"dataframe\">\n",
       "  <thead>\n",
       "    <tr style=\"text-align: right;\">\n",
       "      <th></th>\n",
       "      <th>Unnamed: 0</th>\n",
       "      <th>id</th>\n",
       "      <th>author</th>\n",
       "      <th>title</th>\n",
       "      <th>selftext</th>\n",
       "      <th>timestamp</th>\n",
       "      <th>num_comments</th>\n",
       "      <th>ups</th>\n",
       "      <th>subreddit</th>\n",
       "    </tr>\n",
       "  </thead>\n",
       "  <tbody>\n",
       "    <tr>\n",
       "      <th>0</th>\n",
       "      <td>0</td>\n",
       "      <td>c5gnfz</td>\n",
       "      <td>TheYellowRose</td>\n",
       "      <td>[SERIOUS] What are some good ways to build up ...</td>\n",
       "      <td>NaN</td>\n",
       "      <td>2019-06-25 22:28:55</td>\n",
       "      <td>52</td>\n",
       "      <td>104</td>\n",
       "      <td>dating_advice</td>\n",
       "    </tr>\n",
       "    <tr>\n",
       "      <th>1</th>\n",
       "      <td>1</td>\n",
       "      <td>c9sy1z</td>\n",
       "      <td>AutoModerator</td>\n",
       "      <td>Daily Free-for-all Discussion- July 06, 2019</td>\n",
       "      <td>Welcome to /r/dating_advice. Please use this d...</td>\n",
       "      <td>2019-07-06 12:13:58</td>\n",
       "      <td>1</td>\n",
       "      <td>4</td>\n",
       "      <td>dating_advice</td>\n",
       "    </tr>\n",
       "    <tr>\n",
       "      <th>2</th>\n",
       "      <td>2</td>\n",
       "      <td>ca6n6n</td>\n",
       "      <td>C0nfusedGiirl</td>\n",
       "      <td>I hate when guys didn't respond and left me gu...</td>\n",
       "      <td>That's getting annoyed and time-wasting!\\n\\nI ...</td>\n",
       "      <td>2019-07-07 13:08:02</td>\n",
       "      <td>123</td>\n",
       "      <td>348</td>\n",
       "      <td>dating_advice</td>\n",
       "    </tr>\n",
       "    <tr>\n",
       "      <th>3</th>\n",
       "      <td>3</td>\n",
       "      <td>ca8zs0</td>\n",
       "      <td>thatviolabinch</td>\n",
       "      <td>To the right person, you will perfectly make s...</td>\n",
       "      <td>I guess this is kind of obvious, but I wanted ...</td>\n",
       "      <td>2019-07-07 16:56:26</td>\n",
       "      <td>6</td>\n",
       "      <td>52</td>\n",
       "      <td>dating_advice</td>\n",
       "    </tr>\n",
       "    <tr>\n",
       "      <th>4</th>\n",
       "      <td>4</td>\n",
       "      <td>c9xmsw</td>\n",
       "      <td>Raziasaur</td>\n",
       "      <td>If you have an unreciprocated crush on a frien...</td>\n",
       "      <td>I can’t tell you how many friendships have bee...</td>\n",
       "      <td>2019-07-06 19:34:47</td>\n",
       "      <td>162</td>\n",
       "      <td>2237</td>\n",
       "      <td>dating_advice</td>\n",
       "    </tr>\n",
       "  </tbody>\n",
       "</table>\n",
       "</div>"
      ],
      "text/plain": [
       "   Unnamed: 0      id          author  \\\n",
       "0           0  c5gnfz   TheYellowRose   \n",
       "1           1  c9sy1z   AutoModerator   \n",
       "2           2  ca6n6n   C0nfusedGiirl   \n",
       "3           3  ca8zs0  thatviolabinch   \n",
       "4           4  c9xmsw       Raziasaur   \n",
       "\n",
       "                                               title  \\\n",
       "0  [SERIOUS] What are some good ways to build up ...   \n",
       "1       Daily Free-for-all Discussion- July 06, 2019   \n",
       "2  I hate when guys didn't respond and left me gu...   \n",
       "3  To the right person, you will perfectly make s...   \n",
       "4  If you have an unreciprocated crush on a frien...   \n",
       "\n",
       "                                            selftext            timestamp  \\\n",
       "0                                                NaN  2019-06-25 22:28:55   \n",
       "1  Welcome to /r/dating_advice. Please use this d...  2019-07-06 12:13:58   \n",
       "2  That's getting annoyed and time-wasting!\\n\\nI ...  2019-07-07 13:08:02   \n",
       "3  I guess this is kind of obvious, but I wanted ...  2019-07-07 16:56:26   \n",
       "4  I can’t tell you how many friendships have bee...  2019-07-06 19:34:47   \n",
       "\n",
       "   num_comments   ups      subreddit  \n",
       "0            52   104  dating_advice  \n",
       "1             1     4  dating_advice  \n",
       "2           123   348  dating_advice  \n",
       "3             6    52  dating_advice  \n",
       "4           162  2237  dating_advice  "
      ]
     },
     "execution_count": 3,
     "metadata": {},
     "output_type": "execute_result"
    }
   ],
   "source": [
    "dating = pd.read_csv('datasets/dating.csv')\n",
    "dating.head()"
   ]
  },
  {
   "cell_type": "code",
   "execution_count": 4,
   "metadata": {
    "scrolled": true
   },
   "outputs": [],
   "source": [
    "# train = pd.concat(objs=[relationship, dating], axis='rows', ignore_index=True)\n",
    "# original concatonation on first scrape "
   ]
  },
  {
   "cell_type": "markdown",
   "metadata": {},
   "source": [
    "Read in final csv with two scrapes from each subreddit."
   ]
  },
  {
   "cell_type": "code",
   "execution_count": 30,
   "metadata": {},
   "outputs": [],
   "source": [
    "train = pd.read_csv(\"datasets/big_train.csv\")"
   ]
  },
  {
   "cell_type": "code",
   "execution_count": 31,
   "metadata": {},
   "outputs": [
    {
     "name": "stdout",
     "output_type": "stream",
     "text": [
      "(3845, 9)\n"
     ]
    },
    {
     "data": {
      "text/html": [
       "<div>\n",
       "<style scoped>\n",
       "    .dataframe tbody tr th:only-of-type {\n",
       "        vertical-align: middle;\n",
       "    }\n",
       "\n",
       "    .dataframe tbody tr th {\n",
       "        vertical-align: top;\n",
       "    }\n",
       "\n",
       "    .dataframe thead th {\n",
       "        text-align: right;\n",
       "    }\n",
       "</style>\n",
       "<table border=\"1\" class=\"dataframe\">\n",
       "  <thead>\n",
       "    <tr style=\"text-align: right;\">\n",
       "      <th></th>\n",
       "      <th>Unnamed: 0</th>\n",
       "      <th>id</th>\n",
       "      <th>author</th>\n",
       "      <th>title</th>\n",
       "      <th>selftext</th>\n",
       "      <th>timestamp</th>\n",
       "      <th>num_comments</th>\n",
       "      <th>ups</th>\n",
       "      <th>subreddit</th>\n",
       "    </tr>\n",
       "  </thead>\n",
       "  <tbody>\n",
       "    <tr>\n",
       "      <th>0</th>\n",
       "      <td>0</td>\n",
       "      <td>cc1xgw</td>\n",
       "      <td>Zxnobia</td>\n",
       "      <td>When is it getting serious?</td>\n",
       "      <td>Hey, I’m relatively new to dating and therefor...</td>\n",
       "      <td>2019-07-11 21:54:37</td>\n",
       "      <td>1</td>\n",
       "      <td>1</td>\n",
       "      <td>dating_advice</td>\n",
       "    </tr>\n",
       "    <tr>\n",
       "      <th>1</th>\n",
       "      <td>1</td>\n",
       "      <td>cc1ro7</td>\n",
       "      <td>kittenlikeunicorn</td>\n",
       "      <td>I am having anxiety about a guy I just started...</td>\n",
       "      <td>I want to have another date, we’ve already wen...</td>\n",
       "      <td>2019-07-11 21:41:30</td>\n",
       "      <td>1</td>\n",
       "      <td>1</td>\n",
       "      <td>dating_advice</td>\n",
       "    </tr>\n",
       "    <tr>\n",
       "      <th>2</th>\n",
       "      <td>2</td>\n",
       "      <td>cc1ppg</td>\n",
       "      <td>whyisthisthrow</td>\n",
       "      <td>I feel like shit, and a moron, with nobody to ...</td>\n",
       "      <td>I met this girl around 4 years ago. At the tim...</td>\n",
       "      <td>2019-07-11 21:37:04</td>\n",
       "      <td>1</td>\n",
       "      <td>2</td>\n",
       "      <td>dating_advice</td>\n",
       "    </tr>\n",
       "    <tr>\n",
       "      <th>3</th>\n",
       "      <td>3</td>\n",
       "      <td>cc1p2b</td>\n",
       "      <td>lustinglost</td>\n",
       "      <td>How to deal with dates you don't feel a connec...</td>\n",
       "      <td>So you are dating around with different people...</td>\n",
       "      <td>2019-07-11 21:35:33</td>\n",
       "      <td>1</td>\n",
       "      <td>2</td>\n",
       "      <td>dating_advice</td>\n",
       "    </tr>\n",
       "    <tr>\n",
       "      <th>4</th>\n",
       "      <td>4</td>\n",
       "      <td>cc1j09</td>\n",
       "      <td>ScaredAboutScars</td>\n",
       "      <td>Am I shallow for screening out introverted guys?</td>\n",
       "      <td>I feel like a terrible person for this but I s...</td>\n",
       "      <td>2019-07-11 21:21:50</td>\n",
       "      <td>14</td>\n",
       "      <td>0</td>\n",
       "      <td>dating_advice</td>\n",
       "    </tr>\n",
       "  </tbody>\n",
       "</table>\n",
       "</div>"
      ],
      "text/plain": [
       "   Unnamed: 0      id             author  \\\n",
       "0           0  cc1xgw            Zxnobia   \n",
       "1           1  cc1ro7  kittenlikeunicorn   \n",
       "2           2  cc1ppg     whyisthisthrow   \n",
       "3           3  cc1p2b        lustinglost   \n",
       "4           4  cc1j09   ScaredAboutScars   \n",
       "\n",
       "                                               title  \\\n",
       "0                        When is it getting serious?   \n",
       "1  I am having anxiety about a guy I just started...   \n",
       "2  I feel like shit, and a moron, with nobody to ...   \n",
       "3  How to deal with dates you don't feel a connec...   \n",
       "4   Am I shallow for screening out introverted guys?   \n",
       "\n",
       "                                            selftext            timestamp  \\\n",
       "0  Hey, I’m relatively new to dating and therefor...  2019-07-11 21:54:37   \n",
       "1  I want to have another date, we’ve already wen...  2019-07-11 21:41:30   \n",
       "2  I met this girl around 4 years ago. At the tim...  2019-07-11 21:37:04   \n",
       "3  So you are dating around with different people...  2019-07-11 21:35:33   \n",
       "4  I feel like a terrible person for this but I s...  2019-07-11 21:21:50   \n",
       "\n",
       "   num_comments  ups      subreddit  \n",
       "0             1    1  dating_advice  \n",
       "1             1    1  dating_advice  \n",
       "2             1    2  dating_advice  \n",
       "3             1    2  dating_advice  \n",
       "4            14    0  dating_advice  "
      ]
     },
     "execution_count": 31,
     "metadata": {},
     "output_type": "execute_result"
    }
   ],
   "source": [
    "print(train.shape)\n",
    "train.head()"
   ]
  },
  {
   "cell_type": "code",
   "execution_count": 32,
   "metadata": {},
   "outputs": [
    {
     "data": {
      "text/html": [
       "<div>\n",
       "<style scoped>\n",
       "    .dataframe tbody tr th:only-of-type {\n",
       "        vertical-align: middle;\n",
       "    }\n",
       "\n",
       "    .dataframe tbody tr th {\n",
       "        vertical-align: top;\n",
       "    }\n",
       "\n",
       "    .dataframe thead th {\n",
       "        text-align: right;\n",
       "    }\n",
       "</style>\n",
       "<table border=\"1\" class=\"dataframe\">\n",
       "  <thead>\n",
       "    <tr style=\"text-align: right;\">\n",
       "      <th></th>\n",
       "      <th>Unnamed: 0</th>\n",
       "      <th>id</th>\n",
       "      <th>author</th>\n",
       "      <th>title</th>\n",
       "      <th>selftext</th>\n",
       "      <th>timestamp</th>\n",
       "      <th>num_comments</th>\n",
       "      <th>ups</th>\n",
       "      <th>subreddit</th>\n",
       "    </tr>\n",
       "  </thead>\n",
       "  <tbody>\n",
       "    <tr>\n",
       "      <th>3840</th>\n",
       "      <td>3873</td>\n",
       "      <td>c86o6u</td>\n",
       "      <td>mirphbla</td>\n",
       "      <td>How to continue with a good friend (29f)? Ask ...</td>\n",
       "      <td>Hey there.. (30m over here)\\n\\nSo first of all...</td>\n",
       "      <td>2019-07-02 08:23:47</td>\n",
       "      <td>4</td>\n",
       "      <td>4</td>\n",
       "      <td>dating_advice</td>\n",
       "    </tr>\n",
       "    <tr>\n",
       "      <th>3841</th>\n",
       "      <td>3874</td>\n",
       "      <td>c85neu</td>\n",
       "      <td>superpeephole</td>\n",
       "      <td>How do you meet new people?</td>\n",
       "      <td>Usually in person? In apps? I'm curious.</td>\n",
       "      <td>2019-07-02 06:11:16</td>\n",
       "      <td>9</td>\n",
       "      <td>7</td>\n",
       "      <td>dating_advice</td>\n",
       "    </tr>\n",
       "    <tr>\n",
       "      <th>3842</th>\n",
       "      <td>3875</td>\n",
       "      <td>c860py</td>\n",
       "      <td>sushilover77</td>\n",
       "      <td>Date with a YouTube Personality</td>\n",
       "      <td>I’ve (26F) been watching this YouTuber (29M) (...</td>\n",
       "      <td>2019-07-02 06:56:47</td>\n",
       "      <td>9</td>\n",
       "      <td>5</td>\n",
       "      <td>dating_advice</td>\n",
       "    </tr>\n",
       "    <tr>\n",
       "      <th>3843</th>\n",
       "      <td>3876</td>\n",
       "      <td>c878q5</td>\n",
       "      <td>randomproblems2today</td>\n",
       "      <td>I(23f) see some red flags in a very new situat...</td>\n",
       "      <td>I'm (23F) and the guy I'm \"dating\" is (29M). I...</td>\n",
       "      <td>2019-07-02 09:42:07</td>\n",
       "      <td>9</td>\n",
       "      <td>3</td>\n",
       "      <td>dating_advice</td>\n",
       "    </tr>\n",
       "    <tr>\n",
       "      <th>3844</th>\n",
       "      <td>3877</td>\n",
       "      <td>c8akrw</td>\n",
       "      <td>LostAsFuck98</td>\n",
       "      <td>The lack of intimacy is killing me NSFW. Sorry...</td>\n",
       "      <td>My boyfriend(21) and I (f21), have been togeth...</td>\n",
       "      <td>2019-07-02 15:27:13</td>\n",
       "      <td>6</td>\n",
       "      <td>1</td>\n",
       "      <td>dating_advice</td>\n",
       "    </tr>\n",
       "  </tbody>\n",
       "</table>\n",
       "</div>"
      ],
      "text/plain": [
       "      Unnamed: 0      id                author  \\\n",
       "3840        3873  c86o6u              mirphbla   \n",
       "3841        3874  c85neu         superpeephole   \n",
       "3842        3875  c860py          sushilover77   \n",
       "3843        3876  c878q5  randomproblems2today   \n",
       "3844        3877  c8akrw          LostAsFuck98   \n",
       "\n",
       "                                                  title  \\\n",
       "3840  How to continue with a good friend (29f)? Ask ...   \n",
       "3841                        How do you meet new people?   \n",
       "3842                    Date with a YouTube Personality   \n",
       "3843  I(23f) see some red flags in a very new situat...   \n",
       "3844  The lack of intimacy is killing me NSFW. Sorry...   \n",
       "\n",
       "                                               selftext            timestamp  \\\n",
       "3840  Hey there.. (30m over here)\\n\\nSo first of all...  2019-07-02 08:23:47   \n",
       "3841           Usually in person? In apps? I'm curious.  2019-07-02 06:11:16   \n",
       "3842  I’ve (26F) been watching this YouTuber (29M) (...  2019-07-02 06:56:47   \n",
       "3843  I'm (23F) and the guy I'm \"dating\" is (29M). I...  2019-07-02 09:42:07   \n",
       "3844  My boyfriend(21) and I (f21), have been togeth...  2019-07-02 15:27:13   \n",
       "\n",
       "      num_comments  ups      subreddit  \n",
       "3840             4    4  dating_advice  \n",
       "3841             9    7  dating_advice  \n",
       "3842             9    5  dating_advice  \n",
       "3843             9    3  dating_advice  \n",
       "3844             6    1  dating_advice  "
      ]
     },
     "execution_count": 32,
     "metadata": {},
     "output_type": "execute_result"
    }
   ],
   "source": [
    "train.tail()"
   ]
  },
  {
   "cell_type": "code",
   "execution_count": 33,
   "metadata": {},
   "outputs": [
    {
     "data": {
      "text/html": [
       "<div>\n",
       "<style scoped>\n",
       "    .dataframe tbody tr th:only-of-type {\n",
       "        vertical-align: middle;\n",
       "    }\n",
       "\n",
       "    .dataframe tbody tr th {\n",
       "        vertical-align: top;\n",
       "    }\n",
       "\n",
       "    .dataframe thead th {\n",
       "        text-align: right;\n",
       "    }\n",
       "</style>\n",
       "<table border=\"1\" class=\"dataframe\">\n",
       "  <thead>\n",
       "    <tr style=\"text-align: right;\">\n",
       "      <th></th>\n",
       "      <th>Unnamed: 0</th>\n",
       "      <th>id</th>\n",
       "      <th>author</th>\n",
       "      <th>title</th>\n",
       "      <th>selftext</th>\n",
       "      <th>timestamp</th>\n",
       "      <th>num_comments</th>\n",
       "      <th>ups</th>\n",
       "      <th>subreddit</th>\n",
       "    </tr>\n",
       "  </thead>\n",
       "  <tbody>\n",
       "    <tr>\n",
       "      <th>980</th>\n",
       "      <td>980</td>\n",
       "      <td>ca8w9k</td>\n",
       "      <td>ItachiUchiha1997</td>\n",
       "      <td>Do I really stand a chance with this girl? My ...</td>\n",
       "      <td>So, there is this co-worker of mine (23F). It'...</td>\n",
       "      <td>2019-07-07 16:47:55</td>\n",
       "      <td>5</td>\n",
       "      <td>3</td>\n",
       "      <td>dating_advice</td>\n",
       "    </tr>\n",
       "    <tr>\n",
       "      <th>981</th>\n",
       "      <td>981</td>\n",
       "      <td>ca8vpe</td>\n",
       "      <td>tinychameleoncatcher</td>\n",
       "      <td>Long and complicated situation with my ex-girl...</td>\n",
       "      <td>I still have extremely strong feelings for my ...</td>\n",
       "      <td>2019-07-07 16:46:33</td>\n",
       "      <td>7</td>\n",
       "      <td>3</td>\n",
       "      <td>dating_advice</td>\n",
       "    </tr>\n",
       "    <tr>\n",
       "      <th>982</th>\n",
       "      <td>982</td>\n",
       "      <td>ca8r68</td>\n",
       "      <td>areddituser44</td>\n",
       "      <td>Great first date. Awful texter?</td>\n",
       "      <td>So I (M30) has a great date a few days ago wit...</td>\n",
       "      <td>2019-07-07 16:35:10</td>\n",
       "      <td>17</td>\n",
       "      <td>4</td>\n",
       "      <td>dating_advice</td>\n",
       "    </tr>\n",
       "    <tr>\n",
       "      <th>983</th>\n",
       "      <td>983</td>\n",
       "      <td>ca8ppu</td>\n",
       "      <td>pm_me_ur_fave_murder</td>\n",
       "      <td>I (25F) think i need to break up with my bf (3...</td>\n",
       "      <td>I’ve been in this sub a LOT lately. Dating is ...</td>\n",
       "      <td>2019-07-07 16:31:38</td>\n",
       "      <td>3</td>\n",
       "      <td>4</td>\n",
       "      <td>dating_advice</td>\n",
       "    </tr>\n",
       "    <tr>\n",
       "      <th>984</th>\n",
       "      <td>984</td>\n",
       "      <td>ca8jh5</td>\n",
       "      <td>teddysready1</td>\n",
       "      <td>How do you navigate non-exclusive relationship...</td>\n",
       "      <td>I've been in a casual relationship (non-exclus...</td>\n",
       "      <td>2019-07-07 16:15:43</td>\n",
       "      <td>2</td>\n",
       "      <td>3</td>\n",
       "      <td>dating_advice</td>\n",
       "    </tr>\n",
       "    <tr>\n",
       "      <th>985</th>\n",
       "      <td>985</td>\n",
       "      <td>ca8j9p</td>\n",
       "      <td>mysteryduckworld</td>\n",
       "      <td>Should it matter the amount of people someone ...</td>\n",
       "      <td>Throw away account to keep this anonymous\\nI’v...</td>\n",
       "      <td>2019-07-07 16:15:12</td>\n",
       "      <td>17</td>\n",
       "      <td>5</td>\n",
       "      <td>dating_advice</td>\n",
       "    </tr>\n",
       "    <tr>\n",
       "      <th>986</th>\n",
       "      <td>986</td>\n",
       "      <td>caomx7</td>\n",
       "      <td>aspicer101</td>\n",
       "      <td>My 26yr old GF that has OCD with staring compu...</td>\n",
       "      <td>This is my first time dating a person with OCD...</td>\n",
       "      <td>2019-07-08 18:12:14</td>\n",
       "      <td>0</td>\n",
       "      <td>1</td>\n",
       "      <td>relationship_advice</td>\n",
       "    </tr>\n",
       "    <tr>\n",
       "      <th>987</th>\n",
       "      <td>987</td>\n",
       "      <td>caomuh</td>\n",
       "      <td>Tiathomas</td>\n",
       "      <td>Best friend becomes lover</td>\n",
       "      <td>Hi ! I have fallen in love with my childhood b...</td>\n",
       "      <td>2019-07-08 18:12:05</td>\n",
       "      <td>0</td>\n",
       "      <td>1</td>\n",
       "      <td>relationship_advice</td>\n",
       "    </tr>\n",
       "    <tr>\n",
       "      <th>988</th>\n",
       "      <td>988</td>\n",
       "      <td>caomsk</td>\n",
       "      <td>emstyler</td>\n",
       "      <td>I (30M) think I made a humongous mistake break...</td>\n",
       "      <td>I think I could use some help with clarity her...</td>\n",
       "      <td>2019-07-08 18:11:59</td>\n",
       "      <td>0</td>\n",
       "      <td>1</td>\n",
       "      <td>relationship_advice</td>\n",
       "    </tr>\n",
       "    <tr>\n",
       "      <th>989</th>\n",
       "      <td>989</td>\n",
       "      <td>caoml0</td>\n",
       "      <td>bf_advice_throwaway</td>\n",
       "      <td>24 F relationship with 23 M ended suddenly. I ...</td>\n",
       "      <td>I do not know how to navigate the plethora of ...</td>\n",
       "      <td>2019-07-08 18:11:30</td>\n",
       "      <td>0</td>\n",
       "      <td>1</td>\n",
       "      <td>relationship_advice</td>\n",
       "    </tr>\n",
       "  </tbody>\n",
       "</table>\n",
       "</div>"
      ],
      "text/plain": [
       "     Unnamed: 0      id                author  \\\n",
       "980         980  ca8w9k      ItachiUchiha1997   \n",
       "981         981  ca8vpe  tinychameleoncatcher   \n",
       "982         982  ca8r68         areddituser44   \n",
       "983         983  ca8ppu  pm_me_ur_fave_murder   \n",
       "984         984  ca8jh5          teddysready1   \n",
       "985         985  ca8j9p      mysteryduckworld   \n",
       "986         986  caomx7            aspicer101   \n",
       "987         987  caomuh             Tiathomas   \n",
       "988         988  caomsk              emstyler   \n",
       "989         989  caoml0   bf_advice_throwaway   \n",
       "\n",
       "                                                 title  \\\n",
       "980  Do I really stand a chance with this girl? My ...   \n",
       "981  Long and complicated situation with my ex-girl...   \n",
       "982                    Great first date. Awful texter?   \n",
       "983  I (25F) think i need to break up with my bf (3...   \n",
       "984  How do you navigate non-exclusive relationship...   \n",
       "985  Should it matter the amount of people someone ...   \n",
       "986  My 26yr old GF that has OCD with staring compu...   \n",
       "987                          Best friend becomes lover   \n",
       "988  I (30M) think I made a humongous mistake break...   \n",
       "989  24 F relationship with 23 M ended suddenly. I ...   \n",
       "\n",
       "                                              selftext            timestamp  \\\n",
       "980  So, there is this co-worker of mine (23F). It'...  2019-07-07 16:47:55   \n",
       "981  I still have extremely strong feelings for my ...  2019-07-07 16:46:33   \n",
       "982  So I (M30) has a great date a few days ago wit...  2019-07-07 16:35:10   \n",
       "983  I’ve been in this sub a LOT lately. Dating is ...  2019-07-07 16:31:38   \n",
       "984  I've been in a casual relationship (non-exclus...  2019-07-07 16:15:43   \n",
       "985  Throw away account to keep this anonymous\\nI’v...  2019-07-07 16:15:12   \n",
       "986  This is my first time dating a person with OCD...  2019-07-08 18:12:14   \n",
       "987  Hi ! I have fallen in love with my childhood b...  2019-07-08 18:12:05   \n",
       "988  I think I could use some help with clarity her...  2019-07-08 18:11:59   \n",
       "989  I do not know how to navigate the plethora of ...  2019-07-08 18:11:30   \n",
       "\n",
       "     num_comments  ups            subreddit  \n",
       "980             5    3        dating_advice  \n",
       "981             7    3        dating_advice  \n",
       "982            17    4        dating_advice  \n",
       "983             3    4        dating_advice  \n",
       "984             2    3        dating_advice  \n",
       "985            17    5        dating_advice  \n",
       "986             0    1  relationship_advice  \n",
       "987             0    1  relationship_advice  \n",
       "988             0    1  relationship_advice  \n",
       "989             0    1  relationship_advice  "
      ]
     },
     "execution_count": 33,
     "metadata": {},
     "output_type": "execute_result"
    }
   ],
   "source": [
    "train.iloc[980:990, :]\n",
    "#checking to make sure the index doesn't start over at 0 where the Dataframes were concatonated "
   ]
  },
  {
   "cell_type": "markdown",
   "metadata": {},
   "source": [
    "Check for null values."
   ]
  },
  {
   "cell_type": "code",
   "execution_count": 34,
   "metadata": {},
   "outputs": [
    {
     "data": {
      "text/plain": [
       "Unnamed: 0      0.000000\n",
       "id              0.000000\n",
       "author          0.000000\n",
       "title           0.000000\n",
       "selftext        0.017685\n",
       "timestamp       0.000000\n",
       "num_comments    0.000000\n",
       "ups             0.000000\n",
       "subreddit       0.000000\n",
       "dtype: float64"
      ]
     },
     "execution_count": 34,
     "metadata": {},
     "output_type": "execute_result"
    }
   ],
   "source": [
    "train.isnull().mean()"
   ]
  },
  {
   "cell_type": "markdown",
   "metadata": {},
   "source": [
    "Since the null rows only make up less than 2% of my rows, I will just drop them. "
   ]
  },
  {
   "cell_type": "code",
   "execution_count": 35,
   "metadata": {},
   "outputs": [],
   "source": [
    "train.dropna(inplace=True)"
   ]
  },
  {
   "cell_type": "code",
   "execution_count": 36,
   "metadata": {},
   "outputs": [
    {
     "data": {
      "text/plain": [
       "Unnamed: 0      0\n",
       "id              0\n",
       "author          0\n",
       "title           0\n",
       "selftext        0\n",
       "timestamp       0\n",
       "num_comments    0\n",
       "ups             0\n",
       "subreddit       0\n",
       "dtype: int64"
      ]
     },
     "execution_count": 36,
     "metadata": {},
     "output_type": "execute_result"
    }
   ],
   "source": [
    "train.isnull().sum()"
   ]
  },
  {
   "cell_type": "markdown",
   "metadata": {},
   "source": [
    "Continuing to clean the data, I'll drop unncessary columns. "
   ]
  },
  {
   "cell_type": "code",
   "execution_count": 37,
   "metadata": {},
   "outputs": [],
   "source": [
    "train.drop(columns = ['Unnamed: 0'], inplace = True)\n"
   ]
  },
  {
   "cell_type": "markdown",
   "metadata": {},
   "source": [
    "Check the shape after dropping rows and columns."
   ]
  },
  {
   "cell_type": "code",
   "execution_count": 38,
   "metadata": {},
   "outputs": [
    {
     "data": {
      "text/plain": [
       "(3777, 8)"
      ]
     },
     "execution_count": 38,
     "metadata": {},
     "output_type": "execute_result"
    }
   ],
   "source": [
    "train.shape\n"
   ]
  },
  {
   "cell_type": "markdown",
   "metadata": {},
   "source": [
    "Check data types to make sure they are in a form that is useful for processing, and everything makes sense so far."
   ]
  },
  {
   "cell_type": "code",
   "execution_count": 39,
   "metadata": {},
   "outputs": [
    {
     "data": {
      "text/plain": [
       "id              object\n",
       "author          object\n",
       "title           object\n",
       "selftext        object\n",
       "timestamp       object\n",
       "num_comments     int64\n",
       "ups              int64\n",
       "subreddit       object\n",
       "dtype: object"
      ]
     },
     "execution_count": 39,
     "metadata": {},
     "output_type": "execute_result"
    }
   ],
   "source": [
    "train.dtypes"
   ]
  },
  {
   "cell_type": "code",
   "execution_count": 40,
   "metadata": {},
   "outputs": [
    {
     "data": {
      "text/html": [
       "<div>\n",
       "<style scoped>\n",
       "    .dataframe tbody tr th:only-of-type {\n",
       "        vertical-align: middle;\n",
       "    }\n",
       "\n",
       "    .dataframe tbody tr th {\n",
       "        vertical-align: top;\n",
       "    }\n",
       "\n",
       "    .dataframe thead th {\n",
       "        text-align: right;\n",
       "    }\n",
       "</style>\n",
       "<table border=\"1\" class=\"dataframe\">\n",
       "  <thead>\n",
       "    <tr style=\"text-align: right;\">\n",
       "      <th></th>\n",
       "      <th>title</th>\n",
       "      <th>selftext</th>\n",
       "    </tr>\n",
       "  </thead>\n",
       "  <tbody>\n",
       "    <tr>\n",
       "      <th>0</th>\n",
       "      <td>When is it getting serious?</td>\n",
       "      <td>Hey, I’m relatively new to dating and therefor...</td>\n",
       "    </tr>\n",
       "    <tr>\n",
       "      <th>1</th>\n",
       "      <td>I am having anxiety about a guy I just started...</td>\n",
       "      <td>I want to have another date, we’ve already wen...</td>\n",
       "    </tr>\n",
       "    <tr>\n",
       "      <th>2</th>\n",
       "      <td>I feel like shit, and a moron, with nobody to ...</td>\n",
       "      <td>I met this girl around 4 years ago. At the tim...</td>\n",
       "    </tr>\n",
       "    <tr>\n",
       "      <th>3</th>\n",
       "      <td>How to deal with dates you don't feel a connec...</td>\n",
       "      <td>So you are dating around with different people...</td>\n",
       "    </tr>\n",
       "    <tr>\n",
       "      <th>4</th>\n",
       "      <td>Am I shallow for screening out introverted guys?</td>\n",
       "      <td>I feel like a terrible person for this but I s...</td>\n",
       "    </tr>\n",
       "  </tbody>\n",
       "</table>\n",
       "</div>"
      ],
      "text/plain": [
       "                                               title  \\\n",
       "0                        When is it getting serious?   \n",
       "1  I am having anxiety about a guy I just started...   \n",
       "2  I feel like shit, and a moron, with nobody to ...   \n",
       "3  How to deal with dates you don't feel a connec...   \n",
       "4   Am I shallow for screening out introverted guys?   \n",
       "\n",
       "                                            selftext  \n",
       "0  Hey, I’m relatively new to dating and therefor...  \n",
       "1  I want to have another date, we’ve already wen...  \n",
       "2  I met this girl around 4 years ago. At the tim...  \n",
       "3  So you are dating around with different people...  \n",
       "4  I feel like a terrible person for this but I s...  "
      ]
     },
     "execution_count": 40,
     "metadata": {},
     "output_type": "execute_result"
    }
   ],
   "source": [
    "train[['title', 'selftext']].head()"
   ]
  },
  {
   "cell_type": "markdown",
   "metadata": {},
   "source": [
    "Combine the two text columns, `title` and `selftext` together into one new column called `all_text`"
   ]
  },
  {
   "cell_type": "code",
   "execution_count": 41,
   "metadata": {},
   "outputs": [],
   "source": [
    "train['all_text'] = train['title'] + train['selftext']"
   ]
  },
  {
   "cell_type": "markdown",
   "metadata": {},
   "source": [
    "Binarize the target `y` column values to be 0 and 1."
   ]
  },
  {
   "cell_type": "code",
   "execution_count": 42,
   "metadata": {
    "scrolled": true
   },
   "outputs": [
    {
     "data": {
      "text/plain": [
       "array(['dating_advice', 'relationship_advice'], dtype=object)"
      ]
     },
     "execution_count": 42,
     "metadata": {},
     "output_type": "execute_result"
    }
   ],
   "source": [
    "train['subreddit'].unique()"
   ]
  },
  {
   "cell_type": "code",
   "execution_count": 43,
   "metadata": {},
   "outputs": [],
   "source": [
    "train['subreddit'] = train['subreddit'].map({'dating_advice': 0, 'relationship_advice': 1})\n",
    "# binarizing my target(y) column using .map"
   ]
  },
  {
   "cell_type": "code",
   "execution_count": 44,
   "metadata": {},
   "outputs": [
    {
     "data": {
      "text/plain": [
       "1    1971\n",
       "0    1806\n",
       "Name: subreddit, dtype: int64"
      ]
     },
     "execution_count": 44,
     "metadata": {},
     "output_type": "execute_result"
    }
   ],
   "source": [
    "train['subreddit'].value_counts()\n",
    "#checking to see if it worked "
   ]
  },
  {
   "cell_type": "code",
   "execution_count": 45,
   "metadata": {},
   "outputs": [
    {
     "data": {
      "image/png": "[encoded data removed]",
      "text/plain": [
       "<Figure size 432x288 with 1 Axes>"
      ]
     },
     "metadata": {
      "needs_background": "light"
     },
     "output_type": "display_data"
    }
   ],
   "source": [
    "train['subreddit'].hist();"
   ]
  },
  {
   "cell_type": "code",
   "execution_count": 46,
   "metadata": {},
   "outputs": [
    {
     "data": {
      "text/html": [
       "<div>\n",
       "<style scoped>\n",
       "    .dataframe tbody tr th:only-of-type {\n",
       "        vertical-align: middle;\n",
       "    }\n",
       "\n",
       "    .dataframe tbody tr th {\n",
       "        vertical-align: top;\n",
       "    }\n",
       "\n",
       "    .dataframe thead th {\n",
       "        text-align: right;\n",
       "    }\n",
       "</style>\n",
       "<table border=\"1\" class=\"dataframe\">\n",
       "  <thead>\n",
       "    <tr style=\"text-align: right;\">\n",
       "      <th></th>\n",
       "      <th>id</th>\n",
       "      <th>author</th>\n",
       "      <th>title</th>\n",
       "      <th>selftext</th>\n",
       "      <th>timestamp</th>\n",
       "      <th>num_comments</th>\n",
       "      <th>ups</th>\n",
       "      <th>subreddit</th>\n",
       "      <th>all_text</th>\n",
       "    </tr>\n",
       "  </thead>\n",
       "  <tbody>\n",
       "    <tr>\n",
       "      <th>0</th>\n",
       "      <td>cc1xgw</td>\n",
       "      <td>Zxnobia</td>\n",
       "      <td>When is it getting serious?</td>\n",
       "      <td>Hey, I’m relatively new to dating and therefor...</td>\n",
       "      <td>2019-07-11 21:54:37</td>\n",
       "      <td>1</td>\n",
       "      <td>1</td>\n",
       "      <td>0</td>\n",
       "      <td>When is it getting serious?Hey, I’m relatively...</td>\n",
       "    </tr>\n",
       "    <tr>\n",
       "      <th>1</th>\n",
       "      <td>cc1ro7</td>\n",
       "      <td>kittenlikeunicorn</td>\n",
       "      <td>I am having anxiety about a guy I just started...</td>\n",
       "      <td>I want to have another date, we’ve already wen...</td>\n",
       "      <td>2019-07-11 21:41:30</td>\n",
       "      <td>1</td>\n",
       "      <td>1</td>\n",
       "      <td>0</td>\n",
       "      <td>I am having anxiety about a guy I just started...</td>\n",
       "    </tr>\n",
       "    <tr>\n",
       "      <th>2</th>\n",
       "      <td>cc1ppg</td>\n",
       "      <td>whyisthisthrow</td>\n",
       "      <td>I feel like shit, and a moron, with nobody to ...</td>\n",
       "      <td>I met this girl around 4 years ago. At the tim...</td>\n",
       "      <td>2019-07-11 21:37:04</td>\n",
       "      <td>1</td>\n",
       "      <td>2</td>\n",
       "      <td>0</td>\n",
       "      <td>I feel like shit, and a moron, with nobody to ...</td>\n",
       "    </tr>\n",
       "    <tr>\n",
       "      <th>3</th>\n",
       "      <td>cc1p2b</td>\n",
       "      <td>lustinglost</td>\n",
       "      <td>How to deal with dates you don't feel a connec...</td>\n",
       "      <td>So you are dating around with different people...</td>\n",
       "      <td>2019-07-11 21:35:33</td>\n",
       "      <td>1</td>\n",
       "      <td>2</td>\n",
       "      <td>0</td>\n",
       "      <td>How to deal with dates you don't feel a connec...</td>\n",
       "    </tr>\n",
       "    <tr>\n",
       "      <th>4</th>\n",
       "      <td>cc1j09</td>\n",
       "      <td>ScaredAboutScars</td>\n",
       "      <td>Am I shallow for screening out introverted guys?</td>\n",
       "      <td>I feel like a terrible person for this but I s...</td>\n",
       "      <td>2019-07-11 21:21:50</td>\n",
       "      <td>14</td>\n",
       "      <td>0</td>\n",
       "      <td>0</td>\n",
       "      <td>Am I shallow for screening out introverted guy...</td>\n",
       "    </tr>\n",
       "  </tbody>\n",
       "</table>\n",
       "</div>"
      ],
      "text/plain": [
       "       id             author  \\\n",
       "0  cc1xgw            Zxnobia   \n",
       "1  cc1ro7  kittenlikeunicorn   \n",
       "2  cc1ppg     whyisthisthrow   \n",
       "3  cc1p2b        lustinglost   \n",
       "4  cc1j09   ScaredAboutScars   \n",
       "\n",
       "                                               title  \\\n",
       "0                        When is it getting serious?   \n",
       "1  I am having anxiety about a guy I just started...   \n",
       "2  I feel like shit, and a moron, with nobody to ...   \n",
       "3  How to deal with dates you don't feel a connec...   \n",
       "4   Am I shallow for screening out introverted guys?   \n",
       "\n",
       "                                            selftext            timestamp  \\\n",
       "0  Hey, I’m relatively new to dating and therefor...  2019-07-11 21:54:37   \n",
       "1  I want to have another date, we’ve already wen...  2019-07-11 21:41:30   \n",
       "2  I met this girl around 4 years ago. At the tim...  2019-07-11 21:37:04   \n",
       "3  So you are dating around with different people...  2019-07-11 21:35:33   \n",
       "4  I feel like a terrible person for this but I s...  2019-07-11 21:21:50   \n",
       "\n",
       "   num_comments  ups  subreddit  \\\n",
       "0             1    1          0   \n",
       "1             1    1          0   \n",
       "2             1    2          0   \n",
       "3             1    2          0   \n",
       "4            14    0          0   \n",
       "\n",
       "                                            all_text  \n",
       "0  When is it getting serious?Hey, I’m relatively...  \n",
       "1  I am having anxiety about a guy I just started...  \n",
       "2  I feel like shit, and a moron, with nobody to ...  \n",
       "3  How to deal with dates you don't feel a connec...  \n",
       "4  Am I shallow for screening out introverted guy...  "
      ]
     },
     "execution_count": 46,
     "metadata": {},
     "output_type": "execute_result"
    }
   ],
   "source": [
    "train.head()\n",
    "#checking to see if all of the above applied to my DataFrame."
   ]
  },
  {
   "cell_type": "markdown",
   "metadata": {},
   "source": [
    "Save to csv."
   ]
  },
  {
   "cell_type": "code",
   "execution_count": 47,
   "metadata": {},
   "outputs": [],
   "source": [
    "# train.to_csv('datasets/clean_big_train.csv')\n",
    "# commented out to not override original save"
   ]
  },
  {
   "cell_type": "markdown",
   "metadata": {},
   "source": [
    "Check for descriptive statistics."
   ]
  },
  {
   "cell_type": "code",
   "execution_count": 48,
   "metadata": {
    "scrolled": true
   },
   "outputs": [
    {
     "data": {
      "text/html": [
       "<div>\n",
       "<style scoped>\n",
       "    .dataframe tbody tr th:only-of-type {\n",
       "        vertical-align: middle;\n",
       "    }\n",
       "\n",
       "    .dataframe tbody tr th {\n",
       "        vertical-align: top;\n",
       "    }\n",
       "\n",
       "    .dataframe thead th {\n",
       "        text-align: right;\n",
       "    }\n",
       "</style>\n",
       "<table border=\"1\" class=\"dataframe\">\n",
       "  <thead>\n",
       "    <tr style=\"text-align: right;\">\n",
       "      <th></th>\n",
       "      <th>num_comments</th>\n",
       "      <th>ups</th>\n",
       "      <th>subreddit</th>\n",
       "    </tr>\n",
       "  </thead>\n",
       "  <tbody>\n",
       "    <tr>\n",
       "      <th>count</th>\n",
       "      <td>3777.000000</td>\n",
       "      <td>3777.000000</td>\n",
       "      <td>3777.000000</td>\n",
       "    </tr>\n",
       "    <tr>\n",
       "      <th>mean</th>\n",
       "      <td>13.374106</td>\n",
       "      <td>36.393699</td>\n",
       "      <td>0.521843</td>\n",
       "    </tr>\n",
       "    <tr>\n",
       "      <th>std</th>\n",
       "      <td>109.186185</td>\n",
       "      <td>484.645303</td>\n",
       "      <td>0.499589</td>\n",
       "    </tr>\n",
       "    <tr>\n",
       "      <th>min</th>\n",
       "      <td>0.000000</td>\n",
       "      <td>0.000000</td>\n",
       "      <td>0.000000</td>\n",
       "    </tr>\n",
       "    <tr>\n",
       "      <th>25%</th>\n",
       "      <td>3.000000</td>\n",
       "      <td>1.000000</td>\n",
       "      <td>0.000000</td>\n",
       "    </tr>\n",
       "    <tr>\n",
       "      <th>50%</th>\n",
       "      <td>5.000000</td>\n",
       "      <td>1.000000</td>\n",
       "      <td>1.000000</td>\n",
       "    </tr>\n",
       "    <tr>\n",
       "      <th>75%</th>\n",
       "      <td>9.000000</td>\n",
       "      <td>3.000000</td>\n",
       "      <td>1.000000</td>\n",
       "    </tr>\n",
       "    <tr>\n",
       "      <th>max</th>\n",
       "      <td>5732.000000</td>\n",
       "      <td>21144.000000</td>\n",
       "      <td>1.000000</td>\n",
       "    </tr>\n",
       "  </tbody>\n",
       "</table>\n",
       "</div>"
      ],
      "text/plain": [
       "       num_comments           ups    subreddit\n",
       "count   3777.000000   3777.000000  3777.000000\n",
       "mean      13.374106     36.393699     0.521843\n",
       "std      109.186185    484.645303     0.499589\n",
       "min        0.000000      0.000000     0.000000\n",
       "25%        3.000000      1.000000     0.000000\n",
       "50%        5.000000      1.000000     1.000000\n",
       "75%        9.000000      3.000000     1.000000\n",
       "max     5732.000000  21144.000000     1.000000"
      ]
     },
     "execution_count": 48,
     "metadata": {},
     "output_type": "execute_result"
    }
   ],
   "source": [
    "train.describe()"
   ]
  },
  {
   "cell_type": "markdown",
   "metadata": {},
   "source": [
    "Instantiate Regular Expressions Tokenizer."
   ]
  },
  {
   "cell_type": "code",
   "execution_count": 49,
   "metadata": {},
   "outputs": [],
   "source": [
    "tokenizer = RegexpTokenizer('\\w+|\\$[\\d\\.]+|\\S+')"
   ]
  },
  {
   "cell_type": "markdown",
   "metadata": {},
   "source": [
    "Tokenize the two text columns, `title` and `selftext`."
   ]
  },
  {
   "cell_type": "code",
   "execution_count": 50,
   "metadata": {},
   "outputs": [],
   "source": [
    "train['token_titles'] = train['title'].apply(tokenizer.tokenize)"
   ]
  },
  {
   "cell_type": "code",
   "execution_count": 51,
   "metadata": {},
   "outputs": [],
   "source": [
    "train['token_selftext'] = train['selftext'].apply(tokenizer.tokenize)"
   ]
  },
  {
   "cell_type": "code",
   "execution_count": 52,
   "metadata": {},
   "outputs": [
    {
     "data": {
      "text/html": [
       "<div>\n",
       "<style scoped>\n",
       "    .dataframe tbody tr th:only-of-type {\n",
       "        vertical-align: middle;\n",
       "    }\n",
       "\n",
       "    .dataframe tbody tr th {\n",
       "        vertical-align: top;\n",
       "    }\n",
       "\n",
       "    .dataframe thead th {\n",
       "        text-align: right;\n",
       "    }\n",
       "</style>\n",
       "<table border=\"1\" class=\"dataframe\">\n",
       "  <thead>\n",
       "    <tr style=\"text-align: right;\">\n",
       "      <th></th>\n",
       "      <th>id</th>\n",
       "      <th>author</th>\n",
       "      <th>title</th>\n",
       "      <th>selftext</th>\n",
       "      <th>timestamp</th>\n",
       "      <th>num_comments</th>\n",
       "      <th>ups</th>\n",
       "      <th>subreddit</th>\n",
       "      <th>all_text</th>\n",
       "      <th>token_titles</th>\n",
       "      <th>token_selftext</th>\n",
       "    </tr>\n",
       "  </thead>\n",
       "  <tbody>\n",
       "    <tr>\n",
       "      <th>0</th>\n",
       "      <td>cc1xgw</td>\n",
       "      <td>Zxnobia</td>\n",
       "      <td>When is it getting serious?</td>\n",
       "      <td>Hey, I’m relatively new to dating and therefor...</td>\n",
       "      <td>2019-07-11 21:54:37</td>\n",
       "      <td>1</td>\n",
       "      <td>1</td>\n",
       "      <td>0</td>\n",
       "      <td>When is it getting serious?Hey, I’m relatively...</td>\n",
       "      <td>[When, is, it, getting, serious, ?]</td>\n",
       "      <td>[Hey, ,, I, ’m, relatively, new, to, dating, a...</td>\n",
       "    </tr>\n",
       "    <tr>\n",
       "      <th>1</th>\n",
       "      <td>cc1ro7</td>\n",
       "      <td>kittenlikeunicorn</td>\n",
       "      <td>I am having anxiety about a guy I just started...</td>\n",
       "      <td>I want to have another date, we’ve already wen...</td>\n",
       "      <td>2019-07-11 21:41:30</td>\n",
       "      <td>1</td>\n",
       "      <td>1</td>\n",
       "      <td>0</td>\n",
       "      <td>I am having anxiety about a guy I just started...</td>\n",
       "      <td>[I, am, having, anxiety, about, a, guy, I, jus...</td>\n",
       "      <td>[I, want, to, have, another, date, ,, we, ’ve,...</td>\n",
       "    </tr>\n",
       "    <tr>\n",
       "      <th>2</th>\n",
       "      <td>cc1ppg</td>\n",
       "      <td>whyisthisthrow</td>\n",
       "      <td>I feel like shit, and a moron, with nobody to ...</td>\n",
       "      <td>I met this girl around 4 years ago. At the tim...</td>\n",
       "      <td>2019-07-11 21:37:04</td>\n",
       "      <td>1</td>\n",
       "      <td>2</td>\n",
       "      <td>0</td>\n",
       "      <td>I feel like shit, and a moron, with nobody to ...</td>\n",
       "      <td>[I, feel, like, shit, ,, and, a, moron, ,, wit...</td>\n",
       "      <td>[I, met, this, girl, around, 4, years, ago, .,...</td>\n",
       "    </tr>\n",
       "    <tr>\n",
       "      <th>3</th>\n",
       "      <td>cc1p2b</td>\n",
       "      <td>lustinglost</td>\n",
       "      <td>How to deal with dates you don't feel a connec...</td>\n",
       "      <td>So you are dating around with different people...</td>\n",
       "      <td>2019-07-11 21:35:33</td>\n",
       "      <td>1</td>\n",
       "      <td>2</td>\n",
       "      <td>0</td>\n",
       "      <td>How to deal with dates you don't feel a connec...</td>\n",
       "      <td>[How, to, deal, with, dates, you, don, 't, fee...</td>\n",
       "      <td>[So, you, are, dating, around, with, different...</td>\n",
       "    </tr>\n",
       "    <tr>\n",
       "      <th>4</th>\n",
       "      <td>cc1j09</td>\n",
       "      <td>ScaredAboutScars</td>\n",
       "      <td>Am I shallow for screening out introverted guys?</td>\n",
       "      <td>I feel like a terrible person for this but I s...</td>\n",
       "      <td>2019-07-11 21:21:50</td>\n",
       "      <td>14</td>\n",
       "      <td>0</td>\n",
       "      <td>0</td>\n",
       "      <td>Am I shallow for screening out introverted guy...</td>\n",
       "      <td>[Am, I, shallow, for, screening, out, introver...</td>\n",
       "      <td>[I, feel, like, a, terrible, person, for, this...</td>\n",
       "    </tr>\n",
       "  </tbody>\n",
       "</table>\n",
       "</div>"
      ],
      "text/plain": [
       "       id             author  \\\n",
       "0  cc1xgw            Zxnobia   \n",
       "1  cc1ro7  kittenlikeunicorn   \n",
       "2  cc1ppg     whyisthisthrow   \n",
       "3  cc1p2b        lustinglost   \n",
       "4  cc1j09   ScaredAboutScars   \n",
       "\n",
       "                                               title  \\\n",
       "0                        When is it getting serious?   \n",
       "1  I am having anxiety about a guy I just started...   \n",
       "2  I feel like shit, and a moron, with nobody to ...   \n",
       "3  How to deal with dates you don't feel a connec...   \n",
       "4   Am I shallow for screening out introverted guys?   \n",
       "\n",
       "                                            selftext            timestamp  \\\n",
       "0  Hey, I’m relatively new to dating and therefor...  2019-07-11 21:54:37   \n",
       "1  I want to have another date, we’ve already wen...  2019-07-11 21:41:30   \n",
       "2  I met this girl around 4 years ago. At the tim...  2019-07-11 21:37:04   \n",
       "3  So you are dating around with different people...  2019-07-11 21:35:33   \n",
       "4  I feel like a terrible person for this but I s...  2019-07-11 21:21:50   \n",
       "\n",
       "   num_comments  ups  subreddit  \\\n",
       "0             1    1          0   \n",
       "1             1    1          0   \n",
       "2             1    2          0   \n",
       "3             1    2          0   \n",
       "4            14    0          0   \n",
       "\n",
       "                                            all_text  \\\n",
       "0  When is it getting serious?Hey, I’m relatively...   \n",
       "1  I am having anxiety about a guy I just started...   \n",
       "2  I feel like shit, and a moron, with nobody to ...   \n",
       "3  How to deal with dates you don't feel a connec...   \n",
       "4  Am I shallow for screening out introverted guy...   \n",
       "\n",
       "                                        token_titles  \\\n",
       "0                [When, is, it, getting, serious, ?]   \n",
       "1  [I, am, having, anxiety, about, a, guy, I, jus...   \n",
       "2  [I, feel, like, shit, ,, and, a, moron, ,, wit...   \n",
       "3  [How, to, deal, with, dates, you, don, 't, fee...   \n",
       "4  [Am, I, shallow, for, screening, out, introver...   \n",
       "\n",
       "                                      token_selftext  \n",
       "0  [Hey, ,, I, ’m, relatively, new, to, dating, a...  \n",
       "1  [I, want, to, have, another, date, ,, we, ’ve,...  \n",
       "2  [I, met, this, girl, around, 4, years, ago, .,...  \n",
       "3  [So, you, are, dating, around, with, different...  \n",
       "4  [I, feel, like, a, terrible, person, for, this...  "
      ]
     },
     "execution_count": 52,
     "metadata": {},
     "output_type": "execute_result"
    }
   ],
   "source": [
    "train.head()"
   ]
  },
  {
   "cell_type": "markdown",
   "metadata": {},
   "source": [
    "Compare distribution of numerical column `num_comments`."
   ]
  },
  {
   "cell_type": "code",
   "execution_count": 53,
   "metadata": {},
   "outputs": [
    {
     "data": {
      "text/plain": [
       "<matplotlib.axes._subplots.AxesSubplot at 0x1a2f0afc88>"
      ]
     },
     "execution_count": 53,
     "metadata": {},
     "output_type": "execute_result"
    },
    {
     "data": {
      "image/png": "[encoded data removed]",
      "text/plain": [
       "<Figure size 432x288 with 1 Axes>"
      ]
     },
     "metadata": {
      "needs_background": "light"
     },
     "output_type": "display_data"
    }
   ],
   "source": [
    "train.boxplot('num_comments', by=\"subreddit\")"
   ]
  },
  {
   "cell_type": "markdown",
   "metadata": {},
   "source": [
    "Create a function for finding the most frequent words in the `title` and `selftext` columns."
   ]
  },
  {
   "cell_type": "code",
   "execution_count": 54,
   "metadata": {},
   "outputs": [],
   "source": [
    "def get_top_n_words(corpus, n=None):\n",
    "    # instantiate countvectorizer with paramater to remove stop words and fit to data.\n",
    "    cvec = CountVectorizer(stop_words = 'english').fit(corpus)\n",
    "    # transform corpus.\n",
    "    bag_of_words = cvec.transform(corpus)\n",
    "    # convert to a numpy matrix\n",
    "    sum_words = bag_of_words.sum(axis=0) \n",
    "    #find the words and their counts \n",
    "    words_freq = [(word, sum_words[0, idx]) for word, idx in cvec.vocabulary_.items()]\n",
    "    #sort the words from most frequent to least\n",
    "    words_freq =sorted(words_freq, key = lambda x: x[1], reverse=True)\n",
    "    return words_freq[:n]\n",
    "\n",
    "#code adapted from https://towardsdatascience.com/a-complete-exploratory-data-analysis-and-visualization-for-text-data-29fb1b96fb6a"
   ]
  },
  {
   "cell_type": "markdown",
   "metadata": {},
   "source": [
    "Run a for loop to find the top 20 most frequent words for the `title` column."
   ]
  },
  {
   "cell_type": "code",
   "execution_count": 58,
   "metadata": {},
   "outputs": [
    {
     "name": "stdout",
     "output_type": "stream",
     "text": [
      "relationship 310\n",
      "girlfriend 278\n",
      "boyfriend 277\n",
      "girl 273\n",
      "friend 265\n",
      "know 251\n",
      "don 236\n",
      "dating 212\n",
      "like 201\n",
      "date 192\n",
      "advice 182\n",
      "help 182\n",
      "want 180\n",
      "just 173\n",
      "need 156\n",
      "ex 154\n",
      "feel 150\n",
      "guy 139\n",
      "gf 126\n",
      "friends 121\n"
     ]
    }
   ],
   "source": [
    "common_words = get_top_n_words(train['title'], 20)\n",
    "for word, freq in common_words:\n",
    "    print(word, freq)"
   ]
  },
  {
   "cell_type": "markdown",
   "metadata": {},
   "source": [
    "Run a for loop to find the top 20 most frequent words for the `selftext` column."
   ]
  },
  {
   "cell_type": "code",
   "execution_count": 59,
   "metadata": {},
   "outputs": [
    {
     "name": "stdout",
     "output_type": "stream",
     "text": [
      "just 6928\n",
      "like 6410\n",
      "don 4751\n",
      "know 4524\n",
      "time 4223\n",
      "really 4024\n",
      "ve 3896\n",
      "want 3875\n",
      "feel 3259\n",
      "said 3110\n",
      "relationship 2886\n",
      "things 2589\n",
      "friends 2523\n",
      "told 2474\n",
      "didn 2262\n",
      "think 2230\n",
      "going 2183\n",
      "got 1910\n",
      "girl 1800\n",
      "day 1762\n"
     ]
    }
   ],
   "source": [
    "common_words = get_top_n_words(train['selftext'], 20)\n",
    "for word, freq in common_words:\n",
    "    print (word, freq)\n"
   ]
  },
  {
   "cell_type": "markdown",
   "metadata": {},
   "source": [
    "Set X (features) and y (target)"
   ]
  },
  {
   "cell_type": "code",
   "execution_count": 60,
   "metadata": {},
   "outputs": [],
   "source": [
    "X = train['all_text']\n",
    "y = train['subreddit']"
   ]
  },
  {
   "cell_type": "markdown",
   "metadata": {},
   "source": [
    "Find the baseline accuracy score. If we always pick the value that is most common variable we'll be right 63.3% of the time."
   ]
  },
  {
   "cell_type": "code",
   "execution_count": 61,
   "metadata": {},
   "outputs": [
    {
     "data": {
      "text/plain": [
       "1    0.521843\n",
       "0    0.478157\n",
       "Name: subreddit, dtype: float64"
      ]
     },
     "execution_count": 61,
     "metadata": {},
     "output_type": "execute_result"
    }
   ],
   "source": [
    "y.value_counts(normalize=True)"
   ]
  },
  {
   "cell_type": "markdown",
   "metadata": {},
   "source": [
    "Train test split"
   ]
  },
  {
   "cell_type": "code",
   "execution_count": 62,
   "metadata": {},
   "outputs": [],
   "source": [
    "X_train, X_test, y_train, y_test = train_test_split(X, \n",
    "                                                    y, \n",
    "                                                    stratify=y, #to keep the same balance of y in the test and train data\n",
    "                                                    random_state = 42)"
   ]
  },
  {
   "cell_type": "code",
   "execution_count": 174,
   "metadata": {},
   "outputs": [
    {
     "data": {
      "text/plain": [
       "610     Why does he keep looking at my social media?We...\n",
       "2262    I have a problem and idk what to doSo basicall...\n",
       "2765    I (29M) am having some complicated feelings to...\n",
       "2349    I (25M) am dating a girl (19F) for a while but...\n",
       "1733    I’m (18F) starting to relapse into my depressi...\n",
       "3531    How do I stop giving off the vibe that I'm des...\n",
       "2972    If anyone would like to chat privately about t...\n",
       "3036    Told a girl how I feel and haven't talked to h...\n",
       "2919    Heart broken by somebody I wasn’t even in a re...\n",
       "3207    Missing my Ex(gf) after getting dumped from 7 ...\n",
       "978     Dating at work?So I (22F) have recently starte...\n",
       "1352    Is it okay to “breakup” over text in this situ...\n",
       "61      How do I stop crushing on girls who are nice t...\n",
       "811     I (M19) told my crush(F19) that I had blue bal...\n",
       "3543    How would you slowly ask out/ get to know appr...\n",
       "408     what do i get my boyfriend?im 16 year old fema...\n",
       "3006    Was he flirting with me?So due to my social an...\n",
       "3630    Need some advice on dating a friendIf I ask my...\n",
       "425     I [25M] fucked up with a great girl [25F]. Is ...\n",
       "2436    Not sure whether to make a move or let my feel...\n",
       "1170    Emotional cheatingI caught my boyfriend textin...\n",
       "552     How to stop thinking about your crush?He (M26)...\n",
       "1029    Husband gets heated after MIL leavesMy husband...\n",
       "1599    Recently realised I don't know how to be as ac...\n",
       "1124    i (17f) think my mom (37f) resents me.lemme gi...\n",
       "1059    My (40M) wife (39F) thinks she might have an e...\n",
       "1558    My girlfriend just told me she doesn’t care if...\n",
       "2786    How to get over a break upMe and my ex bf brok...\n",
       "1537    How do I (23/f) tell a possible boyfriend (24/...\n",
       "604     Does he love me???I’ve known this guy for goin...\n",
       "                              ...                        \n",
       "2097    Got the dreaded \"we need to talk\" textGot the ...\n",
       "2167    My friend thinks I attacked his girlfriend wit...\n",
       "1467    have this guy i friendzoned but i kinda want a...\n",
       "2106    My (18m) relationship with my insecure girlfri...\n",
       "2658    I text-cheated on my wife for a yearI [M28] te...\n",
       "598     How have you become more trusting in your roma...\n",
       "1214    I [30F] am very lost in my relationship with [...\n",
       "1192    My girlfriend wants me to leave herSorry if th...\n",
       "156     Constant worry of things not working out with ...\n",
       "2044    I [21M] dated a [36F] woman from Finland for t...\n",
       "3198    I want to ask my co-worker to hang out, I’m pr...\n",
       "125     I’ve started liking a guy I was casually seein...\n",
       "3044    What are the next steps? So I (M15) really lik...\n",
       "1722    Friend’s housemate is a compulsive liar and is...\n",
       "1630    Ive been in love with my close friend for a wh...\n",
       "2499    Jealousy in relationships when partner goes ou...\n",
       "670     How can I [22/M] approach her [23/F] on social...\n",
       "3783    Would you play the 50-50 game of asking a pers...\n",
       "3615    dm'ing girlsok, question, is it weird to dm gi...\n",
       "1591    Does he want to date me or not?\\nOkay so there...\n",
       "2667    How to deal with jealousy and becoming less de...\n",
       "482     Is she interested or was it a fluke? (18m)So a...\n",
       "1094    I'm (21F) considering an LDR with a guy (24M) ...\n",
       "3551    Tinder adviceSo long story short I work securi...\n",
       "2497    Hi should I (24M) tell my very christian girlf...\n",
       "2589    I barely have a social life and I don't know h...\n",
       "2663    [21M] How does this text from my crush [21F] s...\n",
       "717     Where would be good places to find a partner w...\n",
       "2038    UPDATE: Am I Crazy? TL;DR: I have a crush on a...\n",
       "1419    I (F37) am confused about my bf (M32) admittin...\n",
       "Name: all_text, Length: 2832, dtype: object"
      ]
     },
     "execution_count": 174,
     "metadata": {},
     "output_type": "execute_result"
    }
   ],
   "source": [
    "X_train"
   ]
  },
  {
   "cell_type": "code",
   "execution_count": 64,
   "metadata": {},
   "outputs": [
    {
     "data": {
      "text/plain": [
       "dtype('O')"
      ]
     },
     "execution_count": 64,
     "metadata": {},
     "output_type": "execute_result"
    }
   ],
   "source": [
    "X_train.dtypes"
   ]
  },
  {
   "cell_type": "code",
   "execution_count": 65,
   "metadata": {},
   "outputs": [
    {
     "data": {
      "text/plain": [
       "(945,)"
      ]
     },
     "execution_count": 65,
     "metadata": {},
     "output_type": "execute_result"
    }
   ],
   "source": [
    "X_test.shape"
   ]
  },
  {
   "cell_type": "code",
   "execution_count": 66,
   "metadata": {},
   "outputs": [
    {
     "data": {
      "text/plain": [
       "0"
      ]
     },
     "execution_count": 66,
     "metadata": {},
     "output_type": "execute_result"
    }
   ],
   "source": [
    "X_train.isnull().sum()"
   ]
  },
  {
   "cell_type": "code",
   "execution_count": 67,
   "metadata": {},
   "outputs": [
    {
     "data": {
      "text/plain": [
       "610     Why does he keep looking at my social media?We...\n",
       "2262    I have a problem and idk what to doSo basicall...\n",
       "2765    I (29M) am having some complicated feelings to...\n",
       "2349    I (25M) am dating a girl (19F) for a while but...\n",
       "1733    I’m (18F) starting to relapse into my depressi...\n",
       "Name: all_text, dtype: object"
      ]
     },
     "execution_count": 67,
     "metadata": {},
     "output_type": "execute_result"
    }
   ],
   "source": [
    "X_train.head()"
   ]
  },
  {
   "cell_type": "markdown",
   "metadata": {},
   "source": [
    "Here I practiced cleaning the data on just one document first."
   ]
  },
  {
   "cell_type": "code",
   "execution_count": 68,
   "metadata": {},
   "outputs": [],
   "source": [
    "# # soup = BeautifulSoup(X_train)\n",
    "# # print(soup.get_text())\n",
    "\n",
    "# letters_only = re.sub(\"[^a-zA-Z]\", \" \", soup.get_text())   \n",
    "\n",
    "# #letters_only[0:150]\n",
    "\n",
    "# lower_case = letters_only.lower()\n",
    "\n",
    "# # Split lower_case up at each space.\n",
    "# words = lower_case.split()\n",
    "\n",
    "# words[0:15]\n",
    "\n",
    "# print(stopwords.words('english'))\n",
    "\n",
    "# words = [w for w in words if w not in stopwords.words('english')]\n",
    "\n",
    "# print(words)"
   ]
  },
  {
   "cell_type": "markdown",
   "metadata": {},
   "source": [
    "Instantiate Lemmatizer"
   ]
  },
  {
   "cell_type": "code",
   "execution_count": 69,
   "metadata": {},
   "outputs": [],
   "source": [
    "lemmatizer = WordNetLemmatizer()"
   ]
  },
  {
   "cell_type": "markdown",
   "metadata": {},
   "source": [
    "Practice lemmatizing"
   ]
  },
  {
   "cell_type": "code",
   "execution_count": 70,
   "metadata": {},
   "outputs": [],
   "source": [
    "#commented out so as to no cause errors when running all cells\n",
    "\n",
    "# lem_words = [lemmatizer.lemmatize(i) for i in words]\n",
    "# len(lem_words)\n",
    "\n",
    "# for i in range(len(words)):\n",
    "#     if words[i] != lem_words[i]:\n",
    "#         print(words[i], lem_words[i])"
   ]
  },
  {
   "cell_type": "markdown",
   "metadata": {},
   "source": [
    "Instantiate Stemmer"
   ]
  },
  {
   "cell_type": "code",
   "execution_count": 71,
   "metadata": {},
   "outputs": [],
   "source": [
    "p_stemmer = PorterStemmer()"
   ]
  },
  {
   "cell_type": "markdown",
   "metadata": {},
   "source": [
    "Practie stemming"
   ]
  },
  {
   "cell_type": "code",
   "execution_count": 72,
   "metadata": {},
   "outputs": [],
   "source": [
    "#commented out so as to no cause errors when running all cells\n",
    "\n",
    "# stem_words = [p_stemmer.stem(i) for i in words]\n",
    "\n",
    "# len(stem_words)\n",
    "\n",
    "# for i in range(len(words)):\n",
    "#     if words[i] != stem_words[i]:\n",
    "#         print(words[i], stem_words[i])"
   ]
  },
  {
   "cell_type": "markdown",
   "metadata": {},
   "source": [
    "Create a function to turn the posts into a list of words."
   ]
  },
  {
   "cell_type": "code",
   "execution_count": 73,
   "metadata": {},
   "outputs": [],
   "source": [
    "def post_to_words(self_text):\n",
    "    soup_text = BeautifulSoup(self_text).get_text()  #remove HTML\n",
    "    letters = re.sub(\"[^a-zA-Z]\", \" \", soup_text) #remove non-letters\n",
    "    words = letters.lower().split() #tokenize(split) and make all words lowercase \n",
    "    stops = set(stopwords.words('english')) #find stop words \n",
    "    keep_words = [w for w in words if w not in stops] #remove stop words \n",
    "    # lem_words = [lemmatizer.lemmatize(i) for i in keep_words] \n",
    "        \n",
    "    return(\" \".join(keep_words)) #join the words back into one string.\n",
    "\n",
    "# adapted from Matt Brem's lecture code "
   ]
  },
  {
   "cell_type": "code",
   "execution_count": 74,
   "metadata": {},
   "outputs": [],
   "source": [
    "# post_to_words(X_train['selftext'][0])"
   ]
  },
  {
   "cell_type": "code",
   "execution_count": 75,
   "metadata": {
    "scrolled": true
   },
   "outputs": [],
   "source": [
    "#test \n",
    "# for i in X_train['selftext']:\n",
    "#     post_to_words(i)"
   ]
  },
  {
   "cell_type": "code",
   "execution_count": 76,
   "metadata": {},
   "outputs": [
    {
     "name": "stdout",
     "output_type": "stream",
     "text": [
      "There are 3777 posts.\n"
     ]
    }
   ],
   "source": [
    "total_posts = train.shape[0]\n",
    "print(f'There are {total_posts} posts.')\n",
    "\n",
    "# Initialize an empty list to hold the clean reviews.\n",
    "clean_train_posts = []\n",
    "clean_test_posts = []"
   ]
  },
  {
   "cell_type": "code",
   "execution_count": 77,
   "metadata": {},
   "outputs": [
    {
     "name": "stdout",
     "output_type": "stream",
     "text": [
      "Cleaning the training set of reddit posts\n",
      "Cleaning the test set of reddit posts\n"
     ]
    }
   ],
   "source": [
    "print(\"Cleaning the training set of reddit posts\")\n",
    "\n",
    "j = 0\n",
    "for i in X_train:\n",
    "    clean_train_posts.append(post_to_words(i))\n",
    "j += 1\n",
    "\n",
    "print(\"Cleaning the test set of reddit posts\")\n",
    "\n",
    "for test_post in X_test:\n",
    "    clean_test_posts.append(post_to_words(test_post))\n",
    "j =+ 1"
   ]
  },
  {
   "cell_type": "code",
   "execution_count": 78,
   "metadata": {},
   "outputs": [
    {
     "data": {
      "text/plain": [
       "2832"
      ]
     },
     "execution_count": 78,
     "metadata": {},
     "output_type": "execute_result"
    }
   ],
   "source": [
    "len(clean_train_posts)"
   ]
  },
  {
   "cell_type": "code",
   "execution_count": 79,
   "metadata": {},
   "outputs": [
    {
     "data": {
      "text/plain": [
       "945"
      ]
     },
     "execution_count": 79,
     "metadata": {},
     "output_type": "execute_result"
    }
   ],
   "source": [
    "len(clean_test_posts)"
   ]
  },
  {
   "cell_type": "code",
   "execution_count": 80,
   "metadata": {},
   "outputs": [
    {
     "data": {
      "text/plain": [
       "list"
      ]
     },
     "execution_count": 80,
     "metadata": {},
     "output_type": "execute_result"
    }
   ],
   "source": [
    "type(clean_train_posts)"
   ]
  },
  {
   "cell_type": "markdown",
   "metadata": {},
   "source": [
    "Instantiate Count Vectorizer."
   ]
  },
  {
   "cell_type": "code",
   "execution_count": 81,
   "metadata": {},
   "outputs": [],
   "source": [
    "cvec = CountVectorizer()"
   ]
  },
  {
   "cell_type": "markdown",
   "metadata": {},
   "source": [
    "Fit"
   ]
  },
  {
   "cell_type": "code",
   "execution_count": 82,
   "metadata": {
    "scrolled": true
   },
   "outputs": [
    {
     "data": {
      "text/plain": [
       "CountVectorizer(analyzer='word', binary=False, decode_error='strict',\n",
       "        dtype=<class 'numpy.int64'>, encoding='utf-8', input='content',\n",
       "        lowercase=True, max_df=1.0, max_features=None, min_df=1,\n",
       "        ngram_range=(1, 1), preprocessor=None, stop_words=None,\n",
       "        strip_accents=None, token_pattern='(?u)\\\\b\\\\w\\\\w+\\\\b',\n",
       "        tokenizer=None, vocabulary=None)"
      ]
     },
     "execution_count": 82,
     "metadata": {},
     "output_type": "execute_result"
    }
   ],
   "source": [
    "cvec.fit(clean_train_posts)"
   ]
  },
  {
   "cell_type": "markdown",
   "metadata": {},
   "source": [
    "Transform"
   ]
  },
  {
   "cell_type": "code",
   "execution_count": 83,
   "metadata": {},
   "outputs": [],
   "source": [
    "train_features = cvec.transform(clean_train_posts)"
   ]
  },
  {
   "cell_type": "code",
   "execution_count": 84,
   "metadata": {},
   "outputs": [],
   "source": [
    "test_features = cvec.transform(clean_test_posts)"
   ]
  },
  {
   "cell_type": "code",
   "execution_count": 85,
   "metadata": {},
   "outputs": [
    {
     "data": {
      "text/plain": [
       "(2832, 15370)"
      ]
     },
     "execution_count": 85,
     "metadata": {},
     "output_type": "execute_result"
    }
   ],
   "source": [
    "train_features.shape"
   ]
  },
  {
   "cell_type": "markdown",
   "metadata": {},
   "source": [
    "Turn it into a DataFrame."
   ]
  },
  {
   "cell_type": "code",
   "execution_count": 86,
   "metadata": {},
   "outputs": [],
   "source": [
    "X_train_vec = pd.DataFrame(train_features.toarray(),\n",
    "                           columns=cvec.get_feature_names())"
   ]
  },
  {
   "cell_type": "code",
   "execution_count": 87,
   "metadata": {},
   "outputs": [],
   "source": [
    "X_test_vec = pd.DataFrame(test_features.toarray(),\n",
    "                         columns=cvec.get_feature_names())"
   ]
  },
  {
   "cell_type": "code",
   "execution_count": 88,
   "metadata": {},
   "outputs": [
    {
     "data": {
      "text/html": [
       "<div>\n",
       "<style scoped>\n",
       "    .dataframe tbody tr th:only-of-type {\n",
       "        vertical-align: middle;\n",
       "    }\n",
       "\n",
       "    .dataframe tbody tr th {\n",
       "        vertical-align: top;\n",
       "    }\n",
       "\n",
       "    .dataframe thead th {\n",
       "        text-align: right;\n",
       "    }\n",
       "</style>\n",
       "<table border=\"1\" class=\"dataframe\">\n",
       "  <thead>\n",
       "    <tr style=\"text-align: right;\">\n",
       "      <th></th>\n",
       "      <th>aa</th>\n",
       "      <th>aau</th>\n",
       "      <th>ab</th>\n",
       "      <th>aback</th>\n",
       "      <th>abandon</th>\n",
       "      <th>abandoned</th>\n",
       "      <th>abandoning</th>\n",
       "      <th>abandonment</th>\n",
       "      <th>abandons</th>\n",
       "      <th>abby</th>\n",
       "      <th>...</th>\n",
       "      <th>zone</th>\n",
       "      <th>zoned</th>\n",
       "      <th>zonei</th>\n",
       "      <th>zones</th>\n",
       "      <th>zoning</th>\n",
       "      <th>zoo</th>\n",
       "      <th>zoology</th>\n",
       "      <th>zoomed</th>\n",
       "      <th>zq</th>\n",
       "      <th>zzog</th>\n",
       "    </tr>\n",
       "  </thead>\n",
       "  <tbody>\n",
       "    <tr>\n",
       "      <th>0</th>\n",
       "      <td>0</td>\n",
       "      <td>0</td>\n",
       "      <td>0</td>\n",
       "      <td>0</td>\n",
       "      <td>0</td>\n",
       "      <td>0</td>\n",
       "      <td>0</td>\n",
       "      <td>0</td>\n",
       "      <td>0</td>\n",
       "      <td>0</td>\n",
       "      <td>...</td>\n",
       "      <td>0</td>\n",
       "      <td>0</td>\n",
       "      <td>0</td>\n",
       "      <td>0</td>\n",
       "      <td>0</td>\n",
       "      <td>0</td>\n",
       "      <td>0</td>\n",
       "      <td>0</td>\n",
       "      <td>0</td>\n",
       "      <td>0</td>\n",
       "    </tr>\n",
       "    <tr>\n",
       "      <th>1</th>\n",
       "      <td>0</td>\n",
       "      <td>0</td>\n",
       "      <td>0</td>\n",
       "      <td>0</td>\n",
       "      <td>0</td>\n",
       "      <td>0</td>\n",
       "      <td>0</td>\n",
       "      <td>0</td>\n",
       "      <td>0</td>\n",
       "      <td>0</td>\n",
       "      <td>...</td>\n",
       "      <td>0</td>\n",
       "      <td>0</td>\n",
       "      <td>0</td>\n",
       "      <td>0</td>\n",
       "      <td>0</td>\n",
       "      <td>0</td>\n",
       "      <td>0</td>\n",
       "      <td>0</td>\n",
       "      <td>0</td>\n",
       "      <td>0</td>\n",
       "    </tr>\n",
       "    <tr>\n",
       "      <th>2</th>\n",
       "      <td>0</td>\n",
       "      <td>0</td>\n",
       "      <td>0</td>\n",
       "      <td>0</td>\n",
       "      <td>0</td>\n",
       "      <td>0</td>\n",
       "      <td>0</td>\n",
       "      <td>0</td>\n",
       "      <td>0</td>\n",
       "      <td>0</td>\n",
       "      <td>...</td>\n",
       "      <td>0</td>\n",
       "      <td>0</td>\n",
       "      <td>0</td>\n",
       "      <td>0</td>\n",
       "      <td>0</td>\n",
       "      <td>0</td>\n",
       "      <td>0</td>\n",
       "      <td>0</td>\n",
       "      <td>0</td>\n",
       "      <td>0</td>\n",
       "    </tr>\n",
       "    <tr>\n",
       "      <th>3</th>\n",
       "      <td>0</td>\n",
       "      <td>0</td>\n",
       "      <td>0</td>\n",
       "      <td>0</td>\n",
       "      <td>0</td>\n",
       "      <td>0</td>\n",
       "      <td>0</td>\n",
       "      <td>0</td>\n",
       "      <td>0</td>\n",
       "      <td>0</td>\n",
       "      <td>...</td>\n",
       "      <td>0</td>\n",
       "      <td>0</td>\n",
       "      <td>0</td>\n",
       "      <td>0</td>\n",
       "      <td>0</td>\n",
       "      <td>0</td>\n",
       "      <td>0</td>\n",
       "      <td>0</td>\n",
       "      <td>0</td>\n",
       "      <td>0</td>\n",
       "    </tr>\n",
       "    <tr>\n",
       "      <th>4</th>\n",
       "      <td>0</td>\n",
       "      <td>0</td>\n",
       "      <td>0</td>\n",
       "      <td>0</td>\n",
       "      <td>0</td>\n",
       "      <td>0</td>\n",
       "      <td>0</td>\n",
       "      <td>0</td>\n",
       "      <td>0</td>\n",
       "      <td>0</td>\n",
       "      <td>...</td>\n",
       "      <td>0</td>\n",
       "      <td>0</td>\n",
       "      <td>0</td>\n",
       "      <td>0</td>\n",
       "      <td>0</td>\n",
       "      <td>0</td>\n",
       "      <td>0</td>\n",
       "      <td>0</td>\n",
       "      <td>0</td>\n",
       "      <td>0</td>\n",
       "    </tr>\n",
       "  </tbody>\n",
       "</table>\n",
       "<p>5 rows × 15370 columns</p>\n",
       "</div>"
      ],
      "text/plain": [
       "   aa  aau  ab  aback  abandon  abandoned  abandoning  abandonment  abandons  \\\n",
       "0   0    0   0      0        0          0           0            0         0   \n",
       "1   0    0   0      0        0          0           0            0         0   \n",
       "2   0    0   0      0        0          0           0            0         0   \n",
       "3   0    0   0      0        0          0           0            0         0   \n",
       "4   0    0   0      0        0          0           0            0         0   \n",
       "\n",
       "   abby  ...  zone  zoned  zonei  zones  zoning  zoo  zoology  zoomed  zq  \\\n",
       "0     0  ...     0      0      0      0       0    0        0       0   0   \n",
       "1     0  ...     0      0      0      0       0    0        0       0   0   \n",
       "2     0  ...     0      0      0      0       0    0        0       0   0   \n",
       "3     0  ...     0      0      0      0       0    0        0       0   0   \n",
       "4     0  ...     0      0      0      0       0    0        0       0   0   \n",
       "\n",
       "   zzog  \n",
       "0     0  \n",
       "1     0  \n",
       "2     0  \n",
       "3     0  \n",
       "4     0  \n",
       "\n",
       "[5 rows x 15370 columns]"
      ]
     },
     "execution_count": 88,
     "metadata": {},
     "output_type": "execute_result"
    }
   ],
   "source": [
    "X_test_vec.head()"
   ]
  },
  {
   "cell_type": "markdown",
   "metadata": {},
   "source": [
    "Find most frequest words on cleaned data.\n",
    "\n",
    "code adapted from Susan Li: https://towardsdatascience.com/a-complete-exploratory-data-analysis-and-visualization-for-text-data-29fb1b96fb6a"
   ]
  },
  {
   "cell_type": "code",
   "execution_count": 89,
   "metadata": {},
   "outputs": [],
   "source": [
    "sum_words = train_features.sum(axis=0) \n",
    "words_freq = [(word, sum_words[0, idx]) for word, idx in cvec.vocabulary_.items()]\n",
    "words_freq =sorted(words_freq, key = lambda x: x[1], reverse=True)"
   ]
  },
  {
   "cell_type": "code",
   "execution_count": 90,
   "metadata": {},
   "outputs": [
    {
     "data": {
      "text/plain": [
       "[('like', 4991),\n",
       " ('know', 3652),\n",
       " ('time', 3230),\n",
       " ('really', 3138),\n",
       " ('want', 3077),\n",
       " ('would', 2782),\n",
       " ('feel', 2639),\n",
       " ('get', 2617),\n",
       " ('said', 2432),\n",
       " ('relationship', 2297),\n",
       " ('one', 2067),\n",
       " ('friends', 2029),\n",
       " ('even', 2000),\n",
       " ('told', 1944),\n",
       " ('things', 1932),\n",
       " ('go', 1918),\n",
       " ('back', 1853),\n",
       " ('think', 1756),\n",
       " ('never', 1753),\n",
       " ('going', 1739),\n",
       " ('much', 1532)]"
      ]
     },
     "execution_count": 90,
     "metadata": {},
     "output_type": "execute_result"
    }
   ],
   "source": [
    "words_freq[:21]"
   ]
  },
  {
   "cell_type": "markdown",
   "metadata": {},
   "source": [
    "Instantiate Logistic Regression."
   ]
  },
  {
   "cell_type": "code",
   "execution_count": 91,
   "metadata": {},
   "outputs": [],
   "source": [
    "lr_vec = LogisticRegression()"
   ]
  },
  {
   "cell_type": "markdown",
   "metadata": {},
   "source": [
    "Fit"
   ]
  },
  {
   "cell_type": "code",
   "execution_count": 93,
   "metadata": {
    "scrolled": true
   },
   "outputs": [
    {
     "name": "stderr",
     "output_type": "stream",
     "text": [
      "/Users/rachelkoenig/anaconda3/lib/python3.7/site-packages/sklearn/linear_model/logistic.py:433: FutureWarning: Default solver will be changed to 'lbfgs' in 0.22. Specify a solver to silence this warning.\n",
      "  FutureWarning)\n"
     ]
    },
    {
     "data": {
      "text/plain": [
       "LogisticRegression(C=1.0, class_weight=None, dual=False, fit_intercept=True,\n",
       "          intercept_scaling=1, max_iter=100, multi_class='warn',\n",
       "          n_jobs=None, penalty='l2', random_state=None, solver='warn',\n",
       "          tol=0.0001, verbose=0, warm_start=False)"
      ]
     },
     "execution_count": 93,
     "metadata": {},
     "output_type": "execute_result"
    }
   ],
   "source": [
    "lr_vec.fit(X_train_vec, y_train)"
   ]
  },
  {
   "cell_type": "markdown",
   "metadata": {},
   "source": [
    "Train score: 99.5%"
   ]
  },
  {
   "cell_type": "code",
   "execution_count": 94,
   "metadata": {},
   "outputs": [
    {
     "data": {
      "text/plain": [
       "0.9950564971751412"
      ]
     },
     "execution_count": 94,
     "metadata": {},
     "output_type": "execute_result"
    }
   ],
   "source": [
    "lr_vec.score(X_train_vec, y_train)"
   ]
  },
  {
   "cell_type": "markdown",
   "metadata": {},
   "source": [
    "Test score: 74.6%"
   ]
  },
  {
   "cell_type": "code",
   "execution_count": 95,
   "metadata": {},
   "outputs": [
    {
     "data": {
      "text/plain": [
       "0.7216931216931217"
      ]
     },
     "execution_count": 95,
     "metadata": {},
     "output_type": "execute_result"
    }
   ],
   "source": [
    "lr_vec.score(X_test_vec, y_test)"
   ]
  },
  {
   "cell_type": "markdown",
   "metadata": {},
   "source": [
    "Cross val score: 74.5%"
   ]
  },
  {
   "cell_type": "code",
   "execution_count": 96,
   "metadata": {
    "scrolled": false
   },
   "outputs": [
    {
     "name": "stderr",
     "output_type": "stream",
     "text": [
      "/Users/rachelkoenig/anaconda3/lib/python3.7/site-packages/sklearn/linear_model/logistic.py:433: FutureWarning: Default solver will be changed to 'lbfgs' in 0.22. Specify a solver to silence this warning.\n",
      "  FutureWarning)\n",
      "/Users/rachelkoenig/anaconda3/lib/python3.7/site-packages/sklearn/linear_model/logistic.py:433: FutureWarning: Default solver will be changed to 'lbfgs' in 0.22. Specify a solver to silence this warning.\n",
      "  FutureWarning)\n",
      "/Users/rachelkoenig/anaconda3/lib/python3.7/site-packages/sklearn/linear_model/logistic.py:433: FutureWarning: Default solver will be changed to 'lbfgs' in 0.22. Specify a solver to silence this warning.\n",
      "  FutureWarning)\n",
      "/Users/rachelkoenig/anaconda3/lib/python3.7/site-packages/sklearn/linear_model/logistic.py:433: FutureWarning: Default solver will be changed to 'lbfgs' in 0.22. Specify a solver to silence this warning.\n",
      "  FutureWarning)\n",
      "/Users/rachelkoenig/anaconda3/lib/python3.7/site-packages/sklearn/linear_model/logistic.py:433: FutureWarning: Default solver will be changed to 'lbfgs' in 0.22. Specify a solver to silence this warning.\n",
      "  FutureWarning)\n"
     ]
    },
    {
     "data": {
      "text/plain": [
       "0.7485740868414915"
      ]
     },
     "execution_count": 96,
     "metadata": {},
     "output_type": "execute_result"
    }
   ],
   "source": [
    "cross_val_score(lr_vec, X_train_vec, y_train, cv=5).mean()"
   ]
  },
  {
   "cell_type": "markdown",
   "metadata": {},
   "source": [
    "What if I modify the CVEC parameters?"
   ]
  },
  {
   "cell_type": "code",
   "execution_count": 97,
   "metadata": {},
   "outputs": [],
   "source": [
    "cvec_12gram = CountVectorizer(ngram_range=(1,2), #will look at individual words and words pairs\n",
    "                             min_df=3) #words must be in at leat 3 documents to be considered"
   ]
  },
  {
   "cell_type": "code",
   "execution_count": 98,
   "metadata": {},
   "outputs": [
    {
     "data": {
      "text/plain": [
       "CountVectorizer(analyzer='word', binary=False, decode_error='strict',\n",
       "        dtype=<class 'numpy.int64'>, encoding='utf-8', input='content',\n",
       "        lowercase=True, max_df=1.0, max_features=None, min_df=3,\n",
       "        ngram_range=(1, 2), preprocessor=None, stop_words=None,\n",
       "        strip_accents=None, token_pattern='(?u)\\\\b\\\\w\\\\w+\\\\b',\n",
       "        tokenizer=None, vocabulary=None)"
      ]
     },
     "execution_count": 98,
     "metadata": {},
     "output_type": "execute_result"
    }
   ],
   "source": [
    "cvec_12gram.fit(clean_train_posts)"
   ]
  },
  {
   "cell_type": "code",
   "execution_count": 99,
   "metadata": {},
   "outputs": [],
   "source": [
    "X_train_12gram = cvec_12gram.transform(clean_train_posts)"
   ]
  },
  {
   "cell_type": "code",
   "execution_count": 100,
   "metadata": {},
   "outputs": [
    {
     "data": {
      "text/plain": [
       "scipy.sparse.csr.csr_matrix"
      ]
     },
     "execution_count": 100,
     "metadata": {},
     "output_type": "execute_result"
    }
   ],
   "source": [
    "type(X_train_12gram)"
   ]
  },
  {
   "cell_type": "code",
   "execution_count": 101,
   "metadata": {},
   "outputs": [],
   "source": [
    "X_train_12gram_df = pd.DataFrame(X_train_12gram.toarray(),\n",
    "                                 columns = cvec_12gram.get_feature_names())\n"
   ]
  },
  {
   "cell_type": "code",
   "execution_count": 102,
   "metadata": {},
   "outputs": [
    {
     "data": {
      "text/html": [
       "<div>\n",
       "<style scoped>\n",
       "    .dataframe tbody tr th:only-of-type {\n",
       "        vertical-align: middle;\n",
       "    }\n",
       "\n",
       "    .dataframe tbody tr th {\n",
       "        vertical-align: top;\n",
       "    }\n",
       "\n",
       "    .dataframe thead th {\n",
       "        text-align: right;\n",
       "    }\n",
       "</style>\n",
       "<table border=\"1\" class=\"dataframe\">\n",
       "  <thead>\n",
       "    <tr style=\"text-align: right;\">\n",
       "      <th></th>\n",
       "      <th>aa</th>\n",
       "      <th>ab</th>\n",
       "      <th>aback</th>\n",
       "      <th>abandon</th>\n",
       "      <th>abandoned</th>\n",
       "      <th>abandoning</th>\n",
       "      <th>abandonment</th>\n",
       "      <th>abandons</th>\n",
       "      <th>ability</th>\n",
       "      <th>able</th>\n",
       "      <th>...</th>\n",
       "      <th>yrs</th>\n",
       "      <th>yrs old</th>\n",
       "      <th>ys</th>\n",
       "      <th>ys lt</th>\n",
       "      <th>yup</th>\n",
       "      <th>zero</th>\n",
       "      <th>zone</th>\n",
       "      <th>zoned</th>\n",
       "      <th>zoning</th>\n",
       "      <th>zoo</th>\n",
       "    </tr>\n",
       "  </thead>\n",
       "  <tbody>\n",
       "    <tr>\n",
       "      <th>0</th>\n",
       "      <td>0</td>\n",
       "      <td>0</td>\n",
       "      <td>0</td>\n",
       "      <td>0</td>\n",
       "      <td>0</td>\n",
       "      <td>0</td>\n",
       "      <td>0</td>\n",
       "      <td>0</td>\n",
       "      <td>0</td>\n",
       "      <td>0</td>\n",
       "      <td>...</td>\n",
       "      <td>0</td>\n",
       "      <td>0</td>\n",
       "      <td>0</td>\n",
       "      <td>0</td>\n",
       "      <td>0</td>\n",
       "      <td>0</td>\n",
       "      <td>0</td>\n",
       "      <td>0</td>\n",
       "      <td>0</td>\n",
       "      <td>0</td>\n",
       "    </tr>\n",
       "    <tr>\n",
       "      <th>1</th>\n",
       "      <td>0</td>\n",
       "      <td>0</td>\n",
       "      <td>0</td>\n",
       "      <td>0</td>\n",
       "      <td>0</td>\n",
       "      <td>0</td>\n",
       "      <td>0</td>\n",
       "      <td>0</td>\n",
       "      <td>0</td>\n",
       "      <td>0</td>\n",
       "      <td>...</td>\n",
       "      <td>0</td>\n",
       "      <td>0</td>\n",
       "      <td>0</td>\n",
       "      <td>0</td>\n",
       "      <td>0</td>\n",
       "      <td>0</td>\n",
       "      <td>0</td>\n",
       "      <td>0</td>\n",
       "      <td>0</td>\n",
       "      <td>0</td>\n",
       "    </tr>\n",
       "    <tr>\n",
       "      <th>2</th>\n",
       "      <td>0</td>\n",
       "      <td>0</td>\n",
       "      <td>0</td>\n",
       "      <td>0</td>\n",
       "      <td>0</td>\n",
       "      <td>0</td>\n",
       "      <td>0</td>\n",
       "      <td>0</td>\n",
       "      <td>0</td>\n",
       "      <td>0</td>\n",
       "      <td>...</td>\n",
       "      <td>0</td>\n",
       "      <td>0</td>\n",
       "      <td>0</td>\n",
       "      <td>0</td>\n",
       "      <td>0</td>\n",
       "      <td>0</td>\n",
       "      <td>0</td>\n",
       "      <td>0</td>\n",
       "      <td>0</td>\n",
       "      <td>0</td>\n",
       "    </tr>\n",
       "    <tr>\n",
       "      <th>3</th>\n",
       "      <td>0</td>\n",
       "      <td>0</td>\n",
       "      <td>0</td>\n",
       "      <td>0</td>\n",
       "      <td>0</td>\n",
       "      <td>0</td>\n",
       "      <td>0</td>\n",
       "      <td>0</td>\n",
       "      <td>0</td>\n",
       "      <td>0</td>\n",
       "      <td>...</td>\n",
       "      <td>0</td>\n",
       "      <td>0</td>\n",
       "      <td>0</td>\n",
       "      <td>0</td>\n",
       "      <td>0</td>\n",
       "      <td>0</td>\n",
       "      <td>0</td>\n",
       "      <td>0</td>\n",
       "      <td>0</td>\n",
       "      <td>0</td>\n",
       "    </tr>\n",
       "    <tr>\n",
       "      <th>4</th>\n",
       "      <td>0</td>\n",
       "      <td>0</td>\n",
       "      <td>0</td>\n",
       "      <td>0</td>\n",
       "      <td>0</td>\n",
       "      <td>0</td>\n",
       "      <td>0</td>\n",
       "      <td>0</td>\n",
       "      <td>0</td>\n",
       "      <td>1</td>\n",
       "      <td>...</td>\n",
       "      <td>0</td>\n",
       "      <td>0</td>\n",
       "      <td>0</td>\n",
       "      <td>0</td>\n",
       "      <td>0</td>\n",
       "      <td>0</td>\n",
       "      <td>0</td>\n",
       "      <td>0</td>\n",
       "      <td>0</td>\n",
       "      <td>0</td>\n",
       "    </tr>\n",
       "  </tbody>\n",
       "</table>\n",
       "<p>5 rows × 26328 columns</p>\n",
       "</div>"
      ],
      "text/plain": [
       "   aa  ab  aback  abandon  abandoned  abandoning  abandonment  abandons  \\\n",
       "0   0   0      0        0          0           0            0         0   \n",
       "1   0   0      0        0          0           0            0         0   \n",
       "2   0   0      0        0          0           0            0         0   \n",
       "3   0   0      0        0          0           0            0         0   \n",
       "4   0   0      0        0          0           0            0         0   \n",
       "\n",
       "   ability  able  ...  yrs  yrs old  ys  ys lt  yup  zero  zone  zoned  \\\n",
       "0        0     0  ...    0        0   0      0    0     0     0      0   \n",
       "1        0     0  ...    0        0   0      0    0     0     0      0   \n",
       "2        0     0  ...    0        0   0      0    0     0     0      0   \n",
       "3        0     0  ...    0        0   0      0    0     0     0      0   \n",
       "4        0     1  ...    0        0   0      0    0     0     0      0   \n",
       "\n",
       "   zoning  zoo  \n",
       "0       0    0  \n",
       "1       0    0  \n",
       "2       0    0  \n",
       "3       0    0  \n",
       "4       0    0  \n",
       "\n",
       "[5 rows x 26328 columns]"
      ]
     },
     "execution_count": 102,
     "metadata": {},
     "output_type": "execute_result"
    }
   ],
   "source": [
    "X_train_12gram_df.head()"
   ]
  },
  {
   "cell_type": "code",
   "execution_count": 103,
   "metadata": {},
   "outputs": [],
   "source": [
    "X_test_12gram = cvec_12gram.transform(clean_test_posts)"
   ]
  },
  {
   "cell_type": "code",
   "execution_count": 104,
   "metadata": {},
   "outputs": [],
   "source": [
    "X_test_12gram_df = pd.DataFrame(X_test_12gram.toarray(),\n",
    "                               columns = cvec_12gram.get_feature_names())"
   ]
  },
  {
   "cell_type": "code",
   "execution_count": 105,
   "metadata": {},
   "outputs": [
    {
     "data": {
      "text/html": [
       "<div>\n",
       "<style scoped>\n",
       "    .dataframe tbody tr th:only-of-type {\n",
       "        vertical-align: middle;\n",
       "    }\n",
       "\n",
       "    .dataframe tbody tr th {\n",
       "        vertical-align: top;\n",
       "    }\n",
       "\n",
       "    .dataframe thead th {\n",
       "        text-align: right;\n",
       "    }\n",
       "</style>\n",
       "<table border=\"1\" class=\"dataframe\">\n",
       "  <thead>\n",
       "    <tr style=\"text-align: right;\">\n",
       "      <th></th>\n",
       "      <th>aa</th>\n",
       "      <th>ab</th>\n",
       "      <th>aback</th>\n",
       "      <th>abandon</th>\n",
       "      <th>abandoned</th>\n",
       "      <th>abandoning</th>\n",
       "      <th>abandonment</th>\n",
       "      <th>abandons</th>\n",
       "      <th>ability</th>\n",
       "      <th>able</th>\n",
       "      <th>...</th>\n",
       "      <th>yrs</th>\n",
       "      <th>yrs old</th>\n",
       "      <th>ys</th>\n",
       "      <th>ys lt</th>\n",
       "      <th>yup</th>\n",
       "      <th>zero</th>\n",
       "      <th>zone</th>\n",
       "      <th>zoned</th>\n",
       "      <th>zoning</th>\n",
       "      <th>zoo</th>\n",
       "    </tr>\n",
       "  </thead>\n",
       "  <tbody>\n",
       "    <tr>\n",
       "      <th>0</th>\n",
       "      <td>0</td>\n",
       "      <td>0</td>\n",
       "      <td>0</td>\n",
       "      <td>0</td>\n",
       "      <td>0</td>\n",
       "      <td>0</td>\n",
       "      <td>0</td>\n",
       "      <td>0</td>\n",
       "      <td>0</td>\n",
       "      <td>0</td>\n",
       "      <td>...</td>\n",
       "      <td>0</td>\n",
       "      <td>0</td>\n",
       "      <td>0</td>\n",
       "      <td>0</td>\n",
       "      <td>0</td>\n",
       "      <td>0</td>\n",
       "      <td>0</td>\n",
       "      <td>0</td>\n",
       "      <td>0</td>\n",
       "      <td>0</td>\n",
       "    </tr>\n",
       "    <tr>\n",
       "      <th>1</th>\n",
       "      <td>0</td>\n",
       "      <td>0</td>\n",
       "      <td>0</td>\n",
       "      <td>0</td>\n",
       "      <td>0</td>\n",
       "      <td>0</td>\n",
       "      <td>0</td>\n",
       "      <td>0</td>\n",
       "      <td>0</td>\n",
       "      <td>0</td>\n",
       "      <td>...</td>\n",
       "      <td>0</td>\n",
       "      <td>0</td>\n",
       "      <td>0</td>\n",
       "      <td>0</td>\n",
       "      <td>0</td>\n",
       "      <td>0</td>\n",
       "      <td>0</td>\n",
       "      <td>0</td>\n",
       "      <td>0</td>\n",
       "      <td>0</td>\n",
       "    </tr>\n",
       "    <tr>\n",
       "      <th>2</th>\n",
       "      <td>0</td>\n",
       "      <td>0</td>\n",
       "      <td>0</td>\n",
       "      <td>0</td>\n",
       "      <td>0</td>\n",
       "      <td>0</td>\n",
       "      <td>0</td>\n",
       "      <td>0</td>\n",
       "      <td>0</td>\n",
       "      <td>0</td>\n",
       "      <td>...</td>\n",
       "      <td>0</td>\n",
       "      <td>0</td>\n",
       "      <td>0</td>\n",
       "      <td>0</td>\n",
       "      <td>0</td>\n",
       "      <td>0</td>\n",
       "      <td>0</td>\n",
       "      <td>0</td>\n",
       "      <td>0</td>\n",
       "      <td>0</td>\n",
       "    </tr>\n",
       "    <tr>\n",
       "      <th>3</th>\n",
       "      <td>0</td>\n",
       "      <td>0</td>\n",
       "      <td>0</td>\n",
       "      <td>0</td>\n",
       "      <td>0</td>\n",
       "      <td>0</td>\n",
       "      <td>0</td>\n",
       "      <td>0</td>\n",
       "      <td>0</td>\n",
       "      <td>1</td>\n",
       "      <td>...</td>\n",
       "      <td>0</td>\n",
       "      <td>0</td>\n",
       "      <td>0</td>\n",
       "      <td>0</td>\n",
       "      <td>0</td>\n",
       "      <td>0</td>\n",
       "      <td>0</td>\n",
       "      <td>0</td>\n",
       "      <td>0</td>\n",
       "      <td>0</td>\n",
       "    </tr>\n",
       "    <tr>\n",
       "      <th>4</th>\n",
       "      <td>0</td>\n",
       "      <td>0</td>\n",
       "      <td>0</td>\n",
       "      <td>0</td>\n",
       "      <td>0</td>\n",
       "      <td>0</td>\n",
       "      <td>0</td>\n",
       "      <td>0</td>\n",
       "      <td>0</td>\n",
       "      <td>0</td>\n",
       "      <td>...</td>\n",
       "      <td>0</td>\n",
       "      <td>0</td>\n",
       "      <td>0</td>\n",
       "      <td>0</td>\n",
       "      <td>0</td>\n",
       "      <td>0</td>\n",
       "      <td>0</td>\n",
       "      <td>0</td>\n",
       "      <td>0</td>\n",
       "      <td>0</td>\n",
       "    </tr>\n",
       "  </tbody>\n",
       "</table>\n",
       "<p>5 rows × 26328 columns</p>\n",
       "</div>"
      ],
      "text/plain": [
       "   aa  ab  aback  abandon  abandoned  abandoning  abandonment  abandons  \\\n",
       "0   0   0      0        0          0           0            0         0   \n",
       "1   0   0      0        0          0           0            0         0   \n",
       "2   0   0      0        0          0           0            0         0   \n",
       "3   0   0      0        0          0           0            0         0   \n",
       "4   0   0      0        0          0           0            0         0   \n",
       "\n",
       "   ability  able  ...  yrs  yrs old  ys  ys lt  yup  zero  zone  zoned  \\\n",
       "0        0     0  ...    0        0   0      0    0     0     0      0   \n",
       "1        0     0  ...    0        0   0      0    0     0     0      0   \n",
       "2        0     0  ...    0        0   0      0    0     0     0      0   \n",
       "3        0     1  ...    0        0   0      0    0     0     0      0   \n",
       "4        0     0  ...    0        0   0      0    0     0     0      0   \n",
       "\n",
       "   zoning  zoo  \n",
       "0       0    0  \n",
       "1       0    0  \n",
       "2       0    0  \n",
       "3       0    0  \n",
       "4       0    0  \n",
       "\n",
       "[5 rows x 26328 columns]"
      ]
     },
     "execution_count": 105,
     "metadata": {},
     "output_type": "execute_result"
    }
   ],
   "source": [
    "X_test_12gram_df.head()"
   ]
  },
  {
   "cell_type": "code",
   "execution_count": 106,
   "metadata": {},
   "outputs": [
    {
     "name": "stderr",
     "output_type": "stream",
     "text": [
      "/Users/rachelkoenig/anaconda3/lib/python3.7/site-packages/sklearn/linear_model/logistic.py:433: FutureWarning: Default solver will be changed to 'lbfgs' in 0.22. Specify a solver to silence this warning.\n",
      "  FutureWarning)\n"
     ]
    },
    {
     "data": {
      "text/plain": [
       "LogisticRegression(C=1.0, class_weight=None, dual=False, fit_intercept=True,\n",
       "          intercept_scaling=1, max_iter=100, multi_class='warn',\n",
       "          n_jobs=None, penalty='l2', random_state=None, solver='warn',\n",
       "          tol=0.0001, verbose=0, warm_start=False)"
      ]
     },
     "execution_count": 106,
     "metadata": {},
     "output_type": "execute_result"
    }
   ],
   "source": [
    "lr_vec.fit(X_train_12gram, y_train)"
   ]
  },
  {
   "cell_type": "code",
   "execution_count": 107,
   "metadata": {},
   "outputs": [
    {
     "data": {
      "text/plain": [
       "0.998587570621469"
      ]
     },
     "execution_count": 107,
     "metadata": {},
     "output_type": "execute_result"
    }
   ],
   "source": [
    "lr_vec.score(X_train_12gram, y_train)"
   ]
  },
  {
   "cell_type": "markdown",
   "metadata": {},
   "source": [
    "Train score with cvec n_gram range(1,2) and min_df=3:  99.8%"
   ]
  },
  {
   "cell_type": "code",
   "execution_count": 108,
   "metadata": {},
   "outputs": [
    {
     "data": {
      "text/plain": [
       "0.7428571428571429"
      ]
     },
     "execution_count": 108,
     "metadata": {},
     "output_type": "execute_result"
    }
   ],
   "source": [
    "lr_vec.score(X_test_12gram, y_test)"
   ]
  },
  {
   "cell_type": "markdown",
   "metadata": {},
   "source": [
    "Test score: 75.7%"
   ]
  },
  {
   "cell_type": "code",
   "execution_count": 109,
   "metadata": {},
   "outputs": [
    {
     "name": "stderr",
     "output_type": "stream",
     "text": [
      "/Users/rachelkoenig/anaconda3/lib/python3.7/site-packages/sklearn/linear_model/logistic.py:433: FutureWarning: Default solver will be changed to 'lbfgs' in 0.22. Specify a solver to silence this warning.\n",
      "  FutureWarning)\n"
     ]
    },
    {
     "data": {
      "text/plain": [
       "0.7634250916317271"
      ]
     },
     "execution_count": 109,
     "metadata": {},
     "output_type": "execute_result"
    }
   ],
   "source": [
    "cross_val_score(lr_vec, X_train_12gram, y_train, cv=5).mean()"
   ]
  },
  {
   "cell_type": "markdown",
   "metadata": {},
   "source": [
    "Cross val score: 76%"
   ]
  },
  {
   "cell_type": "markdown",
   "metadata": {},
   "source": [
    "Score increases by one point for test and cross val."
   ]
  },
  {
   "cell_type": "markdown",
   "metadata": {},
   "source": [
    "Let's try pipeline next!"
   ]
  },
  {
   "cell_type": "code",
   "execution_count": 111,
   "metadata": {},
   "outputs": [],
   "source": [
    "pipe = Pipeline([('cvec', CountVectorizer()), \n",
    "                ('lr_pipe', LogisticRegression())])\n"
   ]
  },
  {
   "cell_type": "code",
   "execution_count": 112,
   "metadata": {},
   "outputs": [
    {
     "name": "stderr",
     "output_type": "stream",
     "text": [
      "/Users/rachelkoenig/anaconda3/lib/python3.7/site-packages/sklearn/linear_model/logistic.py:433: FutureWarning: Default solver will be changed to 'lbfgs' in 0.22. Specify a solver to silence this warning.\n",
      "  FutureWarning)\n"
     ]
    },
    {
     "data": {
      "text/plain": [
       "0.7528181219895573"
      ]
     },
     "execution_count": 112,
     "metadata": {},
     "output_type": "execute_result"
    }
   ],
   "source": [
    "cross_val_score(pipe, X_train, y_train, cv=5).mean()"
   ]
  },
  {
   "cell_type": "code",
   "execution_count": 113,
   "metadata": {},
   "outputs": [
    {
     "data": {
      "text/plain": [
       "Pipeline(memory=None,\n",
       "     steps=[('cvec', CountVectorizer(analyzer='word', binary=False, decode_error='strict',\n",
       "        dtype=<class 'numpy.int64'>, encoding='utf-8', input='content',\n",
       "        lowercase=True, max_df=1.0, max_features=None, min_df=1,\n",
       "        ngram_range=(1, 1), preprocessor=None, stop_words=None,\n",
       "        strip...penalty='l2', random_state=None, solver='warn',\n",
       "          tol=0.0001, verbose=0, warm_start=False))])"
      ]
     },
     "execution_count": 113,
     "metadata": {},
     "output_type": "execute_result"
    }
   ],
   "source": [
    "pipe.fit(X_train, y_train)"
   ]
  },
  {
   "cell_type": "code",
   "execution_count": 114,
   "metadata": {},
   "outputs": [
    {
     "data": {
      "text/plain": [
       "0.9978813559322034"
      ]
     },
     "execution_count": 114,
     "metadata": {},
     "output_type": "execute_result"
    }
   ],
   "source": [
    "pipe.score(X_train, y_train)"
   ]
  },
  {
   "cell_type": "code",
   "execution_count": 115,
   "metadata": {},
   "outputs": [
    {
     "data": {
      "text/plain": [
       "0.7343915343915344"
      ]
     },
     "execution_count": 115,
     "metadata": {},
     "output_type": "execute_result"
    }
   ],
   "source": [
    "pipe.score(X_test, y_test)"
   ]
  },
  {
   "cell_type": "code",
   "execution_count": 116,
   "metadata": {
    "scrolled": true
   },
   "outputs": [
    {
     "name": "stderr",
     "output_type": "stream",
     "text": [
      "/Users/rachelkoenig/anaconda3/lib/python3.7/site-packages/sklearn/linear_model/logistic.py:433: FutureWarning: Default solver will be changed to 'lbfgs' in 0.22. Specify a solver to silence this warning.\n",
      "  FutureWarning)\n"
     ]
    },
    {
     "name": "stdout",
     "output_type": "stream",
     "text": [
      "0.7602401129943502\n"
     ]
    },
    {
     "data": {
      "text/plain": [
       "{'cvec__max_df': 0.98,\n",
       " 'cvec__max_features': 5000,\n",
       " 'cvec__min_df': 3,\n",
       " 'cvec__ngram_range': (1, 2)}"
      ]
     },
     "execution_count": 116,
     "metadata": {},
     "output_type": "execute_result"
    }
   ],
   "source": [
    "pipe_params = {\n",
    "    'cvec__max_features': [2500, 3000, 4000, 5000],\n",
    "    'cvec__min_df': [2, 3],\n",
    "    'cvec__max_df': [.9, .95, .98],\n",
    "    'cvec__ngram_range': [(1,1), (1,2), (2,3)]\n",
    "}\n",
    "gs = GridSearchCV(pipe, param_grid=pipe_params, cv=3)\n",
    "\n",
    "gs.fit(X_train, y_train)\n",
    "\n",
    "print(gs.best_score_)\n",
    "\n",
    "gs.best_params_"
   ]
  },
  {
   "cell_type": "markdown",
   "metadata": {},
   "source": [
    "Gridsearch cross val score: 76%\n",
    "Best parameters:  \n",
    "cvec__max_df: 0.98  \n",
    "cvec__max_features: 5000  \n",
    "cvec__min_df: 2  \n",
    "cvec__ngram_range: (1, 2)"
   ]
  },
  {
   "cell_type": "code",
   "execution_count": 117,
   "metadata": {},
   "outputs": [
    {
     "data": {
      "text/plain": [
       "0.998587570621469"
      ]
     },
     "execution_count": 117,
     "metadata": {},
     "output_type": "execute_result"
    }
   ],
   "source": [
    "gs.score(X_train, y_train)"
   ]
  },
  {
   "cell_type": "markdown",
   "metadata": {},
   "source": [
    "Gridsearch train score: 99.9%"
   ]
  },
  {
   "cell_type": "code",
   "execution_count": 118,
   "metadata": {},
   "outputs": [
    {
     "data": {
      "text/plain": [
       "0.7365079365079366"
      ]
     },
     "execution_count": 118,
     "metadata": {},
     "output_type": "execute_result"
    }
   ],
   "source": [
    "gs.score(X_test, y_test)"
   ]
  },
  {
   "cell_type": "markdown",
   "metadata": {},
   "source": [
    "Gridsearch test score: 74%"
   ]
  },
  {
   "cell_type": "markdown",
   "metadata": {},
   "source": [
    "Find the coefficients and features from the gridsearch."
   ]
  },
  {
   "cell_type": "code",
   "execution_count": 120,
   "metadata": {},
   "outputs": [],
   "source": [
    "coefs = list(np.exp(gs.best_estimator_.named_steps['lr_pipe'].coef_[0]))"
   ]
  },
  {
   "cell_type": "code",
   "execution_count": 121,
   "metadata": {},
   "outputs": [],
   "source": [
    "features = gs.best_estimator_.named_steps['cvec'].get_feature_names()"
   ]
  },
  {
   "cell_type": "code",
   "execution_count": 122,
   "metadata": {
    "scrolled": true
   },
   "outputs": [],
   "source": [
    "dictionary = dict(zip(features, coefs))"
   ]
  },
  {
   "cell_type": "code",
   "execution_count": 123,
   "metadata": {},
   "outputs": [],
   "source": [
    "coef_df = pd.DataFrame.from_dict(dictionary, orient='index')"
   ]
  },
  {
   "cell_type": "markdown",
   "metadata": {},
   "source": [
    "Here I can seee which 20 individual words and/or bi-grams are having the biggest influence on the model."
   ]
  },
  {
   "cell_type": "code",
   "execution_count": 124,
   "metadata": {},
   "outputs": [
    {
     "data": {
      "text/plain": [
       "my boyfriend    2.661509\n",
       "literally       2.349002\n",
       "wife            2.270028\n",
       "up and          2.224857\n",
       "essentially     2.194719\n",
       "update          2.157443\n",
       "got the         2.112019\n",
       "mostly          2.097368\n",
       "others          2.002450\n",
       "partner         1.974992\n",
       "asked if        1.969277\n",
       "graduate        1.930048\n",
       "at my           1.928458\n",
       "is an           1.914759\n",
       "says            1.905388\n",
       "white           1.903753\n",
       "except          1.897766\n",
       "the other       1.896916\n",
       "it but          1.893022\n",
       "someone else    1.892871\n",
       "affection       1.869167\n",
       "phone           1.865444\n",
       "your            1.862859\n",
       "lied to         1.860568\n",
       "parents         1.850156\n",
       "all the         1.839822\n",
       "end             1.813631\n",
       "19f             1.811425\n",
       "that he         1.809776\n",
       "last night      1.807080\n",
       "Name: 0, dtype: float64"
      ]
     },
     "execution_count": 124,
     "metadata": {},
     "output_type": "execute_result"
    }
   ],
   "source": [
    "coef_df[0].sort_values(ascending=False).head(30)"
   ]
  },
  {
   "cell_type": "markdown",
   "metadata": {},
   "source": [
    "Let's see what KNN does."
   ]
  },
  {
   "cell_type": "code",
   "execution_count": 125,
   "metadata": {},
   "outputs": [],
   "source": [
    "from sklearn.neighbors import KNeighborsClassifier"
   ]
  },
  {
   "cell_type": "code",
   "execution_count": 126,
   "metadata": {},
   "outputs": [],
   "source": [
    "knn = KNeighborsClassifier()"
   ]
  },
  {
   "cell_type": "code",
   "execution_count": 127,
   "metadata": {},
   "outputs": [
    {
     "data": {
      "text/plain": [
       "KNeighborsClassifier(algorithm='auto', leaf_size=30, metric='minkowski',\n",
       "           metric_params=None, n_jobs=None, n_neighbors=5, p=2,\n",
       "           weights='uniform')"
      ]
     },
     "execution_count": 127,
     "metadata": {},
     "output_type": "execute_result"
    }
   ],
   "source": [
    "knn.fit(X_train_vec, y_train)"
   ]
  },
  {
   "cell_type": "markdown",
   "metadata": {},
   "source": [
    "KNN with default paramaters Train score: 74.7%"
   ]
  },
  {
   "cell_type": "code",
   "execution_count": 128,
   "metadata": {},
   "outputs": [
    {
     "data": {
      "text/plain": [
       "0.7471751412429378"
      ]
     },
     "execution_count": 128,
     "metadata": {},
     "output_type": "execute_result"
    }
   ],
   "source": [
    "knn.score(X_train_vec, y_train)"
   ]
  },
  {
   "cell_type": "markdown",
   "metadata": {},
   "source": [
    "KNN test score predicted worse than my baseline model: 58%"
   ]
  },
  {
   "cell_type": "code",
   "execution_count": 129,
   "metadata": {},
   "outputs": [
    {
     "data": {
      "text/plain": [
       "0.6264550264550265"
      ]
     },
     "execution_count": 129,
     "metadata": {},
     "output_type": "execute_result"
    }
   ],
   "source": [
    "knn.score(X_test_vec, y_test)"
   ]
  },
  {
   "cell_type": "markdown",
   "metadata": {},
   "source": [
    "KNN cross val score: 56%"
   ]
  },
  {
   "cell_type": "code",
   "execution_count": 130,
   "metadata": {},
   "outputs": [
    {
     "data": {
      "text/plain": [
       "0.6041818547919426"
      ]
     },
     "execution_count": 130,
     "metadata": {},
     "output_type": "execute_result"
    }
   ],
   "source": [
    "cross_val_score(knn, X_train_vec, y_train, cv=5).mean()"
   ]
  },
  {
   "cell_type": "markdown",
   "metadata": {},
   "source": [
    "KNN did not help and did way worse than my first attempt so I'm going to go back to digging deeper into the features using TfidfVectorizer."
   ]
  },
  {
   "cell_type": "code",
   "execution_count": 131,
   "metadata": {},
   "outputs": [
    {
     "data": {
      "text/plain": [
       "<2832x5000 sparse matrix of type '<class 'numpy.float64'>'\n",
       "\twith 259306 stored elements in Compressed Sparse Row format>"
      ]
     },
     "execution_count": 131,
     "metadata": {},
     "output_type": "execute_result"
    }
   ],
   "source": [
    "tfidf_vectorizer = TfidfVectorizer(stop_words=['relationship', 'girlfriend', \n",
    "                                               'boyfriend', 'friends', 'friends', \n",
    "                                               'just', 'like', 'dating', 'know',\n",
    "                                              'time', 'want', 'really', 'would',\n",
    "                                              'get', 'feel', 'said', 'things', 'think'],\n",
    "                                   ngram_range=(1,2),\n",
    "                                   max_df=0.9,\n",
    "                                   min_df= 2,\n",
    "                                   max_features=5000\n",
    "                                  )\n",
    "\n",
    "tfidf_vectorizer.fit_transform(clean_train_posts)"
   ]
  },
  {
   "cell_type": "markdown",
   "metadata": {},
   "source": [
    "Transform"
   ]
  },
  {
   "cell_type": "code",
   "execution_count": 132,
   "metadata": {},
   "outputs": [],
   "source": [
    "X_train_tfidf = tfidf_vectorizer.transform(clean_train_posts)\n",
    "X_test_tfidf = tfidf_vectorizer.transform(clean_test_posts) "
   ]
  },
  {
   "cell_type": "markdown",
   "metadata": {},
   "source": [
    "Instantiate a new Logistic Regression so as not to override the previous."
   ]
  },
  {
   "cell_type": "code",
   "execution_count": 133,
   "metadata": {},
   "outputs": [],
   "source": [
    "lr = LogisticRegression()"
   ]
  },
  {
   "cell_type": "markdown",
   "metadata": {},
   "source": [
    "Fit the model."
   ]
  },
  {
   "cell_type": "code",
   "execution_count": 134,
   "metadata": {
    "scrolled": true
   },
   "outputs": [
    {
     "name": "stderr",
     "output_type": "stream",
     "text": [
      "/Users/rachelkoenig/anaconda3/lib/python3.7/site-packages/sklearn/linear_model/logistic.py:433: FutureWarning: Default solver will be changed to 'lbfgs' in 0.22. Specify a solver to silence this warning.\n",
      "  FutureWarning)\n"
     ]
    },
    {
     "data": {
      "text/plain": [
       "LogisticRegression(C=1.0, class_weight=None, dual=False, fit_intercept=True,\n",
       "          intercept_scaling=1, max_iter=100, multi_class='warn',\n",
       "          n_jobs=None, penalty='l2', random_state=None, solver='warn',\n",
       "          tol=0.0001, verbose=0, warm_start=False)"
      ]
     },
     "execution_count": 134,
     "metadata": {},
     "output_type": "execute_result"
    }
   ],
   "source": [
    "lr.fit(X_train_tfidf, y_train)"
   ]
  },
  {
   "cell_type": "markdown",
   "metadata": {},
   "source": [
    "Train score went down to 88%"
   ]
  },
  {
   "cell_type": "code",
   "execution_count": 173,
   "metadata": {},
   "outputs": [
    {
     "data": {
      "text/plain": [
       "<2832x5000 sparse matrix of type '<class 'numpy.float64'>'\n",
       "\twith 259306 stored elements in Compressed Sparse Row format>"
      ]
     },
     "execution_count": 173,
     "metadata": {},
     "output_type": "execute_result"
    }
   ],
   "source": [
    "X_train_tfidf"
   ]
  },
  {
   "cell_type": "code",
   "execution_count": 135,
   "metadata": {
    "scrolled": false
   },
   "outputs": [
    {
     "data": {
      "text/plain": [
       "0.8802966101694916"
      ]
     },
     "execution_count": 135,
     "metadata": {},
     "output_type": "execute_result"
    }
   ],
   "source": [
    "lr.score(X_train_tfidf, y_train)"
   ]
  },
  {
   "cell_type": "markdown",
   "metadata": {},
   "source": [
    "Test score stayed the same at 76%"
   ]
  },
  {
   "cell_type": "code",
   "execution_count": 136,
   "metadata": {},
   "outputs": [
    {
     "data": {
      "text/plain": [
       "0.7576719576719577"
      ]
     },
     "execution_count": 136,
     "metadata": {},
     "output_type": "execute_result"
    }
   ],
   "source": [
    "lr.score(X_test_tfidf, y_test)"
   ]
  },
  {
   "cell_type": "markdown",
   "metadata": {},
   "source": [
    "Cross val score stayed the same at 79%."
   ]
  },
  {
   "cell_type": "code",
   "execution_count": 137,
   "metadata": {
    "scrolled": true
   },
   "outputs": [
    {
     "name": "stderr",
     "output_type": "stream",
     "text": [
      "/Users/rachelkoenig/anaconda3/lib/python3.7/site-packages/sklearn/linear_model/logistic.py:433: FutureWarning: Default solver will be changed to 'lbfgs' in 0.22. Specify a solver to silence this warning.\n",
      "  FutureWarning)\n"
     ]
    },
    {
     "data": {
      "text/plain": [
       "0.7913253753992989"
      ]
     },
     "execution_count": 137,
     "metadata": {},
     "output_type": "execute_result"
    }
   ],
   "source": [
    "cross_val_score(lr, X_train_tfidf, y_train, cv=5).mean()"
   ]
  },
  {
   "cell_type": "code",
   "execution_count": 139,
   "metadata": {},
   "outputs": [],
   "source": [
    "X_train_tfidf_df = pd.DataFrame(X_train_tfidf.toarray(),\n",
    "                               columns = tfidf_vectorizer.get_feature_names())"
   ]
  },
  {
   "cell_type": "code",
   "execution_count": 140,
   "metadata": {},
   "outputs": [
    {
     "data": {
      "text/plain": [
       "(2832, 5000)"
      ]
     },
     "execution_count": 140,
     "metadata": {},
     "output_type": "execute_result"
    }
   ],
   "source": [
    "X_train_tfidf_df.shape"
   ]
  },
  {
   "cell_type": "code",
   "execution_count": 141,
   "metadata": {},
   "outputs": [],
   "source": [
    "tfidf_coefs = (np.exp(lr.coef_)[0])\n",
    "\n",
    "tfidf_features = tfidf_vectorizer.get_feature_names()\n",
    "\n",
    "tfidf_coef_dict = dict(zip(tfidf_features, tfidf_coefs))"
   ]
  },
  {
   "cell_type": "code",
   "execution_count": 142,
   "metadata": {},
   "outputs": [],
   "source": [
    "tfidf_df = pd.DataFrame.from_dict(tfidf_coef_dict, orient='index')"
   ]
  },
  {
   "cell_type": "code",
   "execution_count": 143,
   "metadata": {},
   "outputs": [
    {
     "data": {
      "text/html": [
       "<div>\n",
       "<style scoped>\n",
       "    .dataframe tbody tr th:only-of-type {\n",
       "        vertical-align: middle;\n",
       "    }\n",
       "\n",
       "    .dataframe tbody tr th {\n",
       "        vertical-align: top;\n",
       "    }\n",
       "\n",
       "    .dataframe thead th {\n",
       "        text-align: right;\n",
       "    }\n",
       "</style>\n",
       "<table border=\"1\" class=\"dataframe\">\n",
       "  <thead>\n",
       "    <tr style=\"text-align: right;\">\n",
       "      <th></th>\n",
       "      <th>0</th>\n",
       "    </tr>\n",
       "  </thead>\n",
       "  <tbody>\n",
       "    <tr>\n",
       "      <th>aback</th>\n",
       "      <td>1.031485</td>\n",
       "    </tr>\n",
       "    <tr>\n",
       "      <th>abandon</th>\n",
       "      <td>1.005342</td>\n",
       "    </tr>\n",
       "    <tr>\n",
       "      <th>abandoned</th>\n",
       "      <td>1.084123</td>\n",
       "    </tr>\n",
       "    <tr>\n",
       "      <th>ability</th>\n",
       "      <td>1.074378</td>\n",
       "    </tr>\n",
       "    <tr>\n",
       "      <th>able</th>\n",
       "      <td>1.491365</td>\n",
       "    </tr>\n",
       "  </tbody>\n",
       "</table>\n",
       "</div>"
      ],
      "text/plain": [
       "                  0\n",
       "aback      1.031485\n",
       "abandon    1.005342\n",
       "abandoned  1.084123\n",
       "ability    1.074378\n",
       "able       1.491365"
      ]
     },
     "execution_count": 143,
     "metadata": {},
     "output_type": "execute_result"
    }
   ],
   "source": [
    "tfidf_df.head()"
   ]
  },
  {
   "cell_type": "markdown",
   "metadata": {},
   "source": [
    " These are the most highly predictive words in my"
   ]
  },
  {
   "cell_type": "code",
   "execution_count": 145,
   "metadata": {
    "scrolled": true
   },
   "outputs": [
    {
     "data": {
      "text/plain": [
       "parents     8.271122\n",
       "wife        6.659989\n",
       "love        6.591230\n",
       "together    6.571395\n",
       "says        5.413163\n",
       "break       5.329587\n",
       "told        5.084645\n",
       "years       4.997619\n",
       "phone       4.964687\n",
       "telling     4.765602\n",
       "cheated     4.752482\n",
       "gf          4.619905\n",
       "dad         4.605839\n",
       "house       4.463767\n",
       "married     4.073041\n",
       "Name: 0, dtype: float64"
      ]
     },
     "execution_count": 145,
     "metadata": {},
     "output_type": "execute_result"
    }
   ],
   "source": [
    "tfidf_df[0].sort_values(ascending=False).head(15)"
   ]
  },
  {
   "cell_type": "markdown",
   "metadata": {},
   "source": [
    "The word 'parents' is 8.2 times as likely to predict the relationship advice page."
   ]
  },
  {
   "cell_type": "code",
   "execution_count": 146,
   "metadata": {
    "scrolled": true
   },
   "outputs": [
    {
     "data": {
      "text/plain": [
       "<matplotlib.axes._subplots.AxesSubplot at 0x1a1e9bc208>"
      ]
     },
     "execution_count": 146,
     "metadata": {},
     "output_type": "execute_result"
    },
    {
     "data": {
      "image/png": "[encoded data removed]",
      "text/plain": [
       "<Figure size 432x288 with 1 Axes>"
      ]
     },
     "metadata": {
      "needs_background": "light"
     },
     "output_type": "display_data"
    }
   ],
   "source": [
    "tfidf_df[0].sort_values(ascending=False).head(20).plot(kind='barh')"
   ]
  },
  {
   "cell_type": "markdown",
   "metadata": {},
   "source": [
    "For my Bayes Model I will use MultinomialNB because it is better than Gaussian and Bernoulli for text processing.  \n",
    "source: https://medium.com/@awantikdas/a-comprehensive-naive-bayes-tutorial-using-scikit-learn-f6b71ae84431"
   ]
  },
  {
   "cell_type": "code",
   "execution_count": 147,
   "metadata": {},
   "outputs": [
    {
     "data": {
      "text/plain": [
       "<2832x5000 sparse matrix of type '<class 'numpy.float64'>'\n",
       "\twith 70736 stored elements in Compressed Sparse Row format>"
      ]
     },
     "execution_count": 147,
     "metadata": {},
     "output_type": "execute_result"
    }
   ],
   "source": [
    "tfidf_vectorizer_2 = TfidfVectorizer(ngram_range=(2,2),\n",
    "                                   max_df=0.9,\n",
    "                                   min_df= 2,\n",
    "                                   max_features=5000\n",
    "                                  )\n",
    "\n",
    "tfidf_vectorizer_2.fit_transform(clean_train_posts)"
   ]
  },
  {
   "cell_type": "code",
   "execution_count": 148,
   "metadata": {},
   "outputs": [],
   "source": [
    "X_train_2tfidf = tfidf_vectorizer_2.transform(clean_train_posts)\n",
    "X_test_2tfidf = tfidf_vectorizer_2.transform(clean_test_posts) "
   ]
  },
  {
   "cell_type": "code",
   "execution_count": 149,
   "metadata": {},
   "outputs": [],
   "source": [
    "lr_2gram = LogisticRegression()"
   ]
  },
  {
   "cell_type": "code",
   "execution_count": 150,
   "metadata": {},
   "outputs": [
    {
     "data": {
      "text/plain": [
       "LogisticRegression(C=1.0, class_weight=None, dual=False, fit_intercept=True,\n",
       "          intercept_scaling=1, max_iter=100, multi_class='warn',\n",
       "          n_jobs=None, penalty='l2', random_state=None, solver='warn',\n",
       "          tol=0.0001, verbose=0, warm_start=False)"
      ]
     },
     "execution_count": 150,
     "metadata": {},
     "output_type": "execute_result"
    }
   ],
   "source": [
    "lr_2gram.fit(X_train_2tfidf, y_train)"
   ]
  },
  {
   "cell_type": "markdown",
   "metadata": {},
   "source": [
    "Train score: 86.5%"
   ]
  },
  {
   "cell_type": "code",
   "execution_count": 151,
   "metadata": {
    "scrolled": true
   },
   "outputs": [
    {
     "data": {
      "text/plain": [
       "0.9134887005649718"
      ]
     },
     "execution_count": 151,
     "metadata": {},
     "output_type": "execute_result"
    }
   ],
   "source": [
    "lr_2gram.score(X_train_2tfidf, y_train)"
   ]
  },
  {
   "cell_type": "markdown",
   "metadata": {},
   "source": [
    "Test score: 73%"
   ]
  },
  {
   "cell_type": "code",
   "execution_count": 152,
   "metadata": {},
   "outputs": [
    {
     "data": {
      "text/plain": [
       "0.7174603174603175"
      ]
     },
     "execution_count": 152,
     "metadata": {},
     "output_type": "execute_result"
    }
   ],
   "source": [
    "lr_2gram.score(X_test_2tfidf, y_test)"
   ]
  },
  {
   "cell_type": "markdown",
   "metadata": {},
   "source": [
    "Cross val score: 71.6%"
   ]
  },
  {
   "cell_type": "code",
   "execution_count": 153,
   "metadata": {
    "scrolled": true
   },
   "outputs": [
    {
     "name": "stderr",
     "output_type": "stream",
     "text": [
      "/Users/rachelkoenig/anaconda3/lib/python3.7/site-packages/sklearn/linear_model/logistic.py:433: FutureWarning: Default solver will be changed to 'lbfgs' in 0.22. Specify a solver to silence this warning.\n",
      "  FutureWarning)\n"
     ]
    },
    {
     "data": {
      "text/plain": [
       "0.7394161203563206"
      ]
     },
     "execution_count": 153,
     "metadata": {},
     "output_type": "execute_result"
    }
   ],
   "source": [
    "cross_val_score(lr_2gram, X_train_2tfidf, y_train, cv=5).mean()"
   ]
  },
  {
   "cell_type": "code",
   "execution_count": 154,
   "metadata": {},
   "outputs": [],
   "source": [
    "tfidf2_coefs = (np.exp(lr_2gram.coef_)[0])\n",
    "\n",
    "tfidf2_features = tfidf_vectorizer_2.get_feature_names()\n",
    "\n",
    "tfidf2_coef_dict = dict(zip(tfidf2_features, tfidf2_coefs))"
   ]
  },
  {
   "cell_type": "code",
   "execution_count": 155,
   "metadata": {},
   "outputs": [],
   "source": [
    "tfidf2_df = pd.DataFrame.from_dict(tfidf2_coef_dict, orient='index')"
   ]
  },
  {
   "cell_type": "code",
   "execution_count": 156,
   "metadata": {},
   "outputs": [
    {
     "data": {
      "text/plain": [
       "even though         5.611317\n",
       "together years      5.510691\n",
       "two years           4.634633\n",
       "best friend         4.570926\n",
       "feel like           4.291885\n",
       "fast forward        3.829490\n",
       "really love         3.818500\n",
       "long distance       3.805249\n",
       "married years       3.632188\n",
       "girlfriend years    3.388480\n",
       "feels like          3.356721\n",
       "love much           3.329984\n",
       "last night          3.274148\n",
       "say anything        3.177706\n",
       "ys lt               3.117557\n",
       "live together       3.048700\n",
       "best friends        3.022717\n",
       "living together     2.986601\n",
       "one year            2.912052\n",
       "told would          2.879537\n",
       "Name: 0, dtype: float64"
      ]
     },
     "execution_count": 156,
     "metadata": {},
     "output_type": "execute_result"
    }
   ],
   "source": [
    "tfidf2_df[0].sort_values(ascending=False).head(20)"
   ]
  },
  {
   "cell_type": "code",
   "execution_count": 157,
   "metadata": {},
   "outputs": [],
   "source": [
    "from sklearn.naive_bayes import MultinomialNB"
   ]
  },
  {
   "cell_type": "code",
   "execution_count": 158,
   "metadata": {},
   "outputs": [],
   "source": [
    "mnb = MultinomialNB()"
   ]
  },
  {
   "cell_type": "code",
   "execution_count": 159,
   "metadata": {},
   "outputs": [
    {
     "data": {
      "text/plain": [
       "MultinomialNB(alpha=1.0, class_prior=None, fit_prior=True)"
      ]
     },
     "execution_count": 159,
     "metadata": {},
     "output_type": "execute_result"
    }
   ],
   "source": [
    "mnb.fit(X_train_vec, y_train)"
   ]
  },
  {
   "cell_type": "code",
   "execution_count": 160,
   "metadata": {},
   "outputs": [
    {
     "data": {
      "text/plain": [
       "0.8848870056497176"
      ]
     },
     "execution_count": 160,
     "metadata": {},
     "output_type": "execute_result"
    }
   ],
   "source": [
    "mnb.score(X_train_vec, y_train)"
   ]
  },
  {
   "cell_type": "code",
   "execution_count": 161,
   "metadata": {},
   "outputs": [
    {
     "data": {
      "text/plain": [
       "0.7587301587301587"
      ]
     },
     "execution_count": 161,
     "metadata": {},
     "output_type": "execute_result"
    }
   ],
   "source": [
    "mnb.score(X_test_vec, y_test)"
   ]
  },
  {
   "cell_type": "code",
   "execution_count": 162,
   "metadata": {},
   "outputs": [],
   "source": [
    "y_pred = mnb.predict(X_test_vec)"
   ]
  },
  {
   "cell_type": "code",
   "execution_count": 164,
   "metadata": {},
   "outputs": [
    {
     "data": {
      "text/plain": [
       "array([[341, 111],\n",
       "       [117, 376]])"
      ]
     },
     "execution_count": 164,
     "metadata": {},
     "output_type": "execute_result"
    }
   ],
   "source": [
    "from sklearn.metrics import confusion_matrix\n",
    "confusion_matrix(y_test, y_pred)"
   ]
  },
  {
   "cell_type": "markdown",
   "metadata": {},
   "source": [
    "The confusion matrix shows we have a somewhat low false predictions. "
   ]
  },
  {
   "cell_type": "code",
   "execution_count": 170,
   "metadata": {},
   "outputs": [
    {
     "data": {
      "text/html": [
       "<div>\n",
       "<style scoped>\n",
       "    .dataframe tbody tr th:only-of-type {\n",
       "        vertical-align: middle;\n",
       "    }\n",
       "\n",
       "    .dataframe tbody tr th {\n",
       "        vertical-align: top;\n",
       "    }\n",
       "\n",
       "    .dataframe thead th {\n",
       "        text-align: right;\n",
       "    }\n",
       "</style>\n",
       "<table border=\"1\" class=\"dataframe\">\n",
       "  <thead>\n",
       "    <tr style=\"text-align: right;\">\n",
       "      <th></th>\n",
       "      <th>id</th>\n",
       "      <th>author</th>\n",
       "      <th>title</th>\n",
       "      <th>selftext</th>\n",
       "      <th>timestamp</th>\n",
       "      <th>num_comments</th>\n",
       "      <th>ups</th>\n",
       "      <th>subreddit</th>\n",
       "      <th>all_text</th>\n",
       "      <th>token_titles</th>\n",
       "      <th>token_selftext</th>\n",
       "    </tr>\n",
       "  </thead>\n",
       "  <tbody>\n",
       "    <tr>\n",
       "      <th>993</th>\n",
       "      <td>caoli8</td>\n",
       "      <td>horst_from_germany</td>\n",
       "      <td>Please help - My old family is a complete chaos</td>\n",
       "      <td>&amp;amp;#x200B;\\n\\nPlease help - My old family is...</td>\n",
       "      <td>2019-07-08 18:09:25</td>\n",
       "      <td>0</td>\n",
       "      <td>2</td>\n",
       "      <td>1</td>\n",
       "      <td>Please help - My old family is a complete chao...</td>\n",
       "      <td>[Please, help, -, My, old, family, is, a, comp...</td>\n",
       "      <td>[&amp;amp;#x200B;, Please, help, -, My, old, famil...</td>\n",
       "    </tr>\n",
       "    <tr>\n",
       "      <th>996</th>\n",
       "      <td>caol6g</td>\n",
       "      <td>littlelunaa12</td>\n",
       "      <td>I (f,19) was set to be married to my (m,23) ar...</td>\n",
       "      <td>My ex (m,23) and I (f,19) had been dating for ...</td>\n",
       "      <td>2019-07-08 18:08:49</td>\n",
       "      <td>0</td>\n",
       "      <td>1</td>\n",
       "      <td>1</td>\n",
       "      <td>I (f,19) was set to be married to my (m,23) ar...</td>\n",
       "      <td>[I, (f,19), was, set, to, be, married, to, my,...</td>\n",
       "      <td>[My, ex, (m,23), and, I, (f,19), had, been, da...</td>\n",
       "    </tr>\n",
       "    <tr>\n",
       "      <th>1002</th>\n",
       "      <td>caohoj</td>\n",
       "      <td>lavender-vanilla</td>\n",
       "      <td>My [23F] boyfriend [21M] of two years wants me...</td>\n",
       "      <td>First post, sorry if this is the wrong place t...</td>\n",
       "      <td>2019-07-08 18:02:04</td>\n",
       "      <td>2</td>\n",
       "      <td>2</td>\n",
       "      <td>1</td>\n",
       "      <td>My [23F] boyfriend [21M] of two years wants me...</td>\n",
       "      <td>[My, [23F], boyfriend, [21M], of, two, years, ...</td>\n",
       "      <td>[First, post, ,, sorry, if, this, is, the, wro...</td>\n",
       "    </tr>\n",
       "    <tr>\n",
       "      <th>1006</th>\n",
       "      <td>caofgl</td>\n",
       "      <td>dukes1998</td>\n",
       "      <td>I (20M) am worried I may be getting “too into”...</td>\n",
       "      <td>So me and my girlfriend have been officially d...</td>\n",
       "      <td>2019-07-08 17:57:37</td>\n",
       "      <td>0</td>\n",
       "      <td>1</td>\n",
       "      <td>1</td>\n",
       "      <td>I (20M) am worried I may be getting “too into”...</td>\n",
       "      <td>[I, (20M), am, worried, I, may, be, getting, “...</td>\n",
       "      <td>[So, me, and, my, girlfriend, have, been, offi...</td>\n",
       "    </tr>\n",
       "    <tr>\n",
       "      <th>1010</th>\n",
       "      <td>caoed9</td>\n",
       "      <td>throwaway1306__</td>\n",
       "      <td>Guy [25M] I'm [22F] seeing has a girl [28F] in...</td>\n",
       "      <td>I (22f) started seeing this guy (25m) around S...</td>\n",
       "      <td>2019-07-08 17:55:18</td>\n",
       "      <td>0</td>\n",
       "      <td>1</td>\n",
       "      <td>1</td>\n",
       "      <td>Guy [25M] I'm [22F] seeing has a girl [28F] in...</td>\n",
       "      <td>[Guy, [25M], I, 'm, [22F], seeing, has, a, gir...</td>\n",
       "      <td>[I, (22f), started, seeing, this, guy, (25m), ...</td>\n",
       "    </tr>\n",
       "    <tr>\n",
       "      <th>1011</th>\n",
       "      <td>caod1d</td>\n",
       "      <td>drawforKeysT_T</td>\n",
       "      <td>My [25/F]friend is having her bday party at my...</td>\n",
       "      <td>I am the only one in my group of friends who h...</td>\n",
       "      <td>2019-07-08 17:52:29</td>\n",
       "      <td>3</td>\n",
       "      <td>1</td>\n",
       "      <td>1</td>\n",
       "      <td>My [25/F]friend is having her bday party at my...</td>\n",
       "      <td>[My, [25/F]friend, is, having, her, bday, part...</td>\n",
       "      <td>[I, am, the, only, one, in, my, group, of, fri...</td>\n",
       "    </tr>\n",
       "    <tr>\n",
       "      <th>1012</th>\n",
       "      <td>caocq9</td>\n",
       "      <td>DrDrakeRamorayEel</td>\n",
       "      <td>I have a creepy step granddad and I don't know...</td>\n",
       "      <td>Ok first thing, I was molested by a neighbor w...</td>\n",
       "      <td>2019-07-08 17:51:53</td>\n",
       "      <td>1</td>\n",
       "      <td>1</td>\n",
       "      <td>1</td>\n",
       "      <td>I have a creepy step granddad and I don't know...</td>\n",
       "      <td>[I, have, a, creepy, step, granddad, and, I, d...</td>\n",
       "      <td>[Ok, first, thing, ,, I, was, molested, by, a,...</td>\n",
       "    </tr>\n",
       "    <tr>\n",
       "      <th>1017</th>\n",
       "      <td>caoc1r</td>\n",
       "      <td>throwitalldown456</td>\n",
       "      <td>I (34F) worry about being too needy/ clingy in...</td>\n",
       "      <td>In a very long-term relationship, I was always...</td>\n",
       "      <td>2019-07-08 17:50:25</td>\n",
       "      <td>2</td>\n",
       "      <td>2</td>\n",
       "      <td>1</td>\n",
       "      <td>I (34F) worry about being too needy/ clingy in...</td>\n",
       "      <td>[I, (34F), worry, about, being, too, needy, /,...</td>\n",
       "      <td>[In, a, very, long, -term, relationship, ,, I,...</td>\n",
       "    </tr>\n",
       "    <tr>\n",
       "      <th>1024</th>\n",
       "      <td>cao9wc</td>\n",
       "      <td>PhoenixAria87</td>\n",
       "      <td>I [30f] don't want to change my last name, my ...</td>\n",
       "      <td>This is just a big confusing mess and I'm not ...</td>\n",
       "      <td>2019-07-08 17:45:58</td>\n",
       "      <td>17</td>\n",
       "      <td>1</td>\n",
       "      <td>1</td>\n",
       "      <td>I [30f] don't want to change my last name, my ...</td>\n",
       "      <td>[I, [30f], don, 't, want, to, change, my, last...</td>\n",
       "      <td>[This, is, just, a, big, confusing, mess, and,...</td>\n",
       "    </tr>\n",
       "    <tr>\n",
       "      <th>1026</th>\n",
       "      <td>cao9be</td>\n",
       "      <td>throwaway991100221</td>\n",
       "      <td>I am so hurt and confused. Need help</td>\n",
       "      <td>I will try to make this short.\\n\\nI 33(F, Afr...</td>\n",
       "      <td>2019-07-08 17:44:45</td>\n",
       "      <td>8</td>\n",
       "      <td>1</td>\n",
       "      <td>1</td>\n",
       "      <td>I am so hurt and confused. Need help I will tr...</td>\n",
       "      <td>[I, am, so, hurt, and, confused, ., Need, help]</td>\n",
       "      <td>[I, will, try, to, make, this, short, ., I, 33...</td>\n",
       "    </tr>\n",
       "    <tr>\n",
       "      <th>1040</th>\n",
       "      <td>cao56w</td>\n",
       "      <td>chocolatecumdumpster</td>\n",
       "      <td>I met my bf online, lied about his age and how...</td>\n",
       "      <td>I’m 17 turning 18 he is 20 turning 21. We met ...</td>\n",
       "      <td>2019-07-08 17:36:38</td>\n",
       "      <td>18</td>\n",
       "      <td>3</td>\n",
       "      <td>1</td>\n",
       "      <td>I met my bf online, lied about his age and how...</td>\n",
       "      <td>[I, met, my, bf, online, ,, lied, about, his, ...</td>\n",
       "      <td>[I, ’m, 17, turning, 18, he, is, 20, turning, ...</td>\n",
       "    </tr>\n",
       "    <tr>\n",
       "      <th>1058</th>\n",
       "      <td>canwbn</td>\n",
       "      <td>RoflexKun</td>\n",
       "      <td>I made a contest with a friend and the prize i...</td>\n",
       "      <td>A little bit of context: \\nI'm a 15yo from Rom...</td>\n",
       "      <td>2019-07-08 17:17:57</td>\n",
       "      <td>4</td>\n",
       "      <td>0</td>\n",
       "      <td>1</td>\n",
       "      <td>I made a contest with a friend and the prize i...</td>\n",
       "      <td>[I, made, a, contest, with, a, friend, and, th...</td>\n",
       "      <td>[A, little, bit, of, context, :, I, 'm, a, 15y...</td>\n",
       "    </tr>\n",
       "    <tr>\n",
       "      <th>1065</th>\n",
       "      <td>canrpx</td>\n",
       "      <td>Delilah1998</td>\n",
       "      <td>[20F] Help with my crippling relationship anxi...</td>\n",
       "      <td>I will TRY  to make it short. \\n\\nI have GAD (...</td>\n",
       "      <td>2019-07-08 17:08:38</td>\n",
       "      <td>6</td>\n",
       "      <td>2</td>\n",
       "      <td>1</td>\n",
       "      <td>[20F] Help with my crippling relationship anxi...</td>\n",
       "      <td>[[20F], Help, with, my, crippling, relationshi...</td>\n",
       "      <td>[I, will, TRY, to, make, it, short, ., I, have...</td>\n",
       "    </tr>\n",
       "    <tr>\n",
       "      <th>1066</th>\n",
       "      <td>canrnm</td>\n",
       "      <td>ItchyNarwhal</td>\n",
       "      <td>I (34F) am seeking advice on dealing with an o...</td>\n",
       "      <td>My Mother-in-law is dead convinced something b...</td>\n",
       "      <td>2019-07-08 17:08:29</td>\n",
       "      <td>1</td>\n",
       "      <td>1</td>\n",
       "      <td>1</td>\n",
       "      <td>I (34F) am seeking advice on dealing with an o...</td>\n",
       "      <td>[I, (34F), am, seeking, advice, on, dealing, w...</td>\n",
       "      <td>[My, Mother, -in-law, is, dead, convinced, som...</td>\n",
       "    </tr>\n",
       "    <tr>\n",
       "      <th>1068</th>\n",
       "      <td>canppo</td>\n",
       "      <td>97WaterPolo</td>\n",
       "      <td>Girlfriend relationship reoccurring issues</td>\n",
       "      <td>\\nHi everyone,\\n\\nI need some help with my rel...</td>\n",
       "      <td>2019-07-08 17:04:22</td>\n",
       "      <td>2</td>\n",
       "      <td>1</td>\n",
       "      <td>1</td>\n",
       "      <td>Girlfriend relationship reoccurring issues\\nHi...</td>\n",
       "      <td>[Girlfriend, relationship, reoccurring, issues]</td>\n",
       "      <td>[Hi, everyone, ,, I, need, some, help, with, m...</td>\n",
       "    </tr>\n",
       "    <tr>\n",
       "      <th>1074</th>\n",
       "      <td>canmr3</td>\n",
       "      <td>moonswavesATnight</td>\n",
       "      <td>Love Hurts</td>\n",
       "      <td>Long story short. My boyfriend (22) recently w...</td>\n",
       "      <td>2019-07-08 16:58:10</td>\n",
       "      <td>3</td>\n",
       "      <td>1</td>\n",
       "      <td>1</td>\n",
       "      <td>Love HurtsLong story short. My boyfriend (22) ...</td>\n",
       "      <td>[Love, Hurts]</td>\n",
       "      <td>[Long, story, short, ., My, boyfriend, (22), r...</td>\n",
       "    </tr>\n",
       "    <tr>\n",
       "      <th>1078</th>\n",
       "      <td>canm12</td>\n",
       "      <td>WiseManSayingNothing</td>\n",
       "      <td>(30M) My high school sweet heart and wife (29F...</td>\n",
       "      <td>We’ve been together for 14 years, been married...</td>\n",
       "      <td>2019-07-08 16:56:39</td>\n",
       "      <td>5</td>\n",
       "      <td>1</td>\n",
       "      <td>1</td>\n",
       "      <td>(30M) My high school sweet heart and wife (29F...</td>\n",
       "      <td>[(30M), My, high, school, sweet, heart, and, w...</td>\n",
       "      <td>[We, ’ve, been, together, for, 14, years, ,, b...</td>\n",
       "    </tr>\n",
       "    <tr>\n",
       "      <th>1079</th>\n",
       "      <td>canlmw</td>\n",
       "      <td>adviceandadvise</td>\n",
       "      <td>My (25M) girlfriend(24F) wants to break up bec...</td>\n",
       "      <td>TL;DR: SO doesn’t feel ready for a relationshi...</td>\n",
       "      <td>2019-07-08 16:55:52</td>\n",
       "      <td>5</td>\n",
       "      <td>4</td>\n",
       "      <td>1</td>\n",
       "      <td>My (25M) girlfriend(24F) wants to break up bec...</td>\n",
       "      <td>[My, (25M), girlfriend, (24F), wants, to, brea...</td>\n",
       "      <td>[TL, ;DR:, SO, doesn, ’t, feel, ready, for, a,...</td>\n",
       "    </tr>\n",
       "    <tr>\n",
       "      <th>1081</th>\n",
       "      <td>cankf2</td>\n",
       "      <td>boyant24</td>\n",
       "      <td>Am I in a rut/depressed with my relationship.</td>\n",
       "      <td>Hi Reddit. (Apologies in advance for the long ...</td>\n",
       "      <td>2019-07-08 16:53:24</td>\n",
       "      <td>2</td>\n",
       "      <td>1</td>\n",
       "      <td>1</td>\n",
       "      <td>Am I in a rut/depressed with my relationship.H...</td>\n",
       "      <td>[Am, I, in, a, rut, /depressed, with, my, rela...</td>\n",
       "      <td>[Hi, Reddit, ., (Apologies, in, advance, for, ...</td>\n",
       "    </tr>\n",
       "    <tr>\n",
       "      <th>1083</th>\n",
       "      <td>caniou</td>\n",
       "      <td>quesomonstruo</td>\n",
       "      <td>After a falling out my sister in law told the ...</td>\n",
       "      <td>Sorry if this is all over. I wrote it on my ph...</td>\n",
       "      <td>2019-07-08 16:49:36</td>\n",
       "      <td>3</td>\n",
       "      <td>1</td>\n",
       "      <td>1</td>\n",
       "      <td>After a falling out my sister in law told the ...</td>\n",
       "      <td>[After, a, falling, out, my, sister, in, law, ...</td>\n",
       "      <td>[Sorry, if, this, is, all, over, ., I, wrote, ...</td>\n",
       "    </tr>\n",
       "    <tr>\n",
       "      <th>1084</th>\n",
       "      <td>canhj3</td>\n",
       "      <td>throwawayaccountt567</td>\n",
       "      <td>I’m tired of helping my little sister with her...</td>\n",
       "      <td>This is not my main account (throwaway) becaus...</td>\n",
       "      <td>2019-07-08 16:47:10</td>\n",
       "      <td>12</td>\n",
       "      <td>0</td>\n",
       "      <td>1</td>\n",
       "      <td>I’m tired of helping my little sister with her...</td>\n",
       "      <td>[I, ’m, tired, of, helping, my, little, sister...</td>\n",
       "      <td>[This, is, not, my, main, account, (throwaway)...</td>\n",
       "    </tr>\n",
       "    <tr>\n",
       "      <th>1085</th>\n",
       "      <td>canhgz</td>\n",
       "      <td>AtharvaChavan</td>\n",
       "      <td>Me (18M) and my girlfriend (18F) are going thr...</td>\n",
       "      <td>Me and my girlfriend are dating since we were ...</td>\n",
       "      <td>2019-07-08 16:47:02</td>\n",
       "      <td>0</td>\n",
       "      <td>1</td>\n",
       "      <td>1</td>\n",
       "      <td>Me (18M) and my girlfriend (18F) are going thr...</td>\n",
       "      <td>[Me, (18M), and, my, girlfriend, (18F), are, g...</td>\n",
       "      <td>[Me, and, my, girlfriend, are, dating, since, ...</td>\n",
       "    </tr>\n",
       "    <tr>\n",
       "      <th>1090</th>\n",
       "      <td>cangt3</td>\n",
       "      <td>wasabihelp1</td>\n",
       "      <td>Boyfriend doesn’t want to spend time with my f...</td>\n",
       "      <td>Pretty much self-explanatory but my(19F) boyfr...</td>\n",
       "      <td>2019-07-08 16:45:37</td>\n",
       "      <td>2</td>\n",
       "      <td>1</td>\n",
       "      <td>1</td>\n",
       "      <td>Boyfriend doesn’t want to spend time with my f...</td>\n",
       "      <td>[Boyfriend, doesn, ’t, want, to, spend, time, ...</td>\n",
       "      <td>[Pretty, much, self, -explanatory, but, my, (1...</td>\n",
       "    </tr>\n",
       "    <tr>\n",
       "      <th>1105</th>\n",
       "      <td>canbbc</td>\n",
       "      <td>quesomonstruo</td>\n",
       "      <td>After a falling out my sister in law (32F seco...</td>\n",
       "      <td>Sorry if this is all over. I wrote it on my ph...</td>\n",
       "      <td>2019-07-08 16:33:36</td>\n",
       "      <td>5</td>\n",
       "      <td>0</td>\n",
       "      <td>1</td>\n",
       "      <td>After a falling out my sister in law (32F seco...</td>\n",
       "      <td>[After, a, falling, out, my, sister, in, law, ...</td>\n",
       "      <td>[Sorry, if, this, is, all, over, ., I, wrote, ...</td>\n",
       "    </tr>\n",
       "    <tr>\n",
       "      <th>1107</th>\n",
       "      <td>canb3i</td>\n",
       "      <td>pastelpanda28</td>\n",
       "      <td>My (20F) boyfriend (19M) thinks planning our f...</td>\n",
       "      <td>The title is basically the tldr, but lately I ...</td>\n",
       "      <td>2019-07-08 16:33:06</td>\n",
       "      <td>19</td>\n",
       "      <td>2</td>\n",
       "      <td>1</td>\n",
       "      <td>My (20F) boyfriend (19M) thinks planning our f...</td>\n",
       "      <td>[My, (20F), boyfriend, (19M), thinks, planning...</td>\n",
       "      <td>[The, title, is, basically, the, tldr, ,, but,...</td>\n",
       "    </tr>\n",
       "    <tr>\n",
       "      <th>1116</th>\n",
       "      <td>can5vp</td>\n",
       "      <td>Squidd_Milk</td>\n",
       "      <td>My boyfriend’s parents track his phone 24/7, a...</td>\n",
       "      <td>Hello reddit, I’m not sure if this is the righ...</td>\n",
       "      <td>2019-07-08 16:21:45</td>\n",
       "      <td>11</td>\n",
       "      <td>8</td>\n",
       "      <td>1</td>\n",
       "      <td>My boyfriend’s parents track his phone 24/7, a...</td>\n",
       "      <td>[My, boyfriend, ’s, parents, track, his, phone...</td>\n",
       "      <td>[Hello, reddit, ,, I, ’m, not, sure, if, this,...</td>\n",
       "    </tr>\n",
       "    <tr>\n",
       "      <th>1120</th>\n",
       "      <td>can3ro</td>\n",
       "      <td>bhp13</td>\n",
       "      <td>I need urgent advice- Please someone tell me h...</td>\n",
       "      <td>Ok, this is a long post. Attention any skilled...</td>\n",
       "      <td>2019-07-08 16:17:29</td>\n",
       "      <td>2</td>\n",
       "      <td>1</td>\n",
       "      <td>1</td>\n",
       "      <td>I need urgent advice- Please someone tell me h...</td>\n",
       "      <td>[I, need, urgent, advice, -, Please, someone, ...</td>\n",
       "      <td>[Ok, ,, this, is, a, long, post, ., Attention,...</td>\n",
       "    </tr>\n",
       "    <tr>\n",
       "      <th>1124</th>\n",
       "      <td>can37u</td>\n",
       "      <td>steamincoffee</td>\n",
       "      <td>i (17f) think my mom (37f) resents me.</td>\n",
       "      <td>lemme give y’all some background (skip this pa...</td>\n",
       "      <td>2019-07-08 16:16:27</td>\n",
       "      <td>2</td>\n",
       "      <td>1</td>\n",
       "      <td>1</td>\n",
       "      <td>i (17f) think my mom (37f) resents me.lemme gi...</td>\n",
       "      <td>[i, (17f), think, my, mom, (37f), resents, me, .]</td>\n",
       "      <td>[lemme, give, y, ’all, some, background, (skip...</td>\n",
       "    </tr>\n",
       "    <tr>\n",
       "      <th>1133</th>\n",
       "      <td>can0ga</td>\n",
       "      <td>hiroshimasfoot</td>\n",
       "      <td>I went on vacation with my boyfriend’s family ...</td>\n",
       "      <td>I made an earlier post in this subreddit menti...</td>\n",
       "      <td>2019-07-08 16:10:26</td>\n",
       "      <td>1</td>\n",
       "      <td>1</td>\n",
       "      <td>1</td>\n",
       "      <td>I went on vacation with my boyfriend’s family ...</td>\n",
       "      <td>[I, went, on, vacation, with, my, boyfriend, ’...</td>\n",
       "      <td>[I, made, an, earlier, post, in, this, subredd...</td>\n",
       "    </tr>\n",
       "    <tr>\n",
       "      <th>1135</th>\n",
       "      <td>camz9y</td>\n",
       "      <td>NotMagicJustScience</td>\n",
       "      <td>My(f20) boyfriend(m20) of three years won't mo...</td>\n",
       "      <td>Hey everyone, thanks for reading. I have the l...</td>\n",
       "      <td>2019-07-08 16:08:00</td>\n",
       "      <td>2</td>\n",
       "      <td>0</td>\n",
       "      <td>1</td>\n",
       "      <td>My(f20) boyfriend(m20) of three years won't mo...</td>\n",
       "      <td>[My, (f20), boyfriend, (m20), of, three, years...</td>\n",
       "      <td>[Hey, everyone, ,, thanks, for, reading, ., I,...</td>\n",
       "    </tr>\n",
       "    <tr>\n",
       "      <th>...</th>\n",
       "      <td>...</td>\n",
       "      <td>...</td>\n",
       "      <td>...</td>\n",
       "      <td>...</td>\n",
       "      <td>...</td>\n",
       "      <td>...</td>\n",
       "      <td>...</td>\n",
       "      <td>...</td>\n",
       "      <td>...</td>\n",
       "      <td>...</td>\n",
       "      <td>...</td>\n",
       "    </tr>\n",
       "    <tr>\n",
       "      <th>2758</th>\n",
       "      <td>c9z85g</td>\n",
       "      <td>A_Tamas</td>\n",
       "      <td>Agressive Grandfather</td>\n",
       "      <td>Hey guys, first of all I'd like to intruduce m...</td>\n",
       "      <td>2019-07-06 21:56:26</td>\n",
       "      <td>4</td>\n",
       "      <td>2</td>\n",
       "      <td>1</td>\n",
       "      <td>Agressive GrandfatherHey guys, first of all I'...</td>\n",
       "      <td>[Agressive, Grandfather]</td>\n",
       "      <td>[Hey, guys, ,, first, of, all, I, 'd, like, to...</td>\n",
       "    </tr>\n",
       "    <tr>\n",
       "      <th>2761</th>\n",
       "      <td>ca1fdb</td>\n",
       "      <td>K_rose315</td>\n",
       "      <td>Am I in a toxic relationship?</td>\n",
       "      <td>I’m (21f) dating a guy (24m) who to me is a li...</td>\n",
       "      <td>2019-07-07 01:37:26</td>\n",
       "      <td>11</td>\n",
       "      <td>1</td>\n",
       "      <td>1</td>\n",
       "      <td>Am I in a toxic relationship?I’m (21f) dating ...</td>\n",
       "      <td>[Am, I, in, a, toxic, relationship, ?]</td>\n",
       "      <td>[I, ’m, (21f), dating, a, guy, (24m), who, to,...</td>\n",
       "    </tr>\n",
       "    <tr>\n",
       "      <th>2772</th>\n",
       "      <td>ca18c9</td>\n",
       "      <td>AdviceAcct1996</td>\n",
       "      <td>Brother and his gf staying over</td>\n",
       "      <td>Mobile sry for formatting\\n\\nBrother and his g...</td>\n",
       "      <td>2019-07-07 01:15:46</td>\n",
       "      <td>2</td>\n",
       "      <td>1</td>\n",
       "      <td>1</td>\n",
       "      <td>Brother and his gf staying overMobile sry for ...</td>\n",
       "      <td>[Brother, and, his, gf, staying, over]</td>\n",
       "      <td>[Mobile, sry, for, formatting, Brother, and, h...</td>\n",
       "    </tr>\n",
       "    <tr>\n",
       "      <th>2779</th>\n",
       "      <td>c9yvzb</td>\n",
       "      <td>amicus_elephantus</td>\n",
       "      <td>She broke up with me 2 weeks ago and I have no...</td>\n",
       "      <td>My girlfriend and I dated for almost 3 1/2 yrs...</td>\n",
       "      <td>2019-07-06 21:25:39</td>\n",
       "      <td>5</td>\n",
       "      <td>2</td>\n",
       "      <td>1</td>\n",
       "      <td>She broke up with me 2 weeks ago and I have no...</td>\n",
       "      <td>[She, broke, up, with, me, 2, weeks, ago, and,...</td>\n",
       "      <td>[My, girlfriend, and, I, dated, for, almost, 3...</td>\n",
       "    </tr>\n",
       "    <tr>\n",
       "      <th>2780</th>\n",
       "      <td>ca16mn</td>\n",
       "      <td>HopefulReputation</td>\n",
       "      <td>My (22F) boyfriend (23M) told me his family do...</td>\n",
       "      <td># \\n\\n📷\\n\\nMy boyfriend is and has been my bes...</td>\n",
       "      <td>2019-07-07 01:10:41</td>\n",
       "      <td>6</td>\n",
       "      <td>0</td>\n",
       "      <td>1</td>\n",
       "      <td>My (22F) boyfriend (23M) told me his family do...</td>\n",
       "      <td>[My, (22F), boyfriend, (23M), told, me, his, f...</td>\n",
       "      <td>[#, 📷, My, boyfriend, is, and, has, been, my, ...</td>\n",
       "    </tr>\n",
       "    <tr>\n",
       "      <th>2784</th>\n",
       "      <td>ca12kc</td>\n",
       "      <td>Maukin</td>\n",
       "      <td>I don't know what to do anymore</td>\n",
       "      <td>\\n\\nI (28m) have been in a relationship (27f)...</td>\n",
       "      <td>2019-07-07 00:59:04</td>\n",
       "      <td>3</td>\n",
       "      <td>1</td>\n",
       "      <td>1</td>\n",
       "      <td>I don't know what to do anymore \\n\\nI (28m) ha...</td>\n",
       "      <td>[I, don, 't, know, what, to, do, anymore]</td>\n",
       "      <td>[I, (28m), have, been, in, a, relationship, (2...</td>\n",
       "    </tr>\n",
       "    <tr>\n",
       "      <th>2787</th>\n",
       "      <td>c9yos7</td>\n",
       "      <td>thrxwaway18947</td>\n",
       "      <td>Does he [18 M] still love me [18 F] the same?</td>\n",
       "      <td>SO [18 M] and I [18 F] have been dating for ab...</td>\n",
       "      <td>2019-07-06 21:08:00</td>\n",
       "      <td>2</td>\n",
       "      <td>2</td>\n",
       "      <td>1</td>\n",
       "      <td>Does he [18 M] still love me [18 F] the same?S...</td>\n",
       "      <td>[Does, he, [18, M, ], still, love, me, [18, F,...</td>\n",
       "      <td>[SO, [18, M, ], and, I, [18, F, ], have, been,...</td>\n",
       "    </tr>\n",
       "    <tr>\n",
       "      <th>2791</th>\n",
       "      <td>ca0zs8</td>\n",
       "      <td>bluefox221</td>\n",
       "      <td>Tinder Guy “Stood Me Up”/Lead Me On</td>\n",
       "      <td>This happened around the beginning of June. I’...</td>\n",
       "      <td>2019-07-07 00:50:50</td>\n",
       "      <td>5</td>\n",
       "      <td>1</td>\n",
       "      <td>1</td>\n",
       "      <td>Tinder Guy “Stood Me Up”/Lead Me OnThis happen...</td>\n",
       "      <td>[Tinder, Guy, “Stood, Me, Up, ”/Lead, Me, On]</td>\n",
       "      <td>[This, happened, around, the, beginning, of, J...</td>\n",
       "    </tr>\n",
       "    <tr>\n",
       "      <th>2793</th>\n",
       "      <td>c9r0zf</td>\n",
       "      <td>EmmiRoeo</td>\n",
       "      <td>An asshole has torn my friend's confidence and...</td>\n",
       "      <td>My friend from Morocco has been leaving in Par...</td>\n",
       "      <td>2019-07-06 07:43:34</td>\n",
       "      <td>8</td>\n",
       "      <td>24</td>\n",
       "      <td>1</td>\n",
       "      <td>An asshole has torn my friend's confidence and...</td>\n",
       "      <td>[An, asshole, has, torn, my, friend, 's, confi...</td>\n",
       "      <td>[My, friend, from, Morocco, has, been, leaving...</td>\n",
       "    </tr>\n",
       "    <tr>\n",
       "      <th>2796</th>\n",
       "      <td>ca0vvs</td>\n",
       "      <td>kyliegh0</td>\n",
       "      <td>I think my (19F) boyfriend (18M) is taking adv...</td>\n",
       "      <td>TL;DR at the bottom\\n\\nSo i’m in a personal di...</td>\n",
       "      <td>2019-07-07 00:38:55</td>\n",
       "      <td>2</td>\n",
       "      <td>1</td>\n",
       "      <td>1</td>\n",
       "      <td>I think my (19F) boyfriend (18M) is taking adv...</td>\n",
       "      <td>[I, think, my, (19F), boyfriend, (18M), is, ta...</td>\n",
       "      <td>[TL, ;DR, at, the, bottom, So, i, ’m, in, a, p...</td>\n",
       "    </tr>\n",
       "    <tr>\n",
       "      <th>2800</th>\n",
       "      <td>c9yf4p</td>\n",
       "      <td>butlikewhythou</td>\n",
       "      <td>Should I [22f] leave my cheating bf [25m]</td>\n",
       "      <td>So, this may or may not be long. If it’s long,...</td>\n",
       "      <td>2019-07-06 20:44:32</td>\n",
       "      <td>10</td>\n",
       "      <td>2</td>\n",
       "      <td>1</td>\n",
       "      <td>Should I [22f] leave my cheating bf [25m]So, t...</td>\n",
       "      <td>[Should, I, [22f], leave, my, cheating, bf, [2...</td>\n",
       "      <td>[So, ,, this, may, or, may, not, be, long, ., ...</td>\n",
       "    </tr>\n",
       "    <tr>\n",
       "      <th>2807</th>\n",
       "      <td>ca0n87</td>\n",
       "      <td>cactuslover6789</td>\n",
       "      <td>HELP I don’t know how to break up with my boyf...</td>\n",
       "      <td>long story but please help!!! \\n\\n\\nI’m an 18 ...</td>\n",
       "      <td>2019-07-07 00:14:20</td>\n",
       "      <td>6</td>\n",
       "      <td>1</td>\n",
       "      <td>1</td>\n",
       "      <td>HELP I don’t know how to break up with my boyf...</td>\n",
       "      <td>[HELP, I, don, ’t, know, how, to, break, up, w...</td>\n",
       "      <td>[long, story, but, please, help, !!!, I, ’m, a...</td>\n",
       "    </tr>\n",
       "    <tr>\n",
       "      <th>2808</th>\n",
       "      <td>ca0n3e</td>\n",
       "      <td>WrathsTwn</td>\n",
       "      <td>Explaining an emotional position when sexual a...</td>\n",
       "      <td>My parents divorced when I was very young.  It...</td>\n",
       "      <td>2019-07-07 00:13:58</td>\n",
       "      <td>1</td>\n",
       "      <td>1</td>\n",
       "      <td>1</td>\n",
       "      <td>Explaining an emotional position when sexual a...</td>\n",
       "      <td>[Explaining, an, emotional, position, when, se...</td>\n",
       "      <td>[My, parents, divorced, when, I, was, very, yo...</td>\n",
       "    </tr>\n",
       "    <tr>\n",
       "      <th>2817</th>\n",
       "      <td>ca0j4a</td>\n",
       "      <td>kissingfish</td>\n",
       "      <td>Unsure if salvaging my (F19) relationship with...</td>\n",
       "      <td>Title pretty much sums it up. On mobile so I a...</td>\n",
       "      <td>2019-07-07 00:03:03</td>\n",
       "      <td>3</td>\n",
       "      <td>1</td>\n",
       "      <td>1</td>\n",
       "      <td>Unsure if salvaging my (F19) relationship with...</td>\n",
       "      <td>[Unsure, if, salvaging, my, (F19), relationshi...</td>\n",
       "      <td>[Title, pretty, much, sums, it, up, ., On, mob...</td>\n",
       "    </tr>\n",
       "    <tr>\n",
       "      <th>2828</th>\n",
       "      <td>c9y05n</td>\n",
       "      <td>shebulust</td>\n",
       "      <td>Colleague &amp;gt; Friend &amp;gt; FWB &amp;gt; Lover &amp;gt;...</td>\n",
       "      <td>Hi. It's after many discussion with her, I'm s...</td>\n",
       "      <td>2019-07-06 20:07:43</td>\n",
       "      <td>2</td>\n",
       "      <td>2</td>\n",
       "      <td>1</td>\n",
       "      <td>Colleague &amp;gt; Friend &amp;gt; FWB &amp;gt; Lover &amp;gt;...</td>\n",
       "      <td>[Colleague, &amp;gt;, Friend, &amp;gt;, FWB, &amp;gt;, Lov...</td>\n",
       "      <td>[Hi, ., It, 's, after, many, discussion, with,...</td>\n",
       "    </tr>\n",
       "    <tr>\n",
       "      <th>2838</th>\n",
       "      <td>c9xvj1</td>\n",
       "      <td>Uhaulsanderson</td>\n",
       "      <td>Leaving in the night?</td>\n",
       "      <td>Let me start this where I know this is a bad e...</td>\n",
       "      <td>2019-07-06 19:56:22</td>\n",
       "      <td>6</td>\n",
       "      <td>2</td>\n",
       "      <td>1</td>\n",
       "      <td>Leaving in the night?Let me start this where I...</td>\n",
       "      <td>[Leaving, in, the, night, ?]</td>\n",
       "      <td>[Let, me, start, this, where, I, know, this, i...</td>\n",
       "    </tr>\n",
       "    <tr>\n",
       "      <th>2846</th>\n",
       "      <td>ca02u3</td>\n",
       "      <td>throwAwayCusePPLKnow</td>\n",
       "      <td>I need a lil help.</td>\n",
       "      <td>I met someone around 2 years back. Beginning o...</td>\n",
       "      <td>2019-07-06 23:18:14</td>\n",
       "      <td>4</td>\n",
       "      <td>1</td>\n",
       "      <td>1</td>\n",
       "      <td>I need a lil help.I met someone around 2 years...</td>\n",
       "      <td>[I, need, a, lil, help, .]</td>\n",
       "      <td>[I, met, someone, around, 2, years, back, ., B...</td>\n",
       "    </tr>\n",
       "    <tr>\n",
       "      <th>2848</th>\n",
       "      <td>c9xjtg</td>\n",
       "      <td>ilovepickles123456</td>\n",
       "      <td>My 20f boyfriend 20m is perfect apart from the...</td>\n",
       "      <td>As the title said my boyfriend and I have been...</td>\n",
       "      <td>2019-07-06 19:27:20</td>\n",
       "      <td>8</td>\n",
       "      <td>2</td>\n",
       "      <td>1</td>\n",
       "      <td>My 20f boyfriend 20m is perfect apart from the...</td>\n",
       "      <td>[My, 20f, boyfriend, 20m, is, perfect, apart, ...</td>\n",
       "      <td>[As, the, title, said, my, boyfriend, and, I, ...</td>\n",
       "    </tr>\n",
       "    <tr>\n",
       "      <th>2849</th>\n",
       "      <td>ca00tx</td>\n",
       "      <td>MagicalFrostyFlakes1</td>\n",
       "      <td>Relationships give me so much anxiety...</td>\n",
       "      <td>Idk what it is but the more I read / think abo...</td>\n",
       "      <td>2019-07-06 23:12:42</td>\n",
       "      <td>4</td>\n",
       "      <td>1</td>\n",
       "      <td>1</td>\n",
       "      <td>Relationships give me so much anxiety...Idk wh...</td>\n",
       "      <td>[Relationships, give, me, so, much, anxiety, ...]</td>\n",
       "      <td>[Idk, what, it, is, but, the, more, I, read, /...</td>\n",
       "    </tr>\n",
       "    <tr>\n",
       "      <th>2870</th>\n",
       "      <td>c9vn54</td>\n",
       "      <td>completelylost987</td>\n",
       "      <td>My [27M] Girlfriend's [26F] Parent [61M] is Po...</td>\n",
       "      <td>Throwaway for obvious reasons. Sorry if there ...</td>\n",
       "      <td>2019-07-06 16:42:58</td>\n",
       "      <td>0</td>\n",
       "      <td>3</td>\n",
       "      <td>1</td>\n",
       "      <td>My [27M] Girlfriend's [26F] Parent [61M] is Po...</td>\n",
       "      <td>[My, [27M], Girlfriend, 's, [26F], Parent, [61...</td>\n",
       "      <td>[Throwaway, for, obvious, reasons, ., Sorry, i...</td>\n",
       "    </tr>\n",
       "    <tr>\n",
       "      <th>2880</th>\n",
       "      <td>c9zj71</td>\n",
       "      <td>whitekuda</td>\n",
       "      <td>How do I express myself after I didnt know I h...</td>\n",
       "      <td>Long post, might want to take some time, kind ...</td>\n",
       "      <td>2019-07-06 22:25:20</td>\n",
       "      <td>1</td>\n",
       "      <td>1</td>\n",
       "      <td>1</td>\n",
       "      <td>How do I express myself after I didnt know I h...</td>\n",
       "      <td>[How, do, I, express, myself, after, I, didnt,...</td>\n",
       "      <td>[Long, post, ,, might, want, to, take, some, t...</td>\n",
       "    </tr>\n",
       "    <tr>\n",
       "      <th>2886</th>\n",
       "      <td>c9zgyt</td>\n",
       "      <td>flowerfood</td>\n",
       "      <td>How do I [21F] leave my abusive boyfriend [21M...</td>\n",
       "      <td>I’m honestly so shaken up. We’ve been dating f...</td>\n",
       "      <td>2019-07-06 22:19:30</td>\n",
       "      <td>7</td>\n",
       "      <td>1</td>\n",
       "      <td>1</td>\n",
       "      <td>How do I [21F] leave my abusive boyfriend [21M...</td>\n",
       "      <td>[How, do, I, [21F], leave, my, abusive, boyfri...</td>\n",
       "      <td>[I, ’m, honestly, so, shaken, up, ., We, ’ve, ...</td>\n",
       "    </tr>\n",
       "    <tr>\n",
       "      <th>2890</th>\n",
       "      <td>c9iew3</td>\n",
       "      <td>drobthrowaway</td>\n",
       "      <td>My (21M) parents (M/F 50s) think I need therap...</td>\n",
       "      <td>Sorry, I’m on mobile so formatting may be weir...</td>\n",
       "      <td>2019-07-05 17:06:18</td>\n",
       "      <td>21</td>\n",
       "      <td>216</td>\n",
       "      <td>1</td>\n",
       "      <td>My (21M) parents (M/F 50s) think I need therap...</td>\n",
       "      <td>[My, (21M), parents, (M/F, 50s, ), think, I, n...</td>\n",
       "      <td>[Sorry, ,, I, ’m, on, mobile, so, formatting, ...</td>\n",
       "    </tr>\n",
       "    <tr>\n",
       "      <th>2909</th>\n",
       "      <td>c9wgq1</td>\n",
       "      <td>kyleray96</td>\n",
       "      <td>Broke up with my girlfriend of 3 years.</td>\n",
       "      <td>Me (23 m) and my (ex)girlfriend (21 f), just b...</td>\n",
       "      <td>2019-07-06 17:53:47</td>\n",
       "      <td>3</td>\n",
       "      <td>2</td>\n",
       "      <td>1</td>\n",
       "      <td>Broke up with my girlfriend of 3 years.Me (23 ...</td>\n",
       "      <td>[Broke, up, with, my, girlfriend, of, 3, years...</td>\n",
       "      <td>[Me, (23, m, ), and, my, (ex)girlfriend, (21, ...</td>\n",
       "    </tr>\n",
       "    <tr>\n",
       "      <th>2921</th>\n",
       "      <td>c9smky</td>\n",
       "      <td>Pontifex_maximus1996</td>\n",
       "      <td>22M asked my 23F girlfriend for some space, sh...</td>\n",
       "      <td>Hi guys, we moved in together after 2 months o...</td>\n",
       "      <td>2019-07-06 11:34:23</td>\n",
       "      <td>15</td>\n",
       "      <td>7</td>\n",
       "      <td>1</td>\n",
       "      <td>22M asked my 23F girlfriend for some space, sh...</td>\n",
       "      <td>[22M, asked, my, 23F, girlfriend, for, some, s...</td>\n",
       "      <td>[Hi, guys, ,, we, moved, in, together, after, ...</td>\n",
       "    </tr>\n",
       "    <tr>\n",
       "      <th>2926</th>\n",
       "      <td>c9s7vp</td>\n",
       "      <td>keanuleaves22</td>\n",
       "      <td>My mum has been telling all her friends about ...</td>\n",
       "      <td>So I’ve been having a pretty rough time right ...</td>\n",
       "      <td>2019-07-06 10:38:02</td>\n",
       "      <td>9</td>\n",
       "      <td>7</td>\n",
       "      <td>1</td>\n",
       "      <td>My mum has been telling all her friends about ...</td>\n",
       "      <td>[My, mum, has, been, telling, all, her, friend...</td>\n",
       "      <td>[So, I, ’ve, been, having, a, pretty, rough, t...</td>\n",
       "    </tr>\n",
       "    <tr>\n",
       "      <th>2935</th>\n",
       "      <td>c9yg5p</td>\n",
       "      <td>judeotaji</td>\n",
       "      <td>Almost broke up with my best friend because of...</td>\n",
       "      <td>So me(M20) and my best friend(F20) have been f...</td>\n",
       "      <td>2019-07-06 20:47:07</td>\n",
       "      <td>2</td>\n",
       "      <td>1</td>\n",
       "      <td>1</td>\n",
       "      <td>Almost broke up with my best friend because of...</td>\n",
       "      <td>[Almost, broke, up, with, my, best, friend, be...</td>\n",
       "      <td>[So, me, (M20), and, my, best, friend, (F20), ...</td>\n",
       "    </tr>\n",
       "    <tr>\n",
       "      <th>2941</th>\n",
       "      <td>c9ycq3</td>\n",
       "      <td>saisbinodm</td>\n",
       "      <td>How to support a brother (19M) who compares hi...</td>\n",
       "      <td>(obligatory throwaway - brother, if you see th...</td>\n",
       "      <td>2019-07-06 20:38:33</td>\n",
       "      <td>2</td>\n",
       "      <td>1</td>\n",
       "      <td>1</td>\n",
       "      <td>How to support a brother (19M) who compares hi...</td>\n",
       "      <td>[How, to, support, a, brother, (19M), who, com...</td>\n",
       "      <td>[(obligatory, throwaway, -, brother, ,, if, yo...</td>\n",
       "    </tr>\n",
       "    <tr>\n",
       "      <th>2942</th>\n",
       "      <td>c9ycjn</td>\n",
       "      <td>danielleuniverse</td>\n",
       "      <td>what should i (18f) get my (18m) boyfriend for...</td>\n",
       "      <td>i know this post isn’t very exciting or drama ...</td>\n",
       "      <td>2019-07-06 20:38:13</td>\n",
       "      <td>5</td>\n",
       "      <td>0</td>\n",
       "      <td>1</td>\n",
       "      <td>what should i (18f) get my (18m) boyfriend for...</td>\n",
       "      <td>[what, should, i, (18f), get, my, (18m), boyfr...</td>\n",
       "      <td>[i, know, this, post, isn, ’t, very, exciting,...</td>\n",
       "    </tr>\n",
       "    <tr>\n",
       "      <th>2959</th>\n",
       "      <td>c9xx43</td>\n",
       "      <td>Hungry_Climate</td>\n",
       "      <td>My (18F) younger brother (17M) and I constantl...</td>\n",
       "      <td>Hey, guys. For several years my younger brothe...</td>\n",
       "      <td>2019-07-06 20:00:27</td>\n",
       "      <td>2</td>\n",
       "      <td>1</td>\n",
       "      <td>1</td>\n",
       "      <td>My (18F) younger brother (17M) and I constantl...</td>\n",
       "      <td>[My, (18F), younger, brother, (17M), and, I, c...</td>\n",
       "      <td>[Hey, ,, guys, ., For, several, years, my, you...</td>\n",
       "    </tr>\n",
       "  </tbody>\n",
       "</table>\n",
       "<p>268 rows × 11 columns</p>\n",
       "</div>"
      ],
      "text/plain": [
       "          id                author  \\\n",
       "993   caoli8    horst_from_germany   \n",
       "996   caol6g         littlelunaa12   \n",
       "1002  caohoj      lavender-vanilla   \n",
       "1006  caofgl             dukes1998   \n",
       "1010  caoed9       throwaway1306__   \n",
       "1011  caod1d        drawforKeysT_T   \n",
       "1012  caocq9     DrDrakeRamorayEel   \n",
       "1017  caoc1r     throwitalldown456   \n",
       "1024  cao9wc         PhoenixAria87   \n",
       "1026  cao9be    throwaway991100221   \n",
       "1040  cao56w  chocolatecumdumpster   \n",
       "1058  canwbn             RoflexKun   \n",
       "1065  canrpx           Delilah1998   \n",
       "1066  canrnm          ItchyNarwhal   \n",
       "1068  canppo           97WaterPolo   \n",
       "1074  canmr3     moonswavesATnight   \n",
       "1078  canm12  WiseManSayingNothing   \n",
       "1079  canlmw       adviceandadvise   \n",
       "1081  cankf2              boyant24   \n",
       "1083  caniou         quesomonstruo   \n",
       "1084  canhj3  throwawayaccountt567   \n",
       "1085  canhgz         AtharvaChavan   \n",
       "1090  cangt3           wasabihelp1   \n",
       "1105  canbbc         quesomonstruo   \n",
       "1107  canb3i         pastelpanda28   \n",
       "1116  can5vp           Squidd_Milk   \n",
       "1120  can3ro                 bhp13   \n",
       "1124  can37u         steamincoffee   \n",
       "1133  can0ga        hiroshimasfoot   \n",
       "1135  camz9y   NotMagicJustScience   \n",
       "...      ...                   ...   \n",
       "2758  c9z85g               A_Tamas   \n",
       "2761  ca1fdb             K_rose315   \n",
       "2772  ca18c9        AdviceAcct1996   \n",
       "2779  c9yvzb     amicus_elephantus   \n",
       "2780  ca16mn     HopefulReputation   \n",
       "2784  ca12kc                Maukin   \n",
       "2787  c9yos7        thrxwaway18947   \n",
       "2791  ca0zs8            bluefox221   \n",
       "2793  c9r0zf              EmmiRoeo   \n",
       "2796  ca0vvs              kyliegh0   \n",
       "2800  c9yf4p        butlikewhythou   \n",
       "2807  ca0n87       cactuslover6789   \n",
       "2808  ca0n3e             WrathsTwn   \n",
       "2817  ca0j4a           kissingfish   \n",
       "2828  c9y05n             shebulust   \n",
       "2838  c9xvj1        Uhaulsanderson   \n",
       "2846  ca02u3  throwAwayCusePPLKnow   \n",
       "2848  c9xjtg    ilovepickles123456   \n",
       "2849  ca00tx  MagicalFrostyFlakes1   \n",
       "2870  c9vn54     completelylost987   \n",
       "2880  c9zj71             whitekuda   \n",
       "2886  c9zgyt            flowerfood   \n",
       "2890  c9iew3         drobthrowaway   \n",
       "2909  c9wgq1             kyleray96   \n",
       "2921  c9smky  Pontifex_maximus1996   \n",
       "2926  c9s7vp         keanuleaves22   \n",
       "2935  c9yg5p             judeotaji   \n",
       "2941  c9ycq3            saisbinodm   \n",
       "2942  c9ycjn      danielleuniverse   \n",
       "2959  c9xx43        Hungry_Climate   \n",
       "\n",
       "                                                  title  \\\n",
       "993     Please help - My old family is a complete chaos   \n",
       "996   I (f,19) was set to be married to my (m,23) ar...   \n",
       "1002  My [23F] boyfriend [21M] of two years wants me...   \n",
       "1006  I (20M) am worried I may be getting “too into”...   \n",
       "1010  Guy [25M] I'm [22F] seeing has a girl [28F] in...   \n",
       "1011  My [25/F]friend is having her bday party at my...   \n",
       "1012  I have a creepy step granddad and I don't know...   \n",
       "1017  I (34F) worry about being too needy/ clingy in...   \n",
       "1024  I [30f] don't want to change my last name, my ...   \n",
       "1026               I am so hurt and confused. Need help   \n",
       "1040  I met my bf online, lied about his age and how...   \n",
       "1058  I made a contest with a friend and the prize i...   \n",
       "1065  [20F] Help with my crippling relationship anxi...   \n",
       "1066  I (34F) am seeking advice on dealing with an o...   \n",
       "1068         Girlfriend relationship reoccurring issues   \n",
       "1074                                         Love Hurts   \n",
       "1078  (30M) My high school sweet heart and wife (29F...   \n",
       "1079  My (25M) girlfriend(24F) wants to break up bec...   \n",
       "1081      Am I in a rut/depressed with my relationship.   \n",
       "1083  After a falling out my sister in law told the ...   \n",
       "1084  I’m tired of helping my little sister with her...   \n",
       "1085  Me (18M) and my girlfriend (18F) are going thr...   \n",
       "1090  Boyfriend doesn’t want to spend time with my f...   \n",
       "1105  After a falling out my sister in law (32F seco...   \n",
       "1107  My (20F) boyfriend (19M) thinks planning our f...   \n",
       "1116  My boyfriend’s parents track his phone 24/7, a...   \n",
       "1120  I need urgent advice- Please someone tell me h...   \n",
       "1124             i (17f) think my mom (37f) resents me.   \n",
       "1133  I went on vacation with my boyfriend’s family ...   \n",
       "1135  My(f20) boyfriend(m20) of three years won't mo...   \n",
       "...                                                 ...   \n",
       "2758                              Agressive Grandfather   \n",
       "2761                      Am I in a toxic relationship?   \n",
       "2772                    Brother and his gf staying over   \n",
       "2779  She broke up with me 2 weeks ago and I have no...   \n",
       "2780  My (22F) boyfriend (23M) told me his family do...   \n",
       "2784                    I don't know what to do anymore   \n",
       "2787      Does he [18 M] still love me [18 F] the same?   \n",
       "2791                Tinder Guy “Stood Me Up”/Lead Me On   \n",
       "2793  An asshole has torn my friend's confidence and...   \n",
       "2796  I think my (19F) boyfriend (18M) is taking adv...   \n",
       "2800          Should I [22f] leave my cheating bf [25m]   \n",
       "2807  HELP I don’t know how to break up with my boyf...   \n",
       "2808  Explaining an emotional position when sexual a...   \n",
       "2817  Unsure if salvaging my (F19) relationship with...   \n",
       "2828  Colleague &gt; Friend &gt; FWB &gt; Lover &gt;...   \n",
       "2838                              Leaving in the night?   \n",
       "2846                                 I need a lil help.   \n",
       "2848  My 20f boyfriend 20m is perfect apart from the...   \n",
       "2849           Relationships give me so much anxiety...   \n",
       "2870  My [27M] Girlfriend's [26F] Parent [61M] is Po...   \n",
       "2880  How do I express myself after I didnt know I h...   \n",
       "2886  How do I [21F] leave my abusive boyfriend [21M...   \n",
       "2890  My (21M) parents (M/F 50s) think I need therap...   \n",
       "2909            Broke up with my girlfriend of 3 years.   \n",
       "2921  22M asked my 23F girlfriend for some space, sh...   \n",
       "2926  My mum has been telling all her friends about ...   \n",
       "2935  Almost broke up with my best friend because of...   \n",
       "2941  How to support a brother (19M) who compares hi...   \n",
       "2942  what should i (18f) get my (18m) boyfriend for...   \n",
       "2959  My (18F) younger brother (17M) and I constantl...   \n",
       "\n",
       "                                               selftext            timestamp  \\\n",
       "993   &amp;#x200B;\\n\\nPlease help - My old family is...  2019-07-08 18:09:25   \n",
       "996   My ex (m,23) and I (f,19) had been dating for ...  2019-07-08 18:08:49   \n",
       "1002  First post, sorry if this is the wrong place t...  2019-07-08 18:02:04   \n",
       "1006  So me and my girlfriend have been officially d...  2019-07-08 17:57:37   \n",
       "1010  I (22f) started seeing this guy (25m) around S...  2019-07-08 17:55:18   \n",
       "1011  I am the only one in my group of friends who h...  2019-07-08 17:52:29   \n",
       "1012  Ok first thing, I was molested by a neighbor w...  2019-07-08 17:51:53   \n",
       "1017  In a very long-term relationship, I was always...  2019-07-08 17:50:25   \n",
       "1024  This is just a big confusing mess and I'm not ...  2019-07-08 17:45:58   \n",
       "1026   I will try to make this short.\\n\\nI 33(F, Afr...  2019-07-08 17:44:45   \n",
       "1040  I’m 17 turning 18 he is 20 turning 21. We met ...  2019-07-08 17:36:38   \n",
       "1058  A little bit of context: \\nI'm a 15yo from Rom...  2019-07-08 17:17:57   \n",
       "1065  I will TRY  to make it short. \\n\\nI have GAD (...  2019-07-08 17:08:38   \n",
       "1066  My Mother-in-law is dead convinced something b...  2019-07-08 17:08:29   \n",
       "1068  \\nHi everyone,\\n\\nI need some help with my rel...  2019-07-08 17:04:22   \n",
       "1074  Long story short. My boyfriend (22) recently w...  2019-07-08 16:58:10   \n",
       "1078  We’ve been together for 14 years, been married...  2019-07-08 16:56:39   \n",
       "1079  TL;DR: SO doesn’t feel ready for a relationshi...  2019-07-08 16:55:52   \n",
       "1081  Hi Reddit. (Apologies in advance for the long ...  2019-07-08 16:53:24   \n",
       "1083  Sorry if this is all over. I wrote it on my ph...  2019-07-08 16:49:36   \n",
       "1084  This is not my main account (throwaway) becaus...  2019-07-08 16:47:10   \n",
       "1085  Me and my girlfriend are dating since we were ...  2019-07-08 16:47:02   \n",
       "1090  Pretty much self-explanatory but my(19F) boyfr...  2019-07-08 16:45:37   \n",
       "1105  Sorry if this is all over. I wrote it on my ph...  2019-07-08 16:33:36   \n",
       "1107  The title is basically the tldr, but lately I ...  2019-07-08 16:33:06   \n",
       "1116  Hello reddit, I’m not sure if this is the righ...  2019-07-08 16:21:45   \n",
       "1120  Ok, this is a long post. Attention any skilled...  2019-07-08 16:17:29   \n",
       "1124  lemme give y’all some background (skip this pa...  2019-07-08 16:16:27   \n",
       "1133  I made an earlier post in this subreddit menti...  2019-07-08 16:10:26   \n",
       "1135  Hey everyone, thanks for reading. I have the l...  2019-07-08 16:08:00   \n",
       "...                                                 ...                  ...   \n",
       "2758  Hey guys, first of all I'd like to intruduce m...  2019-07-06 21:56:26   \n",
       "2761  I’m (21f) dating a guy (24m) who to me is a li...  2019-07-07 01:37:26   \n",
       "2772  Mobile sry for formatting\\n\\nBrother and his g...  2019-07-07 01:15:46   \n",
       "2779  My girlfriend and I dated for almost 3 1/2 yrs...  2019-07-06 21:25:39   \n",
       "2780  # \\n\\n📷\\n\\nMy boyfriend is and has been my bes...  2019-07-07 01:10:41   \n",
       "2784   \\n\\nI (28m) have been in a relationship (27f)...  2019-07-07 00:59:04   \n",
       "2787  SO [18 M] and I [18 F] have been dating for ab...  2019-07-06 21:08:00   \n",
       "2791  This happened around the beginning of June. I’...  2019-07-07 00:50:50   \n",
       "2793  My friend from Morocco has been leaving in Par...  2019-07-06 07:43:34   \n",
       "2796  TL;DR at the bottom\\n\\nSo i’m in a personal di...  2019-07-07 00:38:55   \n",
       "2800  So, this may or may not be long. If it’s long,...  2019-07-06 20:44:32   \n",
       "2807  long story but please help!!! \\n\\n\\nI’m an 18 ...  2019-07-07 00:14:20   \n",
       "2808  My parents divorced when I was very young.  It...  2019-07-07 00:13:58   \n",
       "2817  Title pretty much sums it up. On mobile so I a...  2019-07-07 00:03:03   \n",
       "2828  Hi. It's after many discussion with her, I'm s...  2019-07-06 20:07:43   \n",
       "2838  Let me start this where I know this is a bad e...  2019-07-06 19:56:22   \n",
       "2846  I met someone around 2 years back. Beginning o...  2019-07-06 23:18:14   \n",
       "2848  As the title said my boyfriend and I have been...  2019-07-06 19:27:20   \n",
       "2849  Idk what it is but the more I read / think abo...  2019-07-06 23:12:42   \n",
       "2870  Throwaway for obvious reasons. Sorry if there ...  2019-07-06 16:42:58   \n",
       "2880  Long post, might want to take some time, kind ...  2019-07-06 22:25:20   \n",
       "2886  I’m honestly so shaken up. We’ve been dating f...  2019-07-06 22:19:30   \n",
       "2890  Sorry, I’m on mobile so formatting may be weir...  2019-07-05 17:06:18   \n",
       "2909  Me (23 m) and my (ex)girlfriend (21 f), just b...  2019-07-06 17:53:47   \n",
       "2921  Hi guys, we moved in together after 2 months o...  2019-07-06 11:34:23   \n",
       "2926  So I’ve been having a pretty rough time right ...  2019-07-06 10:38:02   \n",
       "2935  So me(M20) and my best friend(F20) have been f...  2019-07-06 20:47:07   \n",
       "2941  (obligatory throwaway - brother, if you see th...  2019-07-06 20:38:33   \n",
       "2942  i know this post isn’t very exciting or drama ...  2019-07-06 20:38:13   \n",
       "2959  Hey, guys. For several years my younger brothe...  2019-07-06 20:00:27   \n",
       "\n",
       "      num_comments  ups  subreddit  \\\n",
       "993              0    2          1   \n",
       "996              0    1          1   \n",
       "1002             2    2          1   \n",
       "1006             0    1          1   \n",
       "1010             0    1          1   \n",
       "1011             3    1          1   \n",
       "1012             1    1          1   \n",
       "1017             2    2          1   \n",
       "1024            17    1          1   \n",
       "1026             8    1          1   \n",
       "1040            18    3          1   \n",
       "1058             4    0          1   \n",
       "1065             6    2          1   \n",
       "1066             1    1          1   \n",
       "1068             2    1          1   \n",
       "1074             3    1          1   \n",
       "1078             5    1          1   \n",
       "1079             5    4          1   \n",
       "1081             2    1          1   \n",
       "1083             3    1          1   \n",
       "1084            12    0          1   \n",
       "1085             0    1          1   \n",
       "1090             2    1          1   \n",
       "1105             5    0          1   \n",
       "1107            19    2          1   \n",
       "1116            11    8          1   \n",
       "1120             2    1          1   \n",
       "1124             2    1          1   \n",
       "1133             1    1          1   \n",
       "1135             2    0          1   \n",
       "...            ...  ...        ...   \n",
       "2758             4    2          1   \n",
       "2761            11    1          1   \n",
       "2772             2    1          1   \n",
       "2779             5    2          1   \n",
       "2780             6    0          1   \n",
       "2784             3    1          1   \n",
       "2787             2    2          1   \n",
       "2791             5    1          1   \n",
       "2793             8   24          1   \n",
       "2796             2    1          1   \n",
       "2800            10    2          1   \n",
       "2807             6    1          1   \n",
       "2808             1    1          1   \n",
       "2817             3    1          1   \n",
       "2828             2    2          1   \n",
       "2838             6    2          1   \n",
       "2846             4    1          1   \n",
       "2848             8    2          1   \n",
       "2849             4    1          1   \n",
       "2870             0    3          1   \n",
       "2880             1    1          1   \n",
       "2886             7    1          1   \n",
       "2890            21  216          1   \n",
       "2909             3    2          1   \n",
       "2921            15    7          1   \n",
       "2926             9    7          1   \n",
       "2935             2    1          1   \n",
       "2941             2    1          1   \n",
       "2942             5    0          1   \n",
       "2959             2    1          1   \n",
       "\n",
       "                                               all_text  \\\n",
       "993   Please help - My old family is a complete chao...   \n",
       "996   I (f,19) was set to be married to my (m,23) ar...   \n",
       "1002  My [23F] boyfriend [21M] of two years wants me...   \n",
       "1006  I (20M) am worried I may be getting “too into”...   \n",
       "1010  Guy [25M] I'm [22F] seeing has a girl [28F] in...   \n",
       "1011  My [25/F]friend is having her bday party at my...   \n",
       "1012  I have a creepy step granddad and I don't know...   \n",
       "1017  I (34F) worry about being too needy/ clingy in...   \n",
       "1024  I [30f] don't want to change my last name, my ...   \n",
       "1026  I am so hurt and confused. Need help I will tr...   \n",
       "1040  I met my bf online, lied about his age and how...   \n",
       "1058  I made a contest with a friend and the prize i...   \n",
       "1065  [20F] Help with my crippling relationship anxi...   \n",
       "1066  I (34F) am seeking advice on dealing with an o...   \n",
       "1068  Girlfriend relationship reoccurring issues\\nHi...   \n",
       "1074  Love HurtsLong story short. My boyfriend (22) ...   \n",
       "1078  (30M) My high school sweet heart and wife (29F...   \n",
       "1079  My (25M) girlfriend(24F) wants to break up bec...   \n",
       "1081  Am I in a rut/depressed with my relationship.H...   \n",
       "1083  After a falling out my sister in law told the ...   \n",
       "1084  I’m tired of helping my little sister with her...   \n",
       "1085  Me (18M) and my girlfriend (18F) are going thr...   \n",
       "1090  Boyfriend doesn’t want to spend time with my f...   \n",
       "1105  After a falling out my sister in law (32F seco...   \n",
       "1107  My (20F) boyfriend (19M) thinks planning our f...   \n",
       "1116  My boyfriend’s parents track his phone 24/7, a...   \n",
       "1120  I need urgent advice- Please someone tell me h...   \n",
       "1124  i (17f) think my mom (37f) resents me.lemme gi...   \n",
       "1133  I went on vacation with my boyfriend’s family ...   \n",
       "1135  My(f20) boyfriend(m20) of three years won't mo...   \n",
       "...                                                 ...   \n",
       "2758  Agressive GrandfatherHey guys, first of all I'...   \n",
       "2761  Am I in a toxic relationship?I’m (21f) dating ...   \n",
       "2772  Brother and his gf staying overMobile sry for ...   \n",
       "2779  She broke up with me 2 weeks ago and I have no...   \n",
       "2780  My (22F) boyfriend (23M) told me his family do...   \n",
       "2784  I don't know what to do anymore \\n\\nI (28m) ha...   \n",
       "2787  Does he [18 M] still love me [18 F] the same?S...   \n",
       "2791  Tinder Guy “Stood Me Up”/Lead Me OnThis happen...   \n",
       "2793  An asshole has torn my friend's confidence and...   \n",
       "2796  I think my (19F) boyfriend (18M) is taking adv...   \n",
       "2800  Should I [22f] leave my cheating bf [25m]So, t...   \n",
       "2807  HELP I don’t know how to break up with my boyf...   \n",
       "2808  Explaining an emotional position when sexual a...   \n",
       "2817  Unsure if salvaging my (F19) relationship with...   \n",
       "2828  Colleague &gt; Friend &gt; FWB &gt; Lover &gt;...   \n",
       "2838  Leaving in the night?Let me start this where I...   \n",
       "2846  I need a lil help.I met someone around 2 years...   \n",
       "2848  My 20f boyfriend 20m is perfect apart from the...   \n",
       "2849  Relationships give me so much anxiety...Idk wh...   \n",
       "2870  My [27M] Girlfriend's [26F] Parent [61M] is Po...   \n",
       "2880  How do I express myself after I didnt know I h...   \n",
       "2886  How do I [21F] leave my abusive boyfriend [21M...   \n",
       "2890  My (21M) parents (M/F 50s) think I need therap...   \n",
       "2909  Broke up with my girlfriend of 3 years.Me (23 ...   \n",
       "2921  22M asked my 23F girlfriend for some space, sh...   \n",
       "2926  My mum has been telling all her friends about ...   \n",
       "2935  Almost broke up with my best friend because of...   \n",
       "2941  How to support a brother (19M) who compares hi...   \n",
       "2942  what should i (18f) get my (18m) boyfriend for...   \n",
       "2959  My (18F) younger brother (17M) and I constantl...   \n",
       "\n",
       "                                           token_titles  \\\n",
       "993   [Please, help, -, My, old, family, is, a, comp...   \n",
       "996   [I, (f,19), was, set, to, be, married, to, my,...   \n",
       "1002  [My, [23F], boyfriend, [21M], of, two, years, ...   \n",
       "1006  [I, (20M), am, worried, I, may, be, getting, “...   \n",
       "1010  [Guy, [25M], I, 'm, [22F], seeing, has, a, gir...   \n",
       "1011  [My, [25/F]friend, is, having, her, bday, part...   \n",
       "1012  [I, have, a, creepy, step, granddad, and, I, d...   \n",
       "1017  [I, (34F), worry, about, being, too, needy, /,...   \n",
       "1024  [I, [30f], don, 't, want, to, change, my, last...   \n",
       "1026    [I, am, so, hurt, and, confused, ., Need, help]   \n",
       "1040  [I, met, my, bf, online, ,, lied, about, his, ...   \n",
       "1058  [I, made, a, contest, with, a, friend, and, th...   \n",
       "1065  [[20F], Help, with, my, crippling, relationshi...   \n",
       "1066  [I, (34F), am, seeking, advice, on, dealing, w...   \n",
       "1068    [Girlfriend, relationship, reoccurring, issues]   \n",
       "1074                                      [Love, Hurts]   \n",
       "1078  [(30M), My, high, school, sweet, heart, and, w...   \n",
       "1079  [My, (25M), girlfriend, (24F), wants, to, brea...   \n",
       "1081  [Am, I, in, a, rut, /depressed, with, my, rela...   \n",
       "1083  [After, a, falling, out, my, sister, in, law, ...   \n",
       "1084  [I, ’m, tired, of, helping, my, little, sister...   \n",
       "1085  [Me, (18M), and, my, girlfriend, (18F), are, g...   \n",
       "1090  [Boyfriend, doesn, ’t, want, to, spend, time, ...   \n",
       "1105  [After, a, falling, out, my, sister, in, law, ...   \n",
       "1107  [My, (20F), boyfriend, (19M), thinks, planning...   \n",
       "1116  [My, boyfriend, ’s, parents, track, his, phone...   \n",
       "1120  [I, need, urgent, advice, -, Please, someone, ...   \n",
       "1124  [i, (17f), think, my, mom, (37f), resents, me, .]   \n",
       "1133  [I, went, on, vacation, with, my, boyfriend, ’...   \n",
       "1135  [My, (f20), boyfriend, (m20), of, three, years...   \n",
       "...                                                 ...   \n",
       "2758                           [Agressive, Grandfather]   \n",
       "2761             [Am, I, in, a, toxic, relationship, ?]   \n",
       "2772             [Brother, and, his, gf, staying, over]   \n",
       "2779  [She, broke, up, with, me, 2, weeks, ago, and,...   \n",
       "2780  [My, (22F), boyfriend, (23M), told, me, his, f...   \n",
       "2784          [I, don, 't, know, what, to, do, anymore]   \n",
       "2787  [Does, he, [18, M, ], still, love, me, [18, F,...   \n",
       "2791      [Tinder, Guy, “Stood, Me, Up, ”/Lead, Me, On]   \n",
       "2793  [An, asshole, has, torn, my, friend, 's, confi...   \n",
       "2796  [I, think, my, (19F), boyfriend, (18M), is, ta...   \n",
       "2800  [Should, I, [22f], leave, my, cheating, bf, [2...   \n",
       "2807  [HELP, I, don, ’t, know, how, to, break, up, w...   \n",
       "2808  [Explaining, an, emotional, position, when, se...   \n",
       "2817  [Unsure, if, salvaging, my, (F19), relationshi...   \n",
       "2828  [Colleague, &gt;, Friend, &gt;, FWB, &gt;, Lov...   \n",
       "2838                       [Leaving, in, the, night, ?]   \n",
       "2846                         [I, need, a, lil, help, .]   \n",
       "2848  [My, 20f, boyfriend, 20m, is, perfect, apart, ...   \n",
       "2849  [Relationships, give, me, so, much, anxiety, ...]   \n",
       "2870  [My, [27M], Girlfriend, 's, [26F], Parent, [61...   \n",
       "2880  [How, do, I, express, myself, after, I, didnt,...   \n",
       "2886  [How, do, I, [21F], leave, my, abusive, boyfri...   \n",
       "2890  [My, (21M), parents, (M/F, 50s, ), think, I, n...   \n",
       "2909  [Broke, up, with, my, girlfriend, of, 3, years...   \n",
       "2921  [22M, asked, my, 23F, girlfriend, for, some, s...   \n",
       "2926  [My, mum, has, been, telling, all, her, friend...   \n",
       "2935  [Almost, broke, up, with, my, best, friend, be...   \n",
       "2941  [How, to, support, a, brother, (19M), who, com...   \n",
       "2942  [what, should, i, (18f), get, my, (18m), boyfr...   \n",
       "2959  [My, (18F), younger, brother, (17M), and, I, c...   \n",
       "\n",
       "                                         token_selftext  \n",
       "993   [&amp;#x200B;, Please, help, -, My, old, famil...  \n",
       "996   [My, ex, (m,23), and, I, (f,19), had, been, da...  \n",
       "1002  [First, post, ,, sorry, if, this, is, the, wro...  \n",
       "1006  [So, me, and, my, girlfriend, have, been, offi...  \n",
       "1010  [I, (22f), started, seeing, this, guy, (25m), ...  \n",
       "1011  [I, am, the, only, one, in, my, group, of, fri...  \n",
       "1012  [Ok, first, thing, ,, I, was, molested, by, a,...  \n",
       "1017  [In, a, very, long, -term, relationship, ,, I,...  \n",
       "1024  [This, is, just, a, big, confusing, mess, and,...  \n",
       "1026  [I, will, try, to, make, this, short, ., I, 33...  \n",
       "1040  [I, ’m, 17, turning, 18, he, is, 20, turning, ...  \n",
       "1058  [A, little, bit, of, context, :, I, 'm, a, 15y...  \n",
       "1065  [I, will, TRY, to, make, it, short, ., I, have...  \n",
       "1066  [My, Mother, -in-law, is, dead, convinced, som...  \n",
       "1068  [Hi, everyone, ,, I, need, some, help, with, m...  \n",
       "1074  [Long, story, short, ., My, boyfriend, (22), r...  \n",
       "1078  [We, ’ve, been, together, for, 14, years, ,, b...  \n",
       "1079  [TL, ;DR:, SO, doesn, ’t, feel, ready, for, a,...  \n",
       "1081  [Hi, Reddit, ., (Apologies, in, advance, for, ...  \n",
       "1083  [Sorry, if, this, is, all, over, ., I, wrote, ...  \n",
       "1084  [This, is, not, my, main, account, (throwaway)...  \n",
       "1085  [Me, and, my, girlfriend, are, dating, since, ...  \n",
       "1090  [Pretty, much, self, -explanatory, but, my, (1...  \n",
       "1105  [Sorry, if, this, is, all, over, ., I, wrote, ...  \n",
       "1107  [The, title, is, basically, the, tldr, ,, but,...  \n",
       "1116  [Hello, reddit, ,, I, ’m, not, sure, if, this,...  \n",
       "1120  [Ok, ,, this, is, a, long, post, ., Attention,...  \n",
       "1124  [lemme, give, y, ’all, some, background, (skip...  \n",
       "1133  [I, made, an, earlier, post, in, this, subredd...  \n",
       "1135  [Hey, everyone, ,, thanks, for, reading, ., I,...  \n",
       "...                                                 ...  \n",
       "2758  [Hey, guys, ,, first, of, all, I, 'd, like, to...  \n",
       "2761  [I, ’m, (21f), dating, a, guy, (24m), who, to,...  \n",
       "2772  [Mobile, sry, for, formatting, Brother, and, h...  \n",
       "2779  [My, girlfriend, and, I, dated, for, almost, 3...  \n",
       "2780  [#, 📷, My, boyfriend, is, and, has, been, my, ...  \n",
       "2784  [I, (28m), have, been, in, a, relationship, (2...  \n",
       "2787  [SO, [18, M, ], and, I, [18, F, ], have, been,...  \n",
       "2791  [This, happened, around, the, beginning, of, J...  \n",
       "2793  [My, friend, from, Morocco, has, been, leaving...  \n",
       "2796  [TL, ;DR, at, the, bottom, So, i, ’m, in, a, p...  \n",
       "2800  [So, ,, this, may, or, may, not, be, long, ., ...  \n",
       "2807  [long, story, but, please, help, !!!, I, ’m, a...  \n",
       "2808  [My, parents, divorced, when, I, was, very, yo...  \n",
       "2817  [Title, pretty, much, sums, it, up, ., On, mob...  \n",
       "2828  [Hi, ., It, 's, after, many, discussion, with,...  \n",
       "2838  [Let, me, start, this, where, I, know, this, i...  \n",
       "2846  [I, met, someone, around, 2, years, back, ., B...  \n",
       "2848  [As, the, title, said, my, boyfriend, and, I, ...  \n",
       "2849  [Idk, what, it, is, but, the, more, I, read, /...  \n",
       "2870  [Throwaway, for, obvious, reasons, ., Sorry, i...  \n",
       "2880  [Long, post, ,, might, want, to, take, some, t...  \n",
       "2886  [I, ’m, honestly, so, shaken, up, ., We, ’ve, ...  \n",
       "2890  [Sorry, ,, I, ’m, on, mobile, so, formatting, ...  \n",
       "2909  [Me, (23, m, ), and, my, (ex)girlfriend, (21, ...  \n",
       "2921  [Hi, guys, ,, we, moved, in, together, after, ...  \n",
       "2926  [So, I, ’ve, been, having, a, pretty, rough, t...  \n",
       "2935  [So, me, (M20), and, my, best, friend, (F20), ...  \n",
       "2941  [(obligatory, throwaway, -, brother, ,, if, yo...  \n",
       "2942  [i, know, this, post, isn, ’t, very, exciting,...  \n",
       "2959  [Hey, ,, guys, ., For, several, years, my, you...  \n",
       "\n",
       "[268 rows x 11 columns]"
      ]
     },
     "execution_count": 170,
     "metadata": {},
     "output_type": "execute_result"
    }
   ],
   "source": [
    "train[train['all_text'].str.contains('parents') & (train['subreddit'] == 1)]"
   ]
  },
  {
   "cell_type": "code",
   "execution_count": 172,
   "metadata": {},
   "outputs": [
    {
     "data": {
      "text/plain": [
       "'My [23F] boyfriend [21M] of two years wants me to move to a different state with him so he can go to collegeFirst post, sorry if this is the wrong place to post this. It will be long, my apologies.\\n\\nTo preface this, I have lived on my own and been financially independent for about 4 years and I moved to a new state a few months ago to be closer to my job and am renting a house with one other person for a great price. My job offers excellent benefits, bonuses, and vacation time. It\\'s a stressful job and the pay isn\\'t amazing but for a first \"grown-up job\" out of college, I\\'m not doing bad at all. Unfortunately, my moving has put a strain on my relationship as now I am about an hour from where my bf lives with his parents and he only sees me once every week or two. Before that, he would come to see me at my apartment every day and stay over most nights. It became an issue to my roommates because he did not help financially at all but that is a different story (still important to mention).\\n\\nWhen we met I was in college and my bf was considering going to a college 5-7 hours away and we never really talked about it because we had just started dating and I didn\\'t feel as though I had any input. Our relationship was only a couple months old at that point. I understood we wouldn\\'t be a thing if he went away and would have been fine if he decided to move away as I was not invested yet. He made the decision to work instead of going to college which was fine, and I never once asked him to stay for me.\\n\\nMoving forward two years, my boyfriend has decided it is time to go to this school and asked me to move with him. Until this point, he has been working in retail and has had little drive to look for a job that he enjoys or pays him more. He has been intermittently unemployed or working part-time and rarely has any money saved. I\\'ve been putting pressure on him to go to school or find a job willing to pay him more or give him more hours because he is not able to support himself even though he still lives with his parents. \\n\\nThe problem lies in that he would likely be moving at the end of August to a dorm. In this situation, I would have to quit my job and find a new one, find housing and probably a new roommate, and make new friends. Personally, I feel it is unfair of him to ask me to move with him if we are not even moving in together. I would lose everything and he wouldn\\'t have to give up anything. I would have to uproot my life for him to be in college for 2-4 years just to move again when he graduates. And financially he would not be responsible or helpful if I could not find a job or affordable housing. If I failed to secure a job and housing I would be unable to turn to him for help. He would be all set with his dorm and a goal to work towards. And it would probably be very convenient for him to stay at my place off campus if he wanted. \\n\\nHe thinks it should be easy for me as I have moved many times(except every time I have had a job and/or housing already lined up), I have not made any strong new connections since moving to my new state (but all my old friends are about 1-2 hours away and we take turns seeing each other), and since he would do the same for me. If I had asked him to move for me I would already at least have housing for both of us. It does not seem fair for him to ask me to move with no guarantee of any stability and to abandon what I already have. \\n\\nSo essentially I am asking if I am wrong here if I tell him no? Am I being unreasonable or is he making an unreasonable request of me?\\n\\nLet me know if this is confusing or if I need to provide more information!'"
      ]
     },
     "execution_count": 172,
     "metadata": {},
     "output_type": "execute_result"
    }
   ],
   "source": [
    "train['all_text'][1002]"
   ]
  },
  {
   "cell_type": "code",
   "execution_count": 167,
   "metadata": {},
   "outputs": [
    {
     "data": {
      "text/plain": [
       "'24 F relationship with 23 M ended suddenly. I feel empty and hollow inside, does this feeling go away?I do not know how to navigate the plethora of emotions I have been feeling this past week. I am looking for closure but he is unable to help me with that and I don’t know where else to look for closure. I’m worried about myself- I feel like I am checked out from my life, just going through the motions on autopilot. I have never felt like this before. I miss him constantly, everyday, every moment. Is this normal? \\n\\nHe meant a lot to me and wants to keep being friends but I don’t think I could be friends which I conveyed to him. What is the best way to deal with this loss? How do I make healthy choices for myself? I am totally lost.'"
      ]
     },
     "execution_count": 167,
     "metadata": {},
     "output_type": "execute_result"
    }
   ],
   "source": [
    "train['all_text'][989]"
   ]
  },
  {
   "cell_type": "code",
   "execution_count": 168,
   "metadata": {},
   "outputs": [
    {
     "data": {
      "text/plain": [
       "\"Not with a boy..but I need advice with my MomI don't even know where to start this just happened...\\n\\n&amp;#x200B;\\n\\nMy mom logged in to her verizon account (I pay my own phone bill but it's on her service if that makes sense) and saw that my boyfriend and I talk all day everyday and she got really really mad...she said I had to give her my phone. I gave it to her and she started reading and looking through pictures and she just got more and more mad..I ended up having to delete my snapchat..\\n\\n&amp;#x200B;\\n\\nShe kicked me out. She let me grab a hoodie and a pair of jeans, but she took my car keys and she kicked me out of the house. I'm 21 years old. I have no one else to turn to, nowhere else to go...what do I do? I'm currently sitting in the library..\""
      ]
     },
     "execution_count": 168,
     "metadata": {},
     "output_type": "execute_result"
    }
   ],
   "source": [
    "train['all_text'][994]"
   ]
  },
  {
   "cell_type": "code",
   "execution_count": 169,
   "metadata": {},
   "outputs": [
    {
     "data": {
      "text/plain": [
       "\"My (18F) younger brother (17M) and I constantly fight over noise complaints. I'm really sick of it at this point, and I'm lost as to what to do.Hey, guys. For several years my younger brother and I have butted heads - he's incredibly loud while I prefer some peace and quiet. We used to spend a lot of time doing normal sibling squabbling stuff when we were younger, but everything has gotten well past that point and we genuinely do not like each other anymore. \\n\\nI just recently finished my first semester at a good university only 40 mins away, so I don't need a dorm and I can just live at home. I spend a lot of my time studying, preferably with some quiet, but I don't mind noise such as someone watching TV in the living room, or people over, or whatever. I do feel that my brother is excessively loud and inconsiderate, however. Our rooms are right beside each other, and he has a habit of leaving his room door wide open while he blasts music from a bass-boosted speaker, or take calls at full volume on speaker, watch his shows (also at full volume and on speaker), or play games. It's incredibly disruptive and I've tried asking him to close his door but he becomes really defiant and when he does he'll just increase the volume such that I can STILL clearly hear it through both closed doors. For reference, he's so loud you can hear everything clearly even from the living room, which is on the other side of the house. He will also frequently bring a bunch of friends over who will (not maliciously, mind you) end up blocking my car in or blocking the entrance to the garage such that I can't get my motorcycle out either. I've asked him to tell his friends not to block either my bike or car in whenever they're over, but it still happens. Constantly. I'm getting sick of this, honestly.\\n\\n&amp;#x200B;\\n\\nI've tried asking my parents, but my mother sympathizes with my brother by saying that he's just trying to enjoy his summer. Great, I want him to enjoy his summer too but he really doesn't need his door open blasting music in my general direction to do that. I've tried to explaining that his closing his door doesn't really affect him - he can still listen to his music, now with the added bonus of my not having to listen to it too. My mother and I have been butting heads about this too, unfortunately, but I don't think she understands how irritating it is because her room is on the other side of the house and she isn't constantly subjected to the noise you get when you're directly next to him. I'm frustrated, and I'm tired. I'd like to move out ASAP, but that will have to wait till after university. Any advice, guys? I don't want to start playing dirty by turning off the wifi but I'm really running out of options here. I've tried to be nice.\""
      ]
     },
     "execution_count": 169,
     "metadata": {},
     "output_type": "execute_result"
    }
   ],
   "source": [
    "train['all_text'][2959]"
   ]
  },
  {
   "cell_type": "code",
   "execution_count": null,
   "metadata": {},
   "outputs": [],
   "source": []
  }
 ],
 "metadata": {
  "kernelspec": {
   "display_name": "Python 3",
   "language": "python",
   "name": "python3"
  },
  "language_info": {
   "codemirror_mode": {
    "name": "ipython",
    "version": 3
   },
   "file_extension": ".py",
   "mimetype": "text/x-python",
   "name": "python",
   "nbconvert_exporter": "python",
   "pygments_lexer": "ipython3",
   "version": "3.7.3"
  }
 },
 "nbformat": 4,
 "nbformat_minor": 2
}
