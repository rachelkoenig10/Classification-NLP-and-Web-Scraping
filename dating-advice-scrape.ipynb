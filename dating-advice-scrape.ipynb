{
 "cells": [
  {
   "cell_type": "markdown",
   "metadata": {},
   "source": [
    "Import libraries"
   ]
  },
  {
   "cell_type": "code",
   "execution_count": 1,
   "metadata": {},
   "outputs": [],
   "source": [
    "import requests\n",
    "import time\n",
    "import pandas as pd"
   ]
  },
  {
   "cell_type": "code",
   "execution_count": 2,
   "metadata": {},
   "outputs": [],
   "source": [
    "url = \"https://www.reddit.com/r/dating_advice.json\""
   ]
  },
  {
   "cell_type": "markdown",
   "metadata": {},
   "source": [
    "Set a username so Reddit knows I'm not a hacker."
   ]
  },
  {
   "cell_type": "code",
   "execution_count": 3,
   "metadata": {},
   "outputs": [],
   "source": [
    "headers = {'User-agent': \"not-robot-rachel\"}"
   ]
  },
  {
   "cell_type": "code",
   "execution_count": 4,
   "metadata": {},
   "outputs": [],
   "source": [
    "res = requests.get(url, headers=headers)"
   ]
  },
  {
   "cell_type": "markdown",
   "metadata": {},
   "source": [
    "Check for a good status code.  Should be 200."
   ]
  },
  {
   "cell_type": "code",
   "execution_count": 5,
   "metadata": {},
   "outputs": [
    {
     "data": {
      "text/plain": [
       "200"
      ]
     },
     "execution_count": 5,
     "metadata": {},
     "output_type": "execute_result"
    }
   ],
   "source": [
    "res.status_code"
   ]
  },
  {
   "cell_type": "code",
   "execution_count": 6,
   "metadata": {},
   "outputs": [],
   "source": [
    "date_json = res.json()"
   ]
  },
  {
   "cell_type": "code",
   "execution_count": 7,
   "metadata": {},
   "outputs": [
    {
     "data": {
      "text/plain": [
       "['data', 'kind']"
      ]
     },
     "execution_count": 7,
     "metadata": {},
     "output_type": "execute_result"
    }
   ],
   "source": [
    "sorted(date_json.keys())"
   ]
  },
  {
   "cell_type": "code",
   "execution_count": 8,
   "metadata": {},
   "outputs": [
    {
     "data": {
      "text/plain": [
       "['after', 'before', 'children', 'dist', 'modhash']"
      ]
     },
     "execution_count": 8,
     "metadata": {},
     "output_type": "execute_result"
    }
   ],
   "source": [
    "sorted(date_json['data'].keys())"
   ]
  },
  {
   "cell_type": "code",
   "execution_count": 9,
   "metadata": {},
   "outputs": [
    {
     "data": {
      "text/plain": [
       "27"
      ]
     },
     "execution_count": 9,
     "metadata": {},
     "output_type": "execute_result"
    }
   ],
   "source": [
    "len(date_json['data']['children'])"
   ]
  },
  {
   "cell_type": "code",
   "execution_count": 10,
   "metadata": {},
   "outputs": [
    {
     "data": {
      "text/plain": [
       "{'approved_at_utc': None,\n",
       " 'subreddit': 'dating_advice',\n",
       " 'selftext': \"Welcome to /r/dating_advice. Please use this daily free-for-all thread to ask for advice, rant and rave, share something you've learned about dating, and help people.\\n\\nRemember our [rules](https://www.reddit.com/r/dating_advice/about/rules/), be sure to include ages and genders if you need help with a specific situation.\\n\\nReport any rule violations using the report button. Thanks!\",\n",
       " 'author_fullname': 't2_6l4z3',\n",
       " 'saved': False,\n",
       " 'mod_reason_title': None,\n",
       " 'gilded': 0,\n",
       " 'clicked': False,\n",
       " 'title': 'Daily Free-for-all Discussion- July 11, 2019',\n",
       " 'link_flair_richtext': [],\n",
       " 'subreddit_name_prefixed': 'r/dating_advice',\n",
       " 'hidden': False,\n",
       " 'pwls': 6,\n",
       " 'link_flair_css_class': None,\n",
       " 'downs': 0,\n",
       " 'hide_score': False,\n",
       " 'name': 't3_cbv1ia',\n",
       " 'quarantine': False,\n",
       " 'link_flair_text_color': 'dark',\n",
       " 'author_flair_background_color': None,\n",
       " 'subreddit_type': 'public',\n",
       " 'ups': 3,\n",
       " 'total_awards_received': 0,\n",
       " 'media_embed': {},\n",
       " 'author_flair_template_id': None,\n",
       " 'is_original_content': False,\n",
       " 'user_reports': [],\n",
       " 'secure_media': None,\n",
       " 'is_reddit_media_domain': False,\n",
       " 'is_meta': False,\n",
       " 'category': None,\n",
       " 'secure_media_embed': {},\n",
       " 'link_flair_text': None,\n",
       " 'can_mod_post': False,\n",
       " 'score': 3,\n",
       " 'approved_by': None,\n",
       " 'thumbnail': '',\n",
       " 'edited': False,\n",
       " 'author_flair_css_class': None,\n",
       " 'author_flair_richtext': [],\n",
       " 'gildings': {},\n",
       " 'content_categories': None,\n",
       " 'is_self': True,\n",
       " 'mod_note': None,\n",
       " 'created': 1562876092.0,\n",
       " 'link_flair_type': 'text',\n",
       " 'wls': 6,\n",
       " 'banned_by': None,\n",
       " 'author_flair_type': 'text',\n",
       " 'domain': 'self.dating_advice',\n",
       " 'allow_live_comments': False,\n",
       " 'selftext_html': '&lt;!-- SC_OFF --&gt;&lt;div class=\"md\"&gt;&lt;p&gt;Welcome to &lt;a href=\"/r/dating_advice\"&gt;/r/dating_advice&lt;/a&gt;. Please use this daily free-for-all thread to ask for advice, rant and rave, share something you&amp;#39;ve learned about dating, and help people.&lt;/p&gt;\\n\\n&lt;p&gt;Remember our &lt;a href=\"https://www.reddit.com/r/dating_advice/about/rules/\"&gt;rules&lt;/a&gt;, be sure to include ages and genders if you need help with a specific situation.&lt;/p&gt;\\n\\n&lt;p&gt;Report any rule violations using the report button. Thanks!&lt;/p&gt;\\n&lt;/div&gt;&lt;!-- SC_ON --&gt;',\n",
       " 'likes': None,\n",
       " 'suggested_sort': None,\n",
       " 'banned_at_utc': None,\n",
       " 'view_count': None,\n",
       " 'archived': False,\n",
       " 'no_follow': True,\n",
       " 'is_crosspostable': False,\n",
       " 'pinned': False,\n",
       " 'over_18': False,\n",
       " 'all_awardings': [],\n",
       " 'media_only': False,\n",
       " 'can_gild': False,\n",
       " 'spoiler': False,\n",
       " 'locked': False,\n",
       " 'author_flair_text': None,\n",
       " 'visited': False,\n",
       " 'num_reports': None,\n",
       " 'distinguished': 'moderator',\n",
       " 'subreddit_id': 't5_2s4kl',\n",
       " 'mod_reason_by': None,\n",
       " 'removal_reason': None,\n",
       " 'link_flair_background_color': '',\n",
       " 'id': 'cbv1ia',\n",
       " 'is_robot_indexable': True,\n",
       " 'report_reasons': None,\n",
       " 'author': 'AutoModerator',\n",
       " 'num_crossposts': 0,\n",
       " 'num_comments': 4,\n",
       " 'send_replies': False,\n",
       " 'whitelist_status': 'all_ads',\n",
       " 'contest_mode': False,\n",
       " 'mod_reports': [],\n",
       " 'author_patreon_flair': False,\n",
       " 'author_flair_text_color': None,\n",
       " 'permalink': '/r/dating_advice/comments/cbv1ia/daily_freeforall_discussion_july_11_2019/',\n",
       " 'parent_whitelist_status': 'all_ads',\n",
       " 'stickied': True,\n",
       " 'url': 'https://www.reddit.com/r/dating_advice/comments/cbv1ia/daily_freeforall_discussion_july_11_2019/',\n",
       " 'subreddit_subscribers': 858633,\n",
       " 'created_utc': 1562847292.0,\n",
       " 'discussion_type': None,\n",
       " 'media': None,\n",
       " 'is_video': False}"
      ]
     },
     "execution_count": 10,
     "metadata": {},
     "output_type": "execute_result"
    }
   ],
   "source": [
    "date_json['data']['children'][1]['data']"
   ]
  },
  {
   "cell_type": "code",
   "execution_count": 11,
   "metadata": {},
   "outputs": [
    {
     "data": {
      "text/html": [
       "<div>\n",
       "<style scoped>\n",
       "    .dataframe tbody tr th:only-of-type {\n",
       "        vertical-align: middle;\n",
       "    }\n",
       "\n",
       "    .dataframe tbody tr th {\n",
       "        vertical-align: top;\n",
       "    }\n",
       "\n",
       "    .dataframe thead th {\n",
       "        text-align: right;\n",
       "    }\n",
       "</style>\n",
       "<table border=\"1\" class=\"dataframe\">\n",
       "  <thead>\n",
       "    <tr style=\"text-align: right;\">\n",
       "      <th></th>\n",
       "      <th>data</th>\n",
       "      <th>kind</th>\n",
       "    </tr>\n",
       "  </thead>\n",
       "  <tbody>\n",
       "    <tr>\n",
       "      <th>0</th>\n",
       "      <td>{'approved_at_utc': None, 'subreddit': 'dating...</td>\n",
       "      <td>t3</td>\n",
       "    </tr>\n",
       "    <tr>\n",
       "      <th>1</th>\n",
       "      <td>{'approved_at_utc': None, 'subreddit': 'dating...</td>\n",
       "      <td>t3</td>\n",
       "    </tr>\n",
       "    <tr>\n",
       "      <th>2</th>\n",
       "      <td>{'approved_at_utc': None, 'subreddit': 'dating...</td>\n",
       "      <td>t3</td>\n",
       "    </tr>\n",
       "    <tr>\n",
       "      <th>3</th>\n",
       "      <td>{'approved_at_utc': None, 'subreddit': 'dating...</td>\n",
       "      <td>t3</td>\n",
       "    </tr>\n",
       "    <tr>\n",
       "      <th>4</th>\n",
       "      <td>{'approved_at_utc': None, 'subreddit': 'dating...</td>\n",
       "      <td>t3</td>\n",
       "    </tr>\n",
       "  </tbody>\n",
       "</table>\n",
       "</div>"
      ],
      "text/plain": [
       "                                                data kind\n",
       "0  {'approved_at_utc': None, 'subreddit': 'dating...   t3\n",
       "1  {'approved_at_utc': None, 'subreddit': 'dating...   t3\n",
       "2  {'approved_at_utc': None, 'subreddit': 'dating...   t3\n",
       "3  {'approved_at_utc': None, 'subreddit': 'dating...   t3\n",
       "4  {'approved_at_utc': None, 'subreddit': 'dating...   t3"
      ]
     },
     "execution_count": 11,
     "metadata": {},
     "output_type": "execute_result"
    }
   ],
   "source": [
    "pd.DataFrame(date_json['data']['children']).head()"
   ]
  },
  {
   "cell_type": "code",
   "execution_count": 12,
   "metadata": {},
   "outputs": [
    {
     "data": {
      "text/plain": [
       "['t3_c5gnfz',\n",
       " 't3_cbv1ia',\n",
       " 't3_cc01ey',\n",
       " 't3_cbthj7',\n",
       " 't3_cbvmr8',\n",
       " 't3_cbxuwt',\n",
       " 't3_cc18ku',\n",
       " 't3_cbxqpb',\n",
       " 't3_cbyx8u',\n",
       " 't3_cc0odh',\n",
       " 't3_cbkrr0',\n",
       " 't3_cbt0oc',\n",
       " 't3_cbxo40',\n",
       " 't3_cbxjli',\n",
       " 't3_cbwyw3',\n",
       " 't3_cbrd7c',\n",
       " 't3_cbvnj3',\n",
       " 't3_cc15d9',\n",
       " 't3_cbztjj',\n",
       " 't3_cbzbua',\n",
       " 't3_cc0fu0',\n",
       " 't3_cbz0pj',\n",
       " 't3_cc06qw',\n",
       " 't3_cc01qg',\n",
       " 't3_cc1ppg',\n",
       " 't3_cc1p2b',\n",
       " 't3_cbuj9u']"
      ]
     },
     "execution_count": 12,
     "metadata": {},
     "output_type": "execute_result"
    }
   ],
   "source": [
    "date_json['data']['after']\n",
    "\n",
    "[post['data']['name'] for post in date_json['data']['children']]"
   ]
  },
  {
   "cell_type": "code",
   "execution_count": 13,
   "metadata": {},
   "outputs": [],
   "source": [
    "param = {'after': 't3_ca8aa4'}"
   ]
  },
  {
   "cell_type": "code",
   "execution_count": 14,
   "metadata": {},
   "outputs": [
    {
     "data": {
      "text/plain": [
       "<Response [200]>"
      ]
     },
     "execution_count": 14,
     "metadata": {},
     "output_type": "execute_result"
    }
   ],
   "source": [
    "requests.get(url, params=param, headers=headers)"
   ]
  },
  {
   "cell_type": "markdown",
   "metadata": {},
   "source": [
    "Let's scrape some posts!"
   ]
  },
  {
   "cell_type": "code",
   "execution_count": 15,
   "metadata": {},
   "outputs": [
    {
     "name": "stdout",
     "output_type": "stream",
     "text": [
      "0\n",
      "Current Scrape:\n",
      "27 posts scraped for a total of 27\n",
      "Current after:t3_cbuj9u\n",
      "1\n",
      "Current Scrape:\n",
      "25 posts scraped for a total of 52\n",
      "Current after:t3_cbsh2j\n",
      "2\n",
      "Current Scrape:\n",
      "25 posts scraped for a total of 77\n",
      "Current after:t3_cbvwgv\n",
      "3\n",
      "Current Scrape:\n",
      "25 posts scraped for a total of 102\n",
      "Current after:t3_cbygqp\n",
      "4\n",
      "Current Scrape:\n",
      "25 posts scraped for a total of 127\n",
      "Current after:t3_cbwjcz\n",
      "5\n",
      "Current Scrape:\n",
      "25 posts scraped for a total of 152\n",
      "Current after:t3_cbrdoi\n",
      "6\n",
      "Current Scrape:\n",
      "25 posts scraped for a total of 177\n",
      "Current after:t3_cbst8f\n",
      "7\n",
      "Current Scrape:\n",
      "25 posts scraped for a total of 202\n",
      "Current after:t3_cbrf4v\n",
      "8\n",
      "Current Scrape:\n",
      "25 posts scraped for a total of 227\n",
      "Current after:t3_cbpqd4\n",
      "9\n",
      "Current Scrape:\n",
      "25 posts scraped for a total of 252\n",
      "Current after:t3_cbennp\n",
      "10\n",
      "Current Scrape:\n",
      "25 posts scraped for a total of 277\n",
      "Current after:t3_cbnf57\n",
      "11\n",
      "Current Scrape:\n",
      "25 posts scraped for a total of 302\n",
      "Current after:t3_cbj2fi\n",
      "12\n",
      "Current Scrape:\n",
      "25 posts scraped for a total of 327\n",
      "Current after:t3_cbg5kd\n",
      "13\n",
      "Current Scrape:\n",
      "25 posts scraped for a total of 352\n",
      "Current after:t3_cbf4ep\n",
      "14\n",
      "Current Scrape:\n",
      "25 posts scraped for a total of 377\n",
      "Current after:t3_cb9mc2\n",
      "15\n",
      "Current Scrape:\n",
      "25 posts scraped for a total of 402\n",
      "Current after:t3_cb5tcg\n",
      "16\n",
      "Current Scrape:\n",
      "25 posts scraped for a total of 427\n",
      "Current after:t3_cbbxk0\n",
      "17\n",
      "Current Scrape:\n",
      "25 posts scraped for a total of 452\n",
      "Current after:t3_cbb2ac\n",
      "18\n",
      "Current Scrape:\n",
      "25 posts scraped for a total of 477\n",
      "Current after:t3_cba0jb\n",
      "19\n",
      "Current Scrape:\n",
      "25 posts scraped for a total of 502\n",
      "Current after:t3_cb5a5o\n",
      "20\n",
      "Current Scrape:\n",
      "25 posts scraped for a total of 527\n",
      "Current after:t3_cazyx3\n",
      "21\n",
      "Current Scrape:\n",
      "25 posts scraped for a total of 552\n",
      "Current after:t3_caznwd\n",
      "22\n",
      "Current Scrape:\n",
      "25 posts scraped for a total of 577\n",
      "Current after:t3_cb0usf\n",
      "23\n",
      "Current Scrape:\n",
      "25 posts scraped for a total of 602\n",
      "Current after:t3_cau5o5\n",
      "24\n",
      "Current Scrape:\n",
      "25 posts scraped for a total of 627\n",
      "Current after:t3_cavcc4\n",
      "25\n",
      "Current Scrape:\n",
      "25 posts scraped for a total of 652\n",
      "Current after:t3_cav0fo\n",
      "26\n",
      "Current Scrape:\n",
      "25 posts scraped for a total of 677\n",
      "Current after:t3_cat4nr\n",
      "27\n",
      "Current Scrape:\n",
      "25 posts scraped for a total of 702\n",
      "Current after:t3_catosz\n",
      "28\n",
      "Current Scrape:\n",
      "25 posts scraped for a total of 727\n",
      "Current after:t3_camv95\n",
      "29\n",
      "Current Scrape:\n",
      "25 posts scraped for a total of 752\n",
      "Current after:t3_cao00d\n",
      "30\n",
      "Current Scrape:\n",
      "25 posts scraped for a total of 777\n",
      "Current after:t3_capevp\n",
      "31\n",
      "Current Scrape:\n",
      "25 posts scraped for a total of 802\n",
      "Current after:t3_cam8nu\n",
      "32\n",
      "Current Scrape:\n",
      "25 posts scraped for a total of 827\n",
      "Current after:t3_caidkn\n",
      "33\n",
      "Current Scrape:\n",
      "25 posts scraped for a total of 852\n",
      "Current after:t3_cai2cg\n",
      "34\n",
      "Current Scrape:\n",
      "25 posts scraped for a total of 877\n",
      "Current after:t3_cagqog\n",
      "35\n",
      "Current Scrape:\n",
      "25 posts scraped for a total of 902\n",
      "Current after:t3_caf2ap\n",
      "36\n",
      "Current Scrape:\n",
      "25 posts scraped for a total of 927\n",
      "Current after:t3_cadu1b\n",
      "37\n",
      "Current Scrape:\n",
      "25 posts scraped for a total of 952\n",
      "Current after:t3_cacrsq\n",
      "38\n",
      "Current Scrape:\n",
      "11 posts scraped for a total of 963\n",
      "Current after:None\n"
     ]
    }
   ],
   "source": [
    "posts = []\n",
    "after = None\n",
    "for i in range(39):\n",
    "    print(i)\n",
    "    if after == None:\n",
    "        params = {}\n",
    "    else:\n",
    "        params = {'after': after}\n",
    "    url = \"https://www.reddit.com/r/dating_advice.json\"\n",
    "    res = requests.get(url, params=params, headers=headers)\n",
    "    if res.status_code == 200:\n",
    "        date_json = res.json()\n",
    "        \n",
    "        for post in date_json['data']['children']:\n",
    "            posts.append(post['data'])\n",
    "        after = date_json['data']['after']\n",
    "    else:\n",
    "        print(res.status_code)\n",
    "        break\n",
    "        \n",
    "    print('Current Scrape:')\n",
    "    print(f\"{len(date_json['data']['children'])} posts scraped for a total of {len(posts)}\")\n",
    "    print(f\"Current after:{after}\")\n",
    "    time.sleep(1)"
   ]
  },
  {
   "cell_type": "code",
   "execution_count": 16,
   "metadata": {},
   "outputs": [
    {
     "data": {
      "text/plain": [
       "963"
      ]
     },
     "execution_count": 16,
     "metadata": {},
     "output_type": "execute_result"
    }
   ],
   "source": [
    "len(posts)"
   ]
  },
  {
   "cell_type": "code",
   "execution_count": 17,
   "metadata": {},
   "outputs": [],
   "source": [
    "df = pd.DataFrame(posts)"
   ]
  },
  {
   "cell_type": "code",
   "execution_count": 18,
   "metadata": {},
   "outputs": [
    {
     "data": {
      "text/html": [
       "<div>\n",
       "<style scoped>\n",
       "    .dataframe tbody tr th:only-of-type {\n",
       "        vertical-align: middle;\n",
       "    }\n",
       "\n",
       "    .dataframe tbody tr th {\n",
       "        vertical-align: top;\n",
       "    }\n",
       "\n",
       "    .dataframe thead th {\n",
       "        text-align: right;\n",
       "    }\n",
       "</style>\n",
       "<table border=\"1\" class=\"dataframe\">\n",
       "  <thead>\n",
       "    <tr style=\"text-align: right;\">\n",
       "      <th></th>\n",
       "      <th>author</th>\n",
       "      <th>title</th>\n",
       "      <th>selftext</th>\n",
       "    </tr>\n",
       "  </thead>\n",
       "  <tbody>\n",
       "    <tr>\n",
       "      <th>0</th>\n",
       "      <td>TheYellowRose</td>\n",
       "      <td>[SERIOUS] What are some good ways to build up ...</td>\n",
       "      <td></td>\n",
       "    </tr>\n",
       "    <tr>\n",
       "      <th>1</th>\n",
       "      <td>AutoModerator</td>\n",
       "      <td>Daily Free-for-all Discussion- July 11, 2019</td>\n",
       "      <td>Welcome to /r/dating_advice. Please use this d...</td>\n",
       "    </tr>\n",
       "    <tr>\n",
       "      <th>2</th>\n",
       "      <td>throwaway1374758596</td>\n",
       "      <td>I (22m) am going on my first date EVER in the ...</td>\n",
       "      <td>I have never been on a real date, I asked this...</td>\n",
       "    </tr>\n",
       "    <tr>\n",
       "      <th>3</th>\n",
       "      <td>atlxs_</td>\n",
       "      <td>How do you approach a girl you want to talk to...</td>\n",
       "      <td></td>\n",
       "    </tr>\n",
       "    <tr>\n",
       "      <th>4</th>\n",
       "      <td>whoaqua1234</td>\n",
       "      <td>Are there any podcasts out there for singles a...</td>\n",
       "      <td>Looking for something uplifting *</td>\n",
       "    </tr>\n",
       "  </tbody>\n",
       "</table>\n",
       "</div>"
      ],
      "text/plain": [
       "                author                                              title  \\\n",
       "0        TheYellowRose  [SERIOUS] What are some good ways to build up ...   \n",
       "1        AutoModerator       Daily Free-for-all Discussion- July 11, 2019   \n",
       "2  throwaway1374758596  I (22m) am going on my first date EVER in the ...   \n",
       "3               atlxs_  How do you approach a girl you want to talk to...   \n",
       "4          whoaqua1234  Are there any podcasts out there for singles a...   \n",
       "\n",
       "                                            selftext  \n",
       "0                                                     \n",
       "1  Welcome to /r/dating_advice. Please use this d...  \n",
       "2  I have never been on a real date, I asked this...  \n",
       "3                                                     \n",
       "4                  Looking for something uplifting *  "
      ]
     },
     "execution_count": 18,
     "metadata": {},
     "output_type": "execute_result"
    }
   ],
   "source": [
    "df[['author', 'title', 'selftext']].head()"
   ]
  },
  {
   "cell_type": "code",
   "execution_count": 19,
   "metadata": {},
   "outputs": [
    {
     "data": {
      "text/plain": [
       "(963, 98)"
      ]
     },
     "execution_count": 19,
     "metadata": {},
     "output_type": "execute_result"
    }
   ],
   "source": [
    "df.shape"
   ]
  },
  {
   "cell_type": "code",
   "execution_count": 20,
   "metadata": {},
   "outputs": [
    {
     "data": {
      "text/plain": [
       "Index(['all_awardings', 'allow_live_comments', 'approved_at_utc',\n",
       "       'approved_by', 'archived', 'author', 'author_cakeday',\n",
       "       'author_flair_background_color', 'author_flair_css_class',\n",
       "       'author_flair_richtext', 'author_flair_template_id',\n",
       "       'author_flair_text', 'author_flair_text_color', 'author_flair_type',\n",
       "       'author_fullname', 'author_patreon_flair', 'banned_at_utc', 'banned_by',\n",
       "       'can_gild', 'can_mod_post', 'category', 'clicked', 'content_categories',\n",
       "       'contest_mode', 'created', 'created_utc', 'crosspost_parent',\n",
       "       'crosspost_parent_list', 'discussion_type', 'distinguished', 'domain',\n",
       "       'downs', 'edited', 'gilded', 'gildings', 'hidden', 'hide_score', 'id',\n",
       "       'is_crosspostable', 'is_meta', 'is_original_content',\n",
       "       'is_reddit_media_domain', 'is_robot_indexable', 'is_self', 'is_video',\n",
       "       'likes', 'link_flair_background_color', 'link_flair_css_class',\n",
       "       'link_flair_richtext', 'link_flair_text', 'link_flair_text_color',\n",
       "       'link_flair_type', 'locked', 'media', 'media_embed', 'media_only',\n",
       "       'mod_note', 'mod_reason_by', 'mod_reason_title', 'mod_reports', 'name',\n",
       "       'no_follow', 'num_comments', 'num_crossposts', 'num_reports', 'over_18',\n",
       "       'parent_whitelist_status', 'permalink', 'pinned', 'pwls', 'quarantine',\n",
       "       'removal_reason', 'report_reasons', 'saved', 'score', 'secure_media',\n",
       "       'secure_media_embed', 'selftext', 'selftext_html', 'send_replies',\n",
       "       'spoiler', 'stickied', 'subreddit', 'subreddit_id',\n",
       "       'subreddit_name_prefixed', 'subreddit_subscribers', 'subreddit_type',\n",
       "       'suggested_sort', 'thumbnail', 'title', 'total_awards_received', 'ups',\n",
       "       'url', 'user_reports', 'view_count', 'visited', 'whitelist_status',\n",
       "       'wls'],\n",
       "      dtype='object')"
      ]
     },
     "execution_count": 20,
     "metadata": {},
     "output_type": "execute_result"
    }
   ],
   "source": [
    "df.columns"
   ]
  },
  {
   "cell_type": "code",
   "execution_count": 21,
   "metadata": {},
   "outputs": [
    {
     "data": {
      "text/plain": [
       "caujok    1\n",
       "cbq7m9    1\n",
       "cazall    1\n",
       "cauoep    1\n",
       "cbugfp    1\n",
       "Name: id, dtype: int64"
      ]
     },
     "execution_count": 21,
     "metadata": {},
     "output_type": "execute_result"
    }
   ],
   "source": [
    "df['id'].value_counts().head()"
   ]
  },
  {
   "cell_type": "code",
   "execution_count": 22,
   "metadata": {},
   "outputs": [
    {
     "data": {
      "text/plain": [
       "0    1.561502e+09\n",
       "1    1.562847e+09\n",
       "2    1.562873e+09\n",
       "3    1.562836e+09\n",
       "4    1.562851e+09\n",
       "Name: created_utc, dtype: float64"
      ]
     },
     "execution_count": 22,
     "metadata": {},
     "output_type": "execute_result"
    }
   ],
   "source": [
    "df['created_utc'].head()"
   ]
  },
  {
   "cell_type": "markdown",
   "metadata": {},
   "source": [
    "Convert column with time created information to be more readable."
   ]
  },
  {
   "cell_type": "code",
   "execution_count": 23,
   "metadata": {},
   "outputs": [],
   "source": [
    "df['timestamp'] = pd.to_datetime(df['created_utc'], unit='s')"
   ]
  },
  {
   "cell_type": "code",
   "execution_count": 24,
   "metadata": {},
   "outputs": [
    {
     "data": {
      "text/plain": [
       "0   2019-06-25 22:28:55\n",
       "1   2019-07-11 12:14:52\n",
       "2   2019-07-11 19:26:03\n",
       "3   2019-07-11 09:04:48\n",
       "4   2019-07-11 13:20:14\n",
       "Name: timestamp, dtype: datetime64[ns]"
      ]
     },
     "execution_count": 24,
     "metadata": {},
     "output_type": "execute_result"
    }
   ],
   "source": [
    "df['timestamp'].head()"
   ]
  },
  {
   "cell_type": "code",
   "execution_count": 25,
   "metadata": {},
   "outputs": [
    {
     "data": {
      "text/plain": [
       "array(['dating_advice'], dtype=object)"
      ]
     },
     "execution_count": 25,
     "metadata": {},
     "output_type": "execute_result"
    }
   ],
   "source": [
    "df['subreddit'].unique()"
   ]
  },
  {
   "cell_type": "code",
   "execution_count": 26,
   "metadata": {},
   "outputs": [
    {
     "data": {
      "text/plain": [
       "0     61\n",
       "1      4\n",
       "2     60\n",
       "3    107\n",
       "4     74\n",
       "Name: num_comments, dtype: int64"
      ]
     },
     "execution_count": 26,
     "metadata": {},
     "output_type": "execute_result"
    }
   ],
   "source": [
    "df['num_comments'].head()"
   ]
  },
  {
   "cell_type": "code",
   "execution_count": 27,
   "metadata": {},
   "outputs": [
    {
     "data": {
      "text/plain": [
       "0    133\n",
       "1      3\n",
       "2    258\n",
       "3    641\n",
       "4    234\n",
       "Name: ups, dtype: int64"
      ]
     },
     "execution_count": 27,
     "metadata": {},
     "output_type": "execute_result"
    }
   ],
   "source": [
    "df['ups'].head()"
   ]
  },
  {
   "cell_type": "markdown",
   "metadata": {},
   "source": [
    "Make a new DataFrame with only the columns I think are important.  \n",
    "See data dictionary for details."
   ]
  },
  {
   "cell_type": "code",
   "execution_count": 28,
   "metadata": {},
   "outputs": [],
   "source": [
    "dating = df[['id', 'author', 'title', 'selftext', 'timestamp', 'num_comments', 'ups', 'subreddit']]"
   ]
  },
  {
   "cell_type": "code",
   "execution_count": 29,
   "metadata": {},
   "outputs": [
    {
     "data": {
      "text/plain": [
       "(963, 8)"
      ]
     },
     "execution_count": 29,
     "metadata": {},
     "output_type": "execute_result"
    }
   ],
   "source": [
    "dating.shape"
   ]
  },
  {
   "cell_type": "code",
   "execution_count": 30,
   "metadata": {},
   "outputs": [
    {
     "name": "stdout",
     "output_type": "stream",
     "text": [
      "README.md                         reddit-NLP.ipynb\r\n",
      "\u001b[34mdatasets\u001b[m\u001b[m/                         relationship-advice-scrape.ipynb\r\n",
      "dating-advice-scrape.ipynb\r\n"
     ]
    }
   ],
   "source": [
    "%ls"
   ]
  },
  {
   "cell_type": "markdown",
   "metadata": {},
   "source": [
    "Save to csv."
   ]
  },
  {
   "cell_type": "code",
   "execution_count": 31,
   "metadata": {},
   "outputs": [],
   "source": [
    "# dating.to_csv('dating.csv')\n",
    "#commented out so as to not override when the notebook is rerun."
   ]
  },
  {
   "cell_type": "code",
   "execution_count": 33,
   "metadata": {},
   "outputs": [
    {
     "data": {
      "text/html": [
       "<div>\n",
       "<style scoped>\n",
       "    .dataframe tbody tr th:only-of-type {\n",
       "        vertical-align: middle;\n",
       "    }\n",
       "\n",
       "    .dataframe tbody tr th {\n",
       "        vertical-align: top;\n",
       "    }\n",
       "\n",
       "    .dataframe thead th {\n",
       "        text-align: right;\n",
       "    }\n",
       "</style>\n",
       "<table border=\"1\" class=\"dataframe\">\n",
       "  <thead>\n",
       "    <tr style=\"text-align: right;\">\n",
       "      <th></th>\n",
       "      <th>Unnamed: 0</th>\n",
       "      <th>id</th>\n",
       "      <th>author</th>\n",
       "      <th>title</th>\n",
       "      <th>selftext</th>\n",
       "      <th>timestamp</th>\n",
       "      <th>num_comments</th>\n",
       "      <th>ups</th>\n",
       "      <th>subreddit</th>\n",
       "    </tr>\n",
       "  </thead>\n",
       "  <tbody>\n",
       "    <tr>\n",
       "      <th>0</th>\n",
       "      <td>0</td>\n",
       "      <td>c5gnfz</td>\n",
       "      <td>TheYellowRose</td>\n",
       "      <td>[SERIOUS] What are some good ways to build up ...</td>\n",
       "      <td>NaN</td>\n",
       "      <td>2019-06-25 22:28:55</td>\n",
       "      <td>52</td>\n",
       "      <td>104</td>\n",
       "      <td>dating_advice</td>\n",
       "    </tr>\n",
       "    <tr>\n",
       "      <th>1</th>\n",
       "      <td>1</td>\n",
       "      <td>c9sy1z</td>\n",
       "      <td>AutoModerator</td>\n",
       "      <td>Daily Free-for-all Discussion- July 06, 2019</td>\n",
       "      <td>Welcome to /r/dating_advice. Please use this d...</td>\n",
       "      <td>2019-07-06 12:13:58</td>\n",
       "      <td>1</td>\n",
       "      <td>4</td>\n",
       "      <td>dating_advice</td>\n",
       "    </tr>\n",
       "    <tr>\n",
       "      <th>2</th>\n",
       "      <td>2</td>\n",
       "      <td>ca6n6n</td>\n",
       "      <td>C0nfusedGiirl</td>\n",
       "      <td>I hate when guys didn't respond and left me gu...</td>\n",
       "      <td>That's getting annoyed and time-wasting!\\n\\nI ...</td>\n",
       "      <td>2019-07-07 13:08:02</td>\n",
       "      <td>123</td>\n",
       "      <td>348</td>\n",
       "      <td>dating_advice</td>\n",
       "    </tr>\n",
       "    <tr>\n",
       "      <th>3</th>\n",
       "      <td>3</td>\n",
       "      <td>ca8zs0</td>\n",
       "      <td>thatviolabinch</td>\n",
       "      <td>To the right person, you will perfectly make s...</td>\n",
       "      <td>I guess this is kind of obvious, but I wanted ...</td>\n",
       "      <td>2019-07-07 16:56:26</td>\n",
       "      <td>6</td>\n",
       "      <td>52</td>\n",
       "      <td>dating_advice</td>\n",
       "    </tr>\n",
       "    <tr>\n",
       "      <th>4</th>\n",
       "      <td>4</td>\n",
       "      <td>c9xmsw</td>\n",
       "      <td>Raziasaur</td>\n",
       "      <td>If you have an unreciprocated crush on a frien...</td>\n",
       "      <td>I can’t tell you how many friendships have bee...</td>\n",
       "      <td>2019-07-06 19:34:47</td>\n",
       "      <td>162</td>\n",
       "      <td>2237</td>\n",
       "      <td>dating_advice</td>\n",
       "    </tr>\n",
       "    <tr>\n",
       "      <th>5</th>\n",
       "      <td>5</td>\n",
       "      <td>ca7oll</td>\n",
       "      <td>Sharptheavenger28</td>\n",
       "      <td>I had to break it off. (26m) (23f)</td>\n",
       "      <td>Long story short, I met her through a mutual f...</td>\n",
       "      <td>2019-07-07 14:56:00</td>\n",
       "      <td>28</td>\n",
       "      <td>55</td>\n",
       "      <td>dating_advice</td>\n",
       "    </tr>\n",
       "    <tr>\n",
       "      <th>6</th>\n",
       "      <td>6</td>\n",
       "      <td>ca6fmh</td>\n",
       "      <td>spoonlicker3000</td>\n",
       "      <td>Men that were really nervous before talking to...</td>\n",
       "      <td>I'm recently single 21m and am ready to start ...</td>\n",
       "      <td>2019-07-07 12:43:45</td>\n",
       "      <td>18</td>\n",
       "      <td>16</td>\n",
       "      <td>dating_advice</td>\n",
       "    </tr>\n",
       "    <tr>\n",
       "      <th>7</th>\n",
       "      <td>7</td>\n",
       "      <td>ca8frx</td>\n",
       "      <td>reddituser1011123425</td>\n",
       "      <td>Is romance dead?</td>\n",
       "      <td>Hi everyone so I am dying to have romance in m...</td>\n",
       "      <td>2019-07-07 16:06:22</td>\n",
       "      <td>19</td>\n",
       "      <td>7</td>\n",
       "      <td>dating_advice</td>\n",
       "    </tr>\n",
       "    <tr>\n",
       "      <th>8</th>\n",
       "      <td>8</td>\n",
       "      <td>ca8x4d</td>\n",
       "      <td>knife_party86</td>\n",
       "      <td>Do men ask their guy friends for dating advice...</td>\n",
       "      <td>So I have always asked my very best friend for...</td>\n",
       "      <td>2019-07-07 16:50:01</td>\n",
       "      <td>8</td>\n",
       "      <td>6</td>\n",
       "      <td>dating_advice</td>\n",
       "    </tr>\n",
       "    <tr>\n",
       "      <th>9</th>\n",
       "      <td>9</td>\n",
       "      <td>ca9sun</td>\n",
       "      <td>Undateablelady109</td>\n",
       "      <td>Why am I undateable?</td>\n",
       "      <td>I want to preface by saying I am not seeking a...</td>\n",
       "      <td>2019-07-07 18:03:24</td>\n",
       "      <td>8</td>\n",
       "      <td>5</td>\n",
       "      <td>dating_advice</td>\n",
       "    </tr>\n",
       "    <tr>\n",
       "      <th>10</th>\n",
       "      <td>10</td>\n",
       "      <td>caac69</td>\n",
       "      <td>Equivalent_Age</td>\n",
       "      <td>Men sending me selfies?</td>\n",
       "      <td>Why do men send me selfies via text? \\n\\nThis ...</td>\n",
       "      <td>2019-07-07 18:48:07</td>\n",
       "      <td>2</td>\n",
       "      <td>3</td>\n",
       "      <td>dating_advice</td>\n",
       "    </tr>\n",
       "    <tr>\n",
       "      <th>11</th>\n",
       "      <td>11</td>\n",
       "      <td>ca54jc</td>\n",
       "      <td>ninja1s23</td>\n",
       "      <td>Can’t match with any girl</td>\n",
       "      <td>I’m 19 (M) created a few profiles on dating ap...</td>\n",
       "      <td>2019-07-07 09:40:37</td>\n",
       "      <td>17</td>\n",
       "      <td>16</td>\n",
       "      <td>dating_advice</td>\n",
       "    </tr>\n",
       "    <tr>\n",
       "      <th>12</th>\n",
       "      <td>12</td>\n",
       "      <td>caa7qf</td>\n",
       "      <td>sam9529</td>\n",
       "      <td>First date tomorrow, how much touching is appr...</td>\n",
       "      <td>I (20M) have my first date with a girl(21) tom...</td>\n",
       "      <td>2019-07-07 18:37:41</td>\n",
       "      <td>3</td>\n",
       "      <td>3</td>\n",
       "      <td>dating_advice</td>\n",
       "    </tr>\n",
       "    <tr>\n",
       "      <th>13</th>\n",
       "      <td>13</td>\n",
       "      <td>ca91eb</td>\n",
       "      <td>Vagabond_traveller</td>\n",
       "      <td>how can i date someone if i don't have that mu...</td>\n",
       "      <td>NaN</td>\n",
       "      <td>2019-07-07 17:00:20</td>\n",
       "      <td>5</td>\n",
       "      <td>5</td>\n",
       "      <td>dating_advice</td>\n",
       "    </tr>\n",
       "    <tr>\n",
       "      <th>14</th>\n",
       "      <td>14</td>\n",
       "      <td>ca9xev</td>\n",
       "      <td>humanquit</td>\n",
       "      <td>This is not going to be a happy post. I (F21) ...</td>\n",
       "      <td>He is in his last year of uni and I understand...</td>\n",
       "      <td>2019-07-07 18:13:51</td>\n",
       "      <td>1</td>\n",
       "      <td>4</td>\n",
       "      <td>dating_advice</td>\n",
       "    </tr>\n",
       "    <tr>\n",
       "      <th>15</th>\n",
       "      <td>15</td>\n",
       "      <td>ca8r68</td>\n",
       "      <td>areddituser44</td>\n",
       "      <td>Great first date. Awful texter?</td>\n",
       "      <td>So I (M30) has a great date a few days ago wit...</td>\n",
       "      <td>2019-07-07 16:35:10</td>\n",
       "      <td>9</td>\n",
       "      <td>5</td>\n",
       "      <td>dating_advice</td>\n",
       "    </tr>\n",
       "    <tr>\n",
       "      <th>16</th>\n",
       "      <td>16</td>\n",
       "      <td>ca8ppu</td>\n",
       "      <td>pm_me_ur_fave_murder</td>\n",
       "      <td>I (25F) think i need to break up with my bf (3...</td>\n",
       "      <td>I’ve been in this sub a LOT lately. Dating is ...</td>\n",
       "      <td>2019-07-07 16:31:38</td>\n",
       "      <td>2</td>\n",
       "      <td>4</td>\n",
       "      <td>dating_advice</td>\n",
       "    </tr>\n",
       "    <tr>\n",
       "      <th>17</th>\n",
       "      <td>17</td>\n",
       "      <td>ca7v4c</td>\n",
       "      <td>dayemm</td>\n",
       "      <td>Dating multiple people?</td>\n",
       "      <td>I’m the type of person who prefers to get to k...</td>\n",
       "      <td>2019-07-07 15:13:08</td>\n",
       "      <td>8</td>\n",
       "      <td>6</td>\n",
       "      <td>dating_advice</td>\n",
       "    </tr>\n",
       "    <tr>\n",
       "      <th>18</th>\n",
       "      <td>18</td>\n",
       "      <td>ca7r6n</td>\n",
       "      <td>Tsmooth323</td>\n",
       "      <td>Im so heartbroken, lost and confused</td>\n",
       "      <td>I'm a 33 yr old man and my ex girlfriend (34yr...</td>\n",
       "      <td>2019-07-07 15:03:05</td>\n",
       "      <td>5</td>\n",
       "      <td>6</td>\n",
       "      <td>dating_advice</td>\n",
       "    </tr>\n",
       "    <tr>\n",
       "      <th>19</th>\n",
       "      <td>19</td>\n",
       "      <td>ca8j9p</td>\n",
       "      <td>mysteryduckworld</td>\n",
       "      <td>Should it matter the amount of people someone ...</td>\n",
       "      <td>Throw away account to keep this anonymous\\nI’v...</td>\n",
       "      <td>2019-07-07 16:15:12</td>\n",
       "      <td>11</td>\n",
       "      <td>5</td>\n",
       "      <td>dating_advice</td>\n",
       "    </tr>\n",
       "    <tr>\n",
       "      <th>20</th>\n",
       "      <td>20</td>\n",
       "      <td>ca8j8x</td>\n",
       "      <td>sassyinaclassyway</td>\n",
       "      <td>How can I make it up to you?</td>\n",
       "      <td>What is the best way to respond to \"how can I ...</td>\n",
       "      <td>2019-07-07 16:15:08</td>\n",
       "      <td>8</td>\n",
       "      <td>4</td>\n",
       "      <td>dating_advice</td>\n",
       "    </tr>\n",
       "    <tr>\n",
       "      <th>21</th>\n",
       "      <td>21</td>\n",
       "      <td>ca358x</td>\n",
       "      <td>BeanCounter98761</td>\n",
       "      <td>If anyone would like to chat privately about t...</td>\n",
       "      <td>I'm going to volunteer sometime tonight till a...</td>\n",
       "      <td>2019-07-07 04:52:34</td>\n",
       "      <td>21</td>\n",
       "      <td>34</td>\n",
       "      <td>dating_advice</td>\n",
       "    </tr>\n",
       "    <tr>\n",
       "      <th>22</th>\n",
       "      <td>22</td>\n",
       "      <td>ca9j4o</td>\n",
       "      <td>rwer1234</td>\n",
       "      <td>Advice From a Friend</td>\n",
       "      <td>So I have been having a \"hard time\" with women...</td>\n",
       "      <td>2019-07-07 17:41:14</td>\n",
       "      <td>1</td>\n",
       "      <td>3</td>\n",
       "      <td>dating_advice</td>\n",
       "    </tr>\n",
       "    <tr>\n",
       "      <th>23</th>\n",
       "      <td>23</td>\n",
       "      <td>ca94qf</td>\n",
       "      <td>user_new_one_two</td>\n",
       "      <td>How should I talk to a girl in my class more? ...</td>\n",
       "      <td>I'm \\[M22\\] currently in college and there's a...</td>\n",
       "      <td>2019-07-07 17:07:47</td>\n",
       "      <td>2</td>\n",
       "      <td>3</td>\n",
       "      <td>dating_advice</td>\n",
       "    </tr>\n",
       "    <tr>\n",
       "      <th>24</th>\n",
       "      <td>24</td>\n",
       "      <td>ca8xq9</td>\n",
       "      <td>motherofdragons09</td>\n",
       "      <td>Dating at work?</td>\n",
       "      <td>So I (22F) have recently started a new job. Th...</td>\n",
       "      <td>2019-07-07 16:51:28</td>\n",
       "      <td>4</td>\n",
       "      <td>3</td>\n",
       "      <td>dating_advice</td>\n",
       "    </tr>\n",
       "    <tr>\n",
       "      <th>25</th>\n",
       "      <td>25</td>\n",
       "      <td>ca8w9k</td>\n",
       "      <td>ItachiUchiha1997</td>\n",
       "      <td>Do I really stand a chance with this girl? My ...</td>\n",
       "      <td>So, there is this co-worker of mine (23F). It'...</td>\n",
       "      <td>2019-07-07 16:47:55</td>\n",
       "      <td>4</td>\n",
       "      <td>3</td>\n",
       "      <td>dating_advice</td>\n",
       "    </tr>\n",
       "    <tr>\n",
       "      <th>26</th>\n",
       "      <td>26</td>\n",
       "      <td>ca8vpe</td>\n",
       "      <td>tinychameleoncatcher</td>\n",
       "      <td>Long and complicated situation with my ex-girl...</td>\n",
       "      <td>I still have extremely strong feelings for my ...</td>\n",
       "      <td>2019-07-07 16:46:33</td>\n",
       "      <td>2</td>\n",
       "      <td>3</td>\n",
       "      <td>dating_advice</td>\n",
       "    </tr>\n",
       "    <tr>\n",
       "      <th>27</th>\n",
       "      <td>27</td>\n",
       "      <td>caaa87</td>\n",
       "      <td>away13355</td>\n",
       "      <td>the girl(21F) keep on apearing in my(21M)</td>\n",
       "      <td>I'm not sure where to start so I will just sta...</td>\n",
       "      <td>2019-07-07 18:43:30</td>\n",
       "      <td>1</td>\n",
       "      <td>2</td>\n",
       "      <td>dating_advice</td>\n",
       "    </tr>\n",
       "    <tr>\n",
       "      <th>28</th>\n",
       "      <td>28</td>\n",
       "      <td>caa9xq</td>\n",
       "      <td>sadboi_1999</td>\n",
       "      <td>Don't start off in the dating world with casua...</td>\n",
       "      <td>So I know people have differing opinions on th...</td>\n",
       "      <td>2019-07-07 18:42:48</td>\n",
       "      <td>1</td>\n",
       "      <td>2</td>\n",
       "      <td>dating_advice</td>\n",
       "    </tr>\n",
       "    <tr>\n",
       "      <th>29</th>\n",
       "      <td>29</td>\n",
       "      <td>caa5gl</td>\n",
       "      <td>burube</td>\n",
       "      <td>Is it normal you only realize you love the per...</td>\n",
       "      <td>I dated a guy for three months before he went ...</td>\n",
       "      <td>2019-07-07 18:32:35</td>\n",
       "      <td>1</td>\n",
       "      <td>2</td>\n",
       "      <td>dating_advice</td>\n",
       "    </tr>\n",
       "    <tr>\n",
       "      <th>...</th>\n",
       "      <td>...</td>\n",
       "      <td>...</td>\n",
       "      <td>...</td>\n",
       "      <td>...</td>\n",
       "      <td>...</td>\n",
       "      <td>...</td>\n",
       "      <td>...</td>\n",
       "      <td>...</td>\n",
       "      <td>...</td>\n",
       "    </tr>\n",
       "    <tr>\n",
       "      <th>936</th>\n",
       "      <td>936</td>\n",
       "      <td>c8ch1s</td>\n",
       "      <td>twiggy572</td>\n",
       "      <td>Opinion Wanted</td>\n",
       "      <td>I was talking about this date with some friend...</td>\n",
       "      <td>2019-07-02 18:00:14</td>\n",
       "      <td>4</td>\n",
       "      <td>1</td>\n",
       "      <td>dating_advice</td>\n",
       "    </tr>\n",
       "    <tr>\n",
       "      <th>937</th>\n",
       "      <td>937</td>\n",
       "      <td>c8cfb5</td>\n",
       "      <td>thelonegunman88</td>\n",
       "      <td>Oof</td>\n",
       "      <td>Should I let religion really be the biggest ca...</td>\n",
       "      <td>2019-07-02 17:56:28</td>\n",
       "      <td>7</td>\n",
       "      <td>1</td>\n",
       "      <td>dating_advice</td>\n",
       "    </tr>\n",
       "    <tr>\n",
       "      <th>938</th>\n",
       "      <td>938</td>\n",
       "      <td>c7vcta</td>\n",
       "      <td>burube</td>\n",
       "      <td>As long as there are real emotions involved, i...</td>\n",
       "      <td>NaN</td>\n",
       "      <td>2019-07-01 16:41:56</td>\n",
       "      <td>18</td>\n",
       "      <td>103</td>\n",
       "      <td>dating_advice</td>\n",
       "    </tr>\n",
       "    <tr>\n",
       "      <th>939</th>\n",
       "      <td>939</td>\n",
       "      <td>c86zug</td>\n",
       "      <td>GomezTE</td>\n",
       "      <td>How do I present myself on dates this far in?</td>\n",
       "      <td>Hey!\\nSo m(19)e and my GF(18) has been in a re...</td>\n",
       "      <td>2019-07-02 09:08:50</td>\n",
       "      <td>8</td>\n",
       "      <td>5</td>\n",
       "      <td>dating_advice</td>\n",
       "    </tr>\n",
       "    <tr>\n",
       "      <th>940</th>\n",
       "      <td>940</td>\n",
       "      <td>c8c9pu</td>\n",
       "      <td>Redditdditdido</td>\n",
       "      <td>I’ve lost my touch</td>\n",
       "      <td>Ok so basically I’ve always been super confide...</td>\n",
       "      <td>2019-07-02 17:44:20</td>\n",
       "      <td>2</td>\n",
       "      <td>1</td>\n",
       "      <td>dating_advice</td>\n",
       "    </tr>\n",
       "    <tr>\n",
       "      <th>941</th>\n",
       "      <td>941</td>\n",
       "      <td>c8c9f8</td>\n",
       "      <td>jayteddyy</td>\n",
       "      <td>Weighting my options ? Should i initiate ?</td>\n",
       "      <td>So my roommate is the landlords niece \\n\\nCool...</td>\n",
       "      <td>2019-07-02 17:43:42</td>\n",
       "      <td>2</td>\n",
       "      <td>1</td>\n",
       "      <td>dating_advice</td>\n",
       "    </tr>\n",
       "    <tr>\n",
       "      <th>942</th>\n",
       "      <td>942</td>\n",
       "      <td>c8c7r4</td>\n",
       "      <td>tinasaurus98</td>\n",
       "      <td>I [21F] feel as if I’m in for another heart br...</td>\n",
       "      <td>It’s like 3am where I’m at and I’m trying to s...</td>\n",
       "      <td>2019-07-02 17:39:52</td>\n",
       "      <td>7</td>\n",
       "      <td>1</td>\n",
       "      <td>dating_advice</td>\n",
       "    </tr>\n",
       "    <tr>\n",
       "      <th>943</th>\n",
       "      <td>943</td>\n",
       "      <td>c8c3xm</td>\n",
       "      <td>MedRadGirl</td>\n",
       "      <td>Ready to move on?</td>\n",
       "      <td>After a breakup, what made you realize that yo...</td>\n",
       "      <td>2019-07-02 17:31:39</td>\n",
       "      <td>6</td>\n",
       "      <td>1</td>\n",
       "      <td>dating_advice</td>\n",
       "    </tr>\n",
       "    <tr>\n",
       "      <th>944</th>\n",
       "      <td>944</td>\n",
       "      <td>c8c3gc</td>\n",
       "      <td>usmntcowboys</td>\n",
       "      <td>Should I double text a girl if she initially r...</td>\n",
       "      <td>This girl replied to my insta story and I resp...</td>\n",
       "      <td>2019-07-02 17:30:29</td>\n",
       "      <td>3</td>\n",
       "      <td>1</td>\n",
       "      <td>dating_advice</td>\n",
       "    </tr>\n",
       "    <tr>\n",
       "      <th>945</th>\n",
       "      <td>945</td>\n",
       "      <td>c8820m</td>\n",
       "      <td>shouldidate</td>\n",
       "      <td>I would like your advice on how to proceed wit...</td>\n",
       "      <td>So I (26M) had a crush on this girl (29F), I m...</td>\n",
       "      <td>2019-07-02 11:22:49</td>\n",
       "      <td>6</td>\n",
       "      <td>3</td>\n",
       "      <td>dating_advice</td>\n",
       "    </tr>\n",
       "    <tr>\n",
       "      <th>946</th>\n",
       "      <td>946</td>\n",
       "      <td>c8bwck</td>\n",
       "      <td>papa_smurfus</td>\n",
       "      <td>First date weird story help please</td>\n",
       "      <td>Note:it was all texts,not face to face.\\n\\nI a...</td>\n",
       "      <td>2019-07-02 17:14:27</td>\n",
       "      <td>3</td>\n",
       "      <td>1</td>\n",
       "      <td>dating_advice</td>\n",
       "    </tr>\n",
       "    <tr>\n",
       "      <th>947</th>\n",
       "      <td>947</td>\n",
       "      <td>c86pcb</td>\n",
       "      <td>0xE11</td>\n",
       "      <td>In college, how do you typically find a date?</td>\n",
       "      <td>I'm an engineering student (going to be a soph...</td>\n",
       "      <td>2019-07-02 08:28:26</td>\n",
       "      <td>5</td>\n",
       "      <td>6</td>\n",
       "      <td>dating_advice</td>\n",
       "    </tr>\n",
       "    <tr>\n",
       "      <th>948</th>\n",
       "      <td>948</td>\n",
       "      <td>c8btwu</td>\n",
       "      <td>Spoofless</td>\n",
       "      <td>Should I tell my friend I like her</td>\n",
       "      <td>Over my freshman year of high school I got pre...</td>\n",
       "      <td>2019-07-02 17:09:06</td>\n",
       "      <td>3</td>\n",
       "      <td>1</td>\n",
       "      <td>dating_advice</td>\n",
       "    </tr>\n",
       "    <tr>\n",
       "      <th>949</th>\n",
       "      <td>949</td>\n",
       "      <td>c8bqxe</td>\n",
       "      <td>Lovelif3</td>\n",
       "      <td>Commitment problems- when to define the relati...</td>\n",
       "      <td>Hello, \\n\\nI am a 24 y/o f that has been seein...</td>\n",
       "      <td>2019-07-02 17:02:53</td>\n",
       "      <td>4</td>\n",
       "      <td>1</td>\n",
       "      <td>dating_advice</td>\n",
       "    </tr>\n",
       "    <tr>\n",
       "      <th>950</th>\n",
       "      <td>950</td>\n",
       "      <td>c8bm0q</td>\n",
       "      <td>Zhylaw</td>\n",
       "      <td>Are colored contacts a turnoff (any gender)?</td>\n",
       "      <td>I wear prescription contacts so I can see, and...</td>\n",
       "      <td>2019-07-02 16:52:12</td>\n",
       "      <td>3</td>\n",
       "      <td>1</td>\n",
       "      <td>dating_advice</td>\n",
       "    </tr>\n",
       "    <tr>\n",
       "      <th>951</th>\n",
       "      <td>951</td>\n",
       "      <td>c88zat</td>\n",
       "      <td>OakenPoet6</td>\n",
       "      <td>I wanna get back with this girl</td>\n",
       "      <td>There was this girl I liked alot before I star...</td>\n",
       "      <td>2019-07-02 13:04:42</td>\n",
       "      <td>9</td>\n",
       "      <td>2</td>\n",
       "      <td>dating_advice</td>\n",
       "    </tr>\n",
       "    <tr>\n",
       "      <th>952</th>\n",
       "      <td>952</td>\n",
       "      <td>c8bfpt</td>\n",
       "      <td>olivianoel15</td>\n",
       "      <td>Kik</td>\n",
       "      <td>Anyone wanna share kik accounts to connect</td>\n",
       "      <td>2019-07-02 16:38:14</td>\n",
       "      <td>1</td>\n",
       "      <td>1</td>\n",
       "      <td>dating_advice</td>\n",
       "    </tr>\n",
       "    <tr>\n",
       "      <th>953</th>\n",
       "      <td>953</td>\n",
       "      <td>c8bdpj</td>\n",
       "      <td>lightningmonky</td>\n",
       "      <td>Do you ask your crush for her/his number or do...</td>\n",
       "      <td>I'm finally going to ask my crush out because ...</td>\n",
       "      <td>2019-07-02 16:33:47</td>\n",
       "      <td>12</td>\n",
       "      <td>1</td>\n",
       "      <td>dating_advice</td>\n",
       "    </tr>\n",
       "    <tr>\n",
       "      <th>954</th>\n",
       "      <td>954</td>\n",
       "      <td>c87mna</td>\n",
       "      <td>throwaway1334578</td>\n",
       "      <td>How do I stop overthinking things with this pe...</td>\n",
       "      <td>So I really like this guy at work. And he’s sh...</td>\n",
       "      <td>2019-07-02 10:30:51</td>\n",
       "      <td>9</td>\n",
       "      <td>3</td>\n",
       "      <td>dating_advice</td>\n",
       "    </tr>\n",
       "    <tr>\n",
       "      <th>955</th>\n",
       "      <td>955</td>\n",
       "      <td>c8bbay</td>\n",
       "      <td>kinda_dubious</td>\n",
       "      <td>Is it okay to realize that it wasn't love afte...</td>\n",
       "      <td>I'm in college and I really liked a senior. Wh...</td>\n",
       "      <td>2019-07-02 16:28:13</td>\n",
       "      <td>6</td>\n",
       "      <td>1</td>\n",
       "      <td>dating_advice</td>\n",
       "    </tr>\n",
       "    <tr>\n",
       "      <th>956</th>\n",
       "      <td>956</td>\n",
       "      <td>c88r52</td>\n",
       "      <td>romke333</td>\n",
       "      <td>Getting ghosted after everything going pretty ...</td>\n",
       "      <td>I (17m) like this girl(17). We attend the same...</td>\n",
       "      <td>2019-07-02 12:41:25</td>\n",
       "      <td>16</td>\n",
       "      <td>2</td>\n",
       "      <td>dating_advice</td>\n",
       "    </tr>\n",
       "    <tr>\n",
       "      <th>957</th>\n",
       "      <td>957</td>\n",
       "      <td>c88qq7</td>\n",
       "      <td>honduran_papi</td>\n",
       "      <td>Asking someone out on Facebook</td>\n",
       "      <td>(25M) been out of a relationship for about a y...</td>\n",
       "      <td>2019-07-02 12:40:06</td>\n",
       "      <td>3</td>\n",
       "      <td>2</td>\n",
       "      <td>dating_advice</td>\n",
       "    </tr>\n",
       "    <tr>\n",
       "      <th>958</th>\n",
       "      <td>958</td>\n",
       "      <td>c8b6ju</td>\n",
       "      <td>ndnd83</td>\n",
       "      <td>Do I deserve this?</td>\n",
       "      <td>When me and my gf began dating we never had th...</td>\n",
       "      <td>2019-07-02 16:17:12</td>\n",
       "      <td>3</td>\n",
       "      <td>1</td>\n",
       "      <td>dating_advice</td>\n",
       "    </tr>\n",
       "    <tr>\n",
       "      <th>959</th>\n",
       "      <td>959</td>\n",
       "      <td>c8b2do</td>\n",
       "      <td>anon_acc_4782</td>\n",
       "      <td>Movie advice</td>\n",
       "      <td>We're having a date at my place and we plan on...</td>\n",
       "      <td>2019-07-02 16:07:46</td>\n",
       "      <td>3</td>\n",
       "      <td>1</td>\n",
       "      <td>dating_advice</td>\n",
       "    </tr>\n",
       "    <tr>\n",
       "      <th>960</th>\n",
       "      <td>960</td>\n",
       "      <td>c8awvc</td>\n",
       "      <td>BrownWingMan</td>\n",
       "      <td>How to keep a conversation flowing?</td>\n",
       "      <td>In text and real life.</td>\n",
       "      <td>2019-07-02 15:55:25</td>\n",
       "      <td>1</td>\n",
       "      <td>1</td>\n",
       "      <td>dating_advice</td>\n",
       "    </tr>\n",
       "    <tr>\n",
       "      <th>961</th>\n",
       "      <td>961</td>\n",
       "      <td>c86o6u</td>\n",
       "      <td>mirphbla</td>\n",
       "      <td>How to continue with a good friend (29f)? Ask ...</td>\n",
       "      <td>Hey there.. (30m over here)\\n\\nSo first of all...</td>\n",
       "      <td>2019-07-02 08:23:47</td>\n",
       "      <td>4</td>\n",
       "      <td>4</td>\n",
       "      <td>dating_advice</td>\n",
       "    </tr>\n",
       "    <tr>\n",
       "      <th>962</th>\n",
       "      <td>962</td>\n",
       "      <td>c85neu</td>\n",
       "      <td>superpeephole</td>\n",
       "      <td>How do you meet new people?</td>\n",
       "      <td>Usually in person? In apps? I'm curious.</td>\n",
       "      <td>2019-07-02 06:11:16</td>\n",
       "      <td>9</td>\n",
       "      <td>7</td>\n",
       "      <td>dating_advice</td>\n",
       "    </tr>\n",
       "    <tr>\n",
       "      <th>963</th>\n",
       "      <td>963</td>\n",
       "      <td>c860py</td>\n",
       "      <td>sushilover77</td>\n",
       "      <td>Date with a YouTube Personality</td>\n",
       "      <td>I’ve (26F) been watching this YouTuber (29M) (...</td>\n",
       "      <td>2019-07-02 06:56:47</td>\n",
       "      <td>9</td>\n",
       "      <td>5</td>\n",
       "      <td>dating_advice</td>\n",
       "    </tr>\n",
       "    <tr>\n",
       "      <th>964</th>\n",
       "      <td>964</td>\n",
       "      <td>c878q5</td>\n",
       "      <td>randomproblems2today</td>\n",
       "      <td>I(23f) see some red flags in a very new situat...</td>\n",
       "      <td>I'm (23F) and the guy I'm \"dating\" is (29M). I...</td>\n",
       "      <td>2019-07-02 09:42:07</td>\n",
       "      <td>9</td>\n",
       "      <td>3</td>\n",
       "      <td>dating_advice</td>\n",
       "    </tr>\n",
       "    <tr>\n",
       "      <th>965</th>\n",
       "      <td>965</td>\n",
       "      <td>c8akrw</td>\n",
       "      <td>LostAsFuck98</td>\n",
       "      <td>The lack of intimacy is killing me NSFW. Sorry...</td>\n",
       "      <td>My boyfriend(21) and I (f21), have been togeth...</td>\n",
       "      <td>2019-07-02 15:27:13</td>\n",
       "      <td>6</td>\n",
       "      <td>1</td>\n",
       "      <td>dating_advice</td>\n",
       "    </tr>\n",
       "  </tbody>\n",
       "</table>\n",
       "<p>966 rows × 9 columns</p>\n",
       "</div>"
      ],
      "text/plain": [
       "     Unnamed: 0      id                author  \\\n",
       "0             0  c5gnfz         TheYellowRose   \n",
       "1             1  c9sy1z         AutoModerator   \n",
       "2             2  ca6n6n         C0nfusedGiirl   \n",
       "3             3  ca8zs0        thatviolabinch   \n",
       "4             4  c9xmsw             Raziasaur   \n",
       "5             5  ca7oll     Sharptheavenger28   \n",
       "6             6  ca6fmh       spoonlicker3000   \n",
       "7             7  ca8frx  reddituser1011123425   \n",
       "8             8  ca8x4d         knife_party86   \n",
       "9             9  ca9sun     Undateablelady109   \n",
       "10           10  caac69        Equivalent_Age   \n",
       "11           11  ca54jc             ninja1s23   \n",
       "12           12  caa7qf               sam9529   \n",
       "13           13  ca91eb    Vagabond_traveller   \n",
       "14           14  ca9xev             humanquit   \n",
       "15           15  ca8r68         areddituser44   \n",
       "16           16  ca8ppu  pm_me_ur_fave_murder   \n",
       "17           17  ca7v4c                dayemm   \n",
       "18           18  ca7r6n            Tsmooth323   \n",
       "19           19  ca8j9p      mysteryduckworld   \n",
       "20           20  ca8j8x     sassyinaclassyway   \n",
       "21           21  ca358x      BeanCounter98761   \n",
       "22           22  ca9j4o              rwer1234   \n",
       "23           23  ca94qf      user_new_one_two   \n",
       "24           24  ca8xq9     motherofdragons09   \n",
       "25           25  ca8w9k      ItachiUchiha1997   \n",
       "26           26  ca8vpe  tinychameleoncatcher   \n",
       "27           27  caaa87             away13355   \n",
       "28           28  caa9xq           sadboi_1999   \n",
       "29           29  caa5gl                burube   \n",
       "..          ...     ...                   ...   \n",
       "936         936  c8ch1s             twiggy572   \n",
       "937         937  c8cfb5       thelonegunman88   \n",
       "938         938  c7vcta                burube   \n",
       "939         939  c86zug               GomezTE   \n",
       "940         940  c8c9pu        Redditdditdido   \n",
       "941         941  c8c9f8             jayteddyy   \n",
       "942         942  c8c7r4          tinasaurus98   \n",
       "943         943  c8c3xm            MedRadGirl   \n",
       "944         944  c8c3gc          usmntcowboys   \n",
       "945         945  c8820m           shouldidate   \n",
       "946         946  c8bwck          papa_smurfus   \n",
       "947         947  c86pcb                 0xE11   \n",
       "948         948  c8btwu             Spoofless   \n",
       "949         949  c8bqxe              Lovelif3   \n",
       "950         950  c8bm0q                Zhylaw   \n",
       "951         951  c88zat            OakenPoet6   \n",
       "952         952  c8bfpt          olivianoel15   \n",
       "953         953  c8bdpj        lightningmonky   \n",
       "954         954  c87mna      throwaway1334578   \n",
       "955         955  c8bbay         kinda_dubious   \n",
       "956         956  c88r52              romke333   \n",
       "957         957  c88qq7         honduran_papi   \n",
       "958         958  c8b6ju                ndnd83   \n",
       "959         959  c8b2do         anon_acc_4782   \n",
       "960         960  c8awvc          BrownWingMan   \n",
       "961         961  c86o6u              mirphbla   \n",
       "962         962  c85neu         superpeephole   \n",
       "963         963  c860py          sushilover77   \n",
       "964         964  c878q5  randomproblems2today   \n",
       "965         965  c8akrw          LostAsFuck98   \n",
       "\n",
       "                                                 title  \\\n",
       "0    [SERIOUS] What are some good ways to build up ...   \n",
       "1         Daily Free-for-all Discussion- July 06, 2019   \n",
       "2    I hate when guys didn't respond and left me gu...   \n",
       "3    To the right person, you will perfectly make s...   \n",
       "4    If you have an unreciprocated crush on a frien...   \n",
       "5                   I had to break it off. (26m) (23f)   \n",
       "6    Men that were really nervous before talking to...   \n",
       "7                                     Is romance dead?   \n",
       "8    Do men ask their guy friends for dating advice...   \n",
       "9                                 Why am I undateable?   \n",
       "10                             Men sending me selfies?   \n",
       "11                           Can’t match with any girl   \n",
       "12   First date tomorrow, how much touching is appr...   \n",
       "13   how can i date someone if i don't have that mu...   \n",
       "14   This is not going to be a happy post. I (F21) ...   \n",
       "15                     Great first date. Awful texter?   \n",
       "16   I (25F) think i need to break up with my bf (3...   \n",
       "17                             Dating multiple people?   \n",
       "18                Im so heartbroken, lost and confused   \n",
       "19   Should it matter the amount of people someone ...   \n",
       "20                        How can I make it up to you?   \n",
       "21   If anyone would like to chat privately about t...   \n",
       "22                                Advice From a Friend   \n",
       "23   How should I talk to a girl in my class more? ...   \n",
       "24                                     Dating at work?   \n",
       "25   Do I really stand a chance with this girl? My ...   \n",
       "26   Long and complicated situation with my ex-girl...   \n",
       "27           the girl(21F) keep on apearing in my(21M)   \n",
       "28   Don't start off in the dating world with casua...   \n",
       "29   Is it normal you only realize you love the per...   \n",
       "..                                                 ...   \n",
       "936                                     Opinion Wanted   \n",
       "937                                                Oof   \n",
       "938  As long as there are real emotions involved, i...   \n",
       "939      How do I present myself on dates this far in?   \n",
       "940                                 I’ve lost my touch   \n",
       "941         Weighting my options ? Should i initiate ?   \n",
       "942  I [21F] feel as if I’m in for another heart br...   \n",
       "943                                  Ready to move on?   \n",
       "944  Should I double text a girl if she initially r...   \n",
       "945  I would like your advice on how to proceed wit...   \n",
       "946                 First date weird story help please   \n",
       "947      In college, how do you typically find a date?   \n",
       "948                 Should I tell my friend I like her   \n",
       "949  Commitment problems- when to define the relati...   \n",
       "950       Are colored contacts a turnoff (any gender)?   \n",
       "951                    I wanna get back with this girl   \n",
       "952                                                Kik   \n",
       "953  Do you ask your crush for her/his number or do...   \n",
       "954  How do I stop overthinking things with this pe...   \n",
       "955  Is it okay to realize that it wasn't love afte...   \n",
       "956  Getting ghosted after everything going pretty ...   \n",
       "957                     Asking someone out on Facebook   \n",
       "958                                 Do I deserve this?   \n",
       "959                                       Movie advice   \n",
       "960                How to keep a conversation flowing?   \n",
       "961  How to continue with a good friend (29f)? Ask ...   \n",
       "962                        How do you meet new people?   \n",
       "963                    Date with a YouTube Personality   \n",
       "964  I(23f) see some red flags in a very new situat...   \n",
       "965  The lack of intimacy is killing me NSFW. Sorry...   \n",
       "\n",
       "                                              selftext            timestamp  \\\n",
       "0                                                  NaN  2019-06-25 22:28:55   \n",
       "1    Welcome to /r/dating_advice. Please use this d...  2019-07-06 12:13:58   \n",
       "2    That's getting annoyed and time-wasting!\\n\\nI ...  2019-07-07 13:08:02   \n",
       "3    I guess this is kind of obvious, but I wanted ...  2019-07-07 16:56:26   \n",
       "4    I can’t tell you how many friendships have bee...  2019-07-06 19:34:47   \n",
       "5    Long story short, I met her through a mutual f...  2019-07-07 14:56:00   \n",
       "6    I'm recently single 21m and am ready to start ...  2019-07-07 12:43:45   \n",
       "7    Hi everyone so I am dying to have romance in m...  2019-07-07 16:06:22   \n",
       "8    So I have always asked my very best friend for...  2019-07-07 16:50:01   \n",
       "9    I want to preface by saying I am not seeking a...  2019-07-07 18:03:24   \n",
       "10   Why do men send me selfies via text? \\n\\nThis ...  2019-07-07 18:48:07   \n",
       "11   I’m 19 (M) created a few profiles on dating ap...  2019-07-07 09:40:37   \n",
       "12   I (20M) have my first date with a girl(21) tom...  2019-07-07 18:37:41   \n",
       "13                                                 NaN  2019-07-07 17:00:20   \n",
       "14   He is in his last year of uni and I understand...  2019-07-07 18:13:51   \n",
       "15   So I (M30) has a great date a few days ago wit...  2019-07-07 16:35:10   \n",
       "16   I’ve been in this sub a LOT lately. Dating is ...  2019-07-07 16:31:38   \n",
       "17   I’m the type of person who prefers to get to k...  2019-07-07 15:13:08   \n",
       "18   I'm a 33 yr old man and my ex girlfriend (34yr...  2019-07-07 15:03:05   \n",
       "19   Throw away account to keep this anonymous\\nI’v...  2019-07-07 16:15:12   \n",
       "20   What is the best way to respond to \"how can I ...  2019-07-07 16:15:08   \n",
       "21   I'm going to volunteer sometime tonight till a...  2019-07-07 04:52:34   \n",
       "22   So I have been having a \"hard time\" with women...  2019-07-07 17:41:14   \n",
       "23   I'm \\[M22\\] currently in college and there's a...  2019-07-07 17:07:47   \n",
       "24   So I (22F) have recently started a new job. Th...  2019-07-07 16:51:28   \n",
       "25   So, there is this co-worker of mine (23F). It'...  2019-07-07 16:47:55   \n",
       "26   I still have extremely strong feelings for my ...  2019-07-07 16:46:33   \n",
       "27   I'm not sure where to start so I will just sta...  2019-07-07 18:43:30   \n",
       "28   So I know people have differing opinions on th...  2019-07-07 18:42:48   \n",
       "29   I dated a guy for three months before he went ...  2019-07-07 18:32:35   \n",
       "..                                                 ...                  ...   \n",
       "936  I was talking about this date with some friend...  2019-07-02 18:00:14   \n",
       "937  Should I let religion really be the biggest ca...  2019-07-02 17:56:28   \n",
       "938                                                NaN  2019-07-01 16:41:56   \n",
       "939  Hey!\\nSo m(19)e and my GF(18) has been in a re...  2019-07-02 09:08:50   \n",
       "940  Ok so basically I’ve always been super confide...  2019-07-02 17:44:20   \n",
       "941  So my roommate is the landlords niece \\n\\nCool...  2019-07-02 17:43:42   \n",
       "942  It’s like 3am where I’m at and I’m trying to s...  2019-07-02 17:39:52   \n",
       "943  After a breakup, what made you realize that yo...  2019-07-02 17:31:39   \n",
       "944  This girl replied to my insta story and I resp...  2019-07-02 17:30:29   \n",
       "945  So I (26M) had a crush on this girl (29F), I m...  2019-07-02 11:22:49   \n",
       "946  Note:it was all texts,not face to face.\\n\\nI a...  2019-07-02 17:14:27   \n",
       "947  I'm an engineering student (going to be a soph...  2019-07-02 08:28:26   \n",
       "948  Over my freshman year of high school I got pre...  2019-07-02 17:09:06   \n",
       "949  Hello, \\n\\nI am a 24 y/o f that has been seein...  2019-07-02 17:02:53   \n",
       "950  I wear prescription contacts so I can see, and...  2019-07-02 16:52:12   \n",
       "951  There was this girl I liked alot before I star...  2019-07-02 13:04:42   \n",
       "952         Anyone wanna share kik accounts to connect  2019-07-02 16:38:14   \n",
       "953  I'm finally going to ask my crush out because ...  2019-07-02 16:33:47   \n",
       "954  So I really like this guy at work. And he’s sh...  2019-07-02 10:30:51   \n",
       "955  I'm in college and I really liked a senior. Wh...  2019-07-02 16:28:13   \n",
       "956  I (17m) like this girl(17). We attend the same...  2019-07-02 12:41:25   \n",
       "957  (25M) been out of a relationship for about a y...  2019-07-02 12:40:06   \n",
       "958  When me and my gf began dating we never had th...  2019-07-02 16:17:12   \n",
       "959  We're having a date at my place and we plan on...  2019-07-02 16:07:46   \n",
       "960                             In text and real life.  2019-07-02 15:55:25   \n",
       "961  Hey there.. (30m over here)\\n\\nSo first of all...  2019-07-02 08:23:47   \n",
       "962           Usually in person? In apps? I'm curious.  2019-07-02 06:11:16   \n",
       "963  I’ve (26F) been watching this YouTuber (29M) (...  2019-07-02 06:56:47   \n",
       "964  I'm (23F) and the guy I'm \"dating\" is (29M). I...  2019-07-02 09:42:07   \n",
       "965  My boyfriend(21) and I (f21), have been togeth...  2019-07-02 15:27:13   \n",
       "\n",
       "     num_comments   ups      subreddit  \n",
       "0              52   104  dating_advice  \n",
       "1               1     4  dating_advice  \n",
       "2             123   348  dating_advice  \n",
       "3               6    52  dating_advice  \n",
       "4             162  2237  dating_advice  \n",
       "5              28    55  dating_advice  \n",
       "6              18    16  dating_advice  \n",
       "7              19     7  dating_advice  \n",
       "8               8     6  dating_advice  \n",
       "9               8     5  dating_advice  \n",
       "10              2     3  dating_advice  \n",
       "11             17    16  dating_advice  \n",
       "12              3     3  dating_advice  \n",
       "13              5     5  dating_advice  \n",
       "14              1     4  dating_advice  \n",
       "15              9     5  dating_advice  \n",
       "16              2     4  dating_advice  \n",
       "17              8     6  dating_advice  \n",
       "18              5     6  dating_advice  \n",
       "19             11     5  dating_advice  \n",
       "20              8     4  dating_advice  \n",
       "21             21    34  dating_advice  \n",
       "22              1     3  dating_advice  \n",
       "23              2     3  dating_advice  \n",
       "24              4     3  dating_advice  \n",
       "25              4     3  dating_advice  \n",
       "26              2     3  dating_advice  \n",
       "27              1     2  dating_advice  \n",
       "28              1     2  dating_advice  \n",
       "29              1     2  dating_advice  \n",
       "..            ...   ...            ...  \n",
       "936             4     1  dating_advice  \n",
       "937             7     1  dating_advice  \n",
       "938            18   103  dating_advice  \n",
       "939             8     5  dating_advice  \n",
       "940             2     1  dating_advice  \n",
       "941             2     1  dating_advice  \n",
       "942             7     1  dating_advice  \n",
       "943             6     1  dating_advice  \n",
       "944             3     1  dating_advice  \n",
       "945             6     3  dating_advice  \n",
       "946             3     1  dating_advice  \n",
       "947             5     6  dating_advice  \n",
       "948             3     1  dating_advice  \n",
       "949             4     1  dating_advice  \n",
       "950             3     1  dating_advice  \n",
       "951             9     2  dating_advice  \n",
       "952             1     1  dating_advice  \n",
       "953            12     1  dating_advice  \n",
       "954             9     3  dating_advice  \n",
       "955             6     1  dating_advice  \n",
       "956            16     2  dating_advice  \n",
       "957             3     2  dating_advice  \n",
       "958             3     1  dating_advice  \n",
       "959             3     1  dating_advice  \n",
       "960             1     1  dating_advice  \n",
       "961             4     4  dating_advice  \n",
       "962             9     7  dating_advice  \n",
       "963             9     5  dating_advice  \n",
       "964             9     3  dating_advice  \n",
       "965             6     1  dating_advice  \n",
       "\n",
       "[966 rows x 9 columns]"
      ]
     },
     "execution_count": 33,
     "metadata": {},
     "output_type": "execute_result"
    }
   ],
   "source": [
    "pd.read_csv('datasets/dating.csv')"
   ]
  },
  {
   "cell_type": "markdown",
   "metadata": {},
   "source": [
    "URL for 2nd scrape."
   ]
  },
  {
   "cell_type": "code",
   "execution_count": 34,
   "metadata": {},
   "outputs": [],
   "source": [
    "new_url = \"https://www.reddit.com/r/dating_advice/new.json\""
   ]
  },
  {
   "cell_type": "code",
   "execution_count": 35,
   "metadata": {},
   "outputs": [],
   "source": [
    "new_res = requests.get(new_url, headers=headers)"
   ]
  },
  {
   "cell_type": "code",
   "execution_count": 36,
   "metadata": {},
   "outputs": [
    {
     "data": {
      "text/plain": [
       "200"
      ]
     },
     "execution_count": 36,
     "metadata": {},
     "output_type": "execute_result"
    }
   ],
   "source": [
    "new_res.status_code"
   ]
  },
  {
   "cell_type": "code",
   "execution_count": 37,
   "metadata": {},
   "outputs": [],
   "source": [
    "new_json = new_res.json()"
   ]
  },
  {
   "cell_type": "code",
   "execution_count": 38,
   "metadata": {},
   "outputs": [
    {
     "data": {
      "text/plain": [
       "dict_keys(['kind', 'data'])"
      ]
     },
     "execution_count": 38,
     "metadata": {},
     "output_type": "execute_result"
    }
   ],
   "source": [
    "new_json.keys()"
   ]
  },
  {
   "cell_type": "code",
   "execution_count": 39,
   "metadata": {},
   "outputs": [
    {
     "name": "stdout",
     "output_type": "stream",
     "text": [
      "t3_cc06qw\n"
     ]
    },
    {
     "data": {
      "text/plain": [
       "['t3_cc1xgw',\n",
       " 't3_cc1ro7',\n",
       " 't3_cc1ppg',\n",
       " 't3_cc1p2b',\n",
       " 't3_cc1j09',\n",
       " 't3_cc1gb6',\n",
       " 't3_cc1cxo',\n",
       " 't3_cc1a7n',\n",
       " 't3_cc18ku',\n",
       " 't3_cc188k',\n",
       " 't3_cc17ov',\n",
       " 't3_cc16e6',\n",
       " 't3_cc15d9',\n",
       " 't3_cc0zkq',\n",
       " 't3_cc0uqs',\n",
       " 't3_cc0ry4',\n",
       " 't3_cc0r6d',\n",
       " 't3_cc0qmv',\n",
       " 't3_cc0odh',\n",
       " 't3_cc0jsh',\n",
       " 't3_cc0fu0',\n",
       " 't3_cc0ff3',\n",
       " 't3_cc0ere',\n",
       " 't3_cc07x6',\n",
       " 't3_cc06qw']"
      ]
     },
     "execution_count": 39,
     "metadata": {},
     "output_type": "execute_result"
    }
   ],
   "source": [
    "print(new_json['data']['after'])\n",
    "\n",
    "[post['data']['name'] for post in new_json['data']['children']]"
   ]
  },
  {
   "cell_type": "markdown",
   "metadata": {},
   "source": [
    "July 6th - scrape #2"
   ]
  },
  {
   "cell_type": "code",
   "execution_count": 40,
   "metadata": {},
   "outputs": [
    {
     "name": "stdout",
     "output_type": "stream",
     "text": [
      "0\n",
      "Current Scrape:\n",
      "25 posts scraped for a total of 25\n",
      "Current after:t3_cc06qw\n",
      "1\n",
      "Current Scrape:\n",
      "25 posts scraped for a total of 50\n",
      "Current after:t3_cbymfy\n",
      "2\n",
      "Current Scrape:\n",
      "25 posts scraped for a total of 75\n",
      "Current after:t3_cbxhqx\n",
      "3\n",
      "Current Scrape:\n",
      "25 posts scraped for a total of 100\n",
      "Current after:t3_cbw7nk\n",
      "4\n",
      "Current Scrape:\n",
      "25 posts scraped for a total of 125\n",
      "Current after:t3_cbu6ci\n",
      "5\n",
      "Current Scrape:\n",
      "25 posts scraped for a total of 150\n",
      "Current after:t3_cbry1p\n",
      "6\n",
      "Current Scrape:\n",
      "25 posts scraped for a total of 175\n",
      "Current after:t3_cbqquc\n",
      "7\n",
      "Current Scrape:\n",
      "25 posts scraped for a total of 200\n",
      "Current after:t3_cbp7w8\n",
      "8\n",
      "Current Scrape:\n",
      "25 posts scraped for a total of 225\n",
      "Current after:t3_cbnhm1\n",
      "9\n",
      "Current Scrape:\n",
      "25 posts scraped for a total of 250\n",
      "Current after:t3_cblq9i\n",
      "10\n",
      "Current Scrape:\n",
      "25 posts scraped for a total of 275\n",
      "Current after:t3_cbk06v\n",
      "11\n",
      "Current Scrape:\n",
      "25 posts scraped for a total of 300\n",
      "Current after:t3_cbi09f\n",
      "12\n",
      "Current Scrape:\n",
      "25 posts scraped for a total of 325\n",
      "Current after:t3_cbfnug\n",
      "13\n",
      "Current Scrape:\n",
      "25 posts scraped for a total of 350\n",
      "Current after:t3_cbdufw\n",
      "14\n",
      "Current Scrape:\n",
      "25 posts scraped for a total of 375\n",
      "Current after:t3_cbc626\n",
      "15\n",
      "Current Scrape:\n",
      "25 posts scraped for a total of 400\n",
      "Current after:t3_cbb9fy\n",
      "16\n",
      "Current Scrape:\n",
      "25 posts scraped for a total of 425\n",
      "Current after:t3_cbadlh\n",
      "17\n",
      "Current Scrape:\n",
      "25 posts scraped for a total of 450\n",
      "Current after:t3_cb94lp\n",
      "18\n",
      "Current Scrape:\n",
      "25 posts scraped for a total of 475\n",
      "Current after:t3_cb7qgz\n",
      "19\n",
      "Current Scrape:\n",
      "25 posts scraped for a total of 500\n",
      "Current after:t3_cb5xfp\n",
      "20\n",
      "Current Scrape:\n",
      "25 posts scraped for a total of 525\n",
      "Current after:t3_cb4isn\n",
      "21\n",
      "Current Scrape:\n",
      "25 posts scraped for a total of 550\n",
      "Current after:t3_cb2ay7\n",
      "22\n",
      "Current Scrape:\n",
      "25 posts scraped for a total of 575\n",
      "Current after:t3_cb0mq1\n",
      "23\n",
      "Current Scrape:\n",
      "25 posts scraped for a total of 600\n",
      "Current after:t3_cay0ca\n",
      "24\n",
      "Current Scrape:\n",
      "25 posts scraped for a total of 625\n",
      "Current after:t3_caw9um\n",
      "25\n",
      "Current Scrape:\n",
      "25 posts scraped for a total of 650\n",
      "Current after:t3_causoo\n",
      "26\n",
      "Current Scrape:\n",
      "25 posts scraped for a total of 675\n",
      "Current after:t3_catkap\n",
      "27\n",
      "Current Scrape:\n",
      "25 posts scraped for a total of 700\n",
      "Current after:t3_casf46\n",
      "28\n",
      "Current Scrape:\n",
      "25 posts scraped for a total of 725\n",
      "Current after:t3_caqsd6\n",
      "29\n",
      "Current Scrape:\n",
      "25 posts scraped for a total of 750\n",
      "Current after:t3_capn8r\n",
      "30\n",
      "Current Scrape:\n",
      "25 posts scraped for a total of 775\n",
      "Current after:t3_cams7n\n",
      "31\n",
      "Current Scrape:\n",
      "25 posts scraped for a total of 800\n",
      "Current after:t3_cak8ze\n",
      "32\n",
      "Current Scrape:\n",
      "25 posts scraped for a total of 825\n",
      "Current after:t3_cai717\n",
      "33\n",
      "Current Scrape:\n",
      "25 posts scraped for a total of 850\n",
      "Current after:t3_cagdhc\n",
      "34\n",
      "Current Scrape:\n",
      "25 posts scraped for a total of 875\n",
      "Current after:t3_caf3mt\n",
      "35\n",
      "Current Scrape:\n",
      "25 posts scraped for a total of 900\n",
      "Current after:t3_cadq4r\n",
      "36\n",
      "Current Scrape:\n",
      "25 posts scraped for a total of 925\n",
      "Current after:t3_cacfbj\n",
      "37\n",
      "Current Scrape:\n",
      "25 posts scraped for a total of 950\n",
      "Current after:t3_caawb1\n",
      "38\n",
      "Current Scrape:\n",
      "25 posts scraped for a total of 975\n",
      "Current after:t3_ca94qf\n",
      "39\n",
      "Current Scrape:\n",
      "11 posts scraped for a total of 986\n",
      "Current after:None\n"
     ]
    }
   ],
   "source": [
    "new_posts = []\n",
    "after = None\n",
    "for i in range(40):\n",
    "    print(i)\n",
    "    if after == None:\n",
    "        params = {}\n",
    "    else:\n",
    "        params = {'after': after}\n",
    "    new_url = \"https://www.reddit.com/r/dating_advice/new.json\"\n",
    "    new_res = requests.get(new_url, params=params, headers=headers)\n",
    "    if new_res.status_code == 200:\n",
    "        new_json = new_res.json()\n",
    "        \n",
    "        for post in new_json['data']['children']:\n",
    "            new_posts.append(post['data'])\n",
    "        after = new_json['data']['after']\n",
    "    else:\n",
    "        print(new_res.status_code)\n",
    "        break\n",
    "        \n",
    "    print('Current Scrape:')\n",
    "    print(f\"{len(new_json['data']['children'])} posts scraped for a total of {len(new_posts)}\")\n",
    "    print(f\"Current after:{after}\")\n",
    "    time.sleep(1)"
   ]
  },
  {
   "cell_type": "code",
   "execution_count": 41,
   "metadata": {},
   "outputs": [
    {
     "data": {
      "text/plain": [
       "986"
      ]
     },
     "execution_count": 41,
     "metadata": {},
     "output_type": "execute_result"
    }
   ],
   "source": [
    "len(new_posts)"
   ]
  },
  {
   "cell_type": "code",
   "execution_count": 42,
   "metadata": {},
   "outputs": [
    {
     "data": {
      "text/html": [
       "<div>\n",
       "<style scoped>\n",
       "    .dataframe tbody tr th:only-of-type {\n",
       "        vertical-align: middle;\n",
       "    }\n",
       "\n",
       "    .dataframe tbody tr th {\n",
       "        vertical-align: top;\n",
       "    }\n",
       "\n",
       "    .dataframe thead th {\n",
       "        text-align: right;\n",
       "    }\n",
       "</style>\n",
       "<table border=\"1\" class=\"dataframe\">\n",
       "  <thead>\n",
       "    <tr style=\"text-align: right;\">\n",
       "      <th></th>\n",
       "      <th>author</th>\n",
       "      <th>title</th>\n",
       "      <th>selftext</th>\n",
       "    </tr>\n",
       "  </thead>\n",
       "  <tbody>\n",
       "    <tr>\n",
       "      <th>0</th>\n",
       "      <td>Zxnobia</td>\n",
       "      <td>When is it getting serious?</td>\n",
       "      <td>Hey, I’m relatively new to dating and therefor...</td>\n",
       "    </tr>\n",
       "    <tr>\n",
       "      <th>1</th>\n",
       "      <td>kittenlikeunicorn</td>\n",
       "      <td>I am having anxiety about a guy I just started...</td>\n",
       "      <td>I want to have another date, we’ve already wen...</td>\n",
       "    </tr>\n",
       "    <tr>\n",
       "      <th>2</th>\n",
       "      <td>whyisthisthrow</td>\n",
       "      <td>I feel like shit, and a moron, with nobody to ...</td>\n",
       "      <td>I met this girl around 4 years ago. At the tim...</td>\n",
       "    </tr>\n",
       "    <tr>\n",
       "      <th>3</th>\n",
       "      <td>lustinglost</td>\n",
       "      <td>How to deal with dates you don't feel a connec...</td>\n",
       "      <td>So you are dating around with different people...</td>\n",
       "    </tr>\n",
       "    <tr>\n",
       "      <th>4</th>\n",
       "      <td>ScaredAboutScars</td>\n",
       "      <td>Am I shallow for screening out introverted guys?</td>\n",
       "      <td>I feel like a terrible person for this but I s...</td>\n",
       "    </tr>\n",
       "  </tbody>\n",
       "</table>\n",
       "</div>"
      ],
      "text/plain": [
       "              author                                              title  \\\n",
       "0            Zxnobia                        When is it getting serious?   \n",
       "1  kittenlikeunicorn  I am having anxiety about a guy I just started...   \n",
       "2     whyisthisthrow  I feel like shit, and a moron, with nobody to ...   \n",
       "3        lustinglost  How to deal with dates you don't feel a connec...   \n",
       "4   ScaredAboutScars   Am I shallow for screening out introverted guys?   \n",
       "\n",
       "                                            selftext  \n",
       "0  Hey, I’m relatively new to dating and therefor...  \n",
       "1  I want to have another date, we’ve already wen...  \n",
       "2  I met this girl around 4 years ago. At the tim...  \n",
       "3  So you are dating around with different people...  \n",
       "4  I feel like a terrible person for this but I s...  "
      ]
     },
     "execution_count": 42,
     "metadata": {},
     "output_type": "execute_result"
    }
   ],
   "source": [
    "new_df = pd.DataFrame(new_posts)\n",
    "new_df[['author', 'title', 'selftext']].head()"
   ]
  },
  {
   "cell_type": "code",
   "execution_count": 43,
   "metadata": {},
   "outputs": [
    {
     "data": {
      "text/plain": [
       "caujok    1\n",
       "cb6zsi    1\n",
       "cauoep    1\n",
       "cbugfp    1\n",
       "cagdgk    1\n",
       "Name: id, dtype: int64"
      ]
     },
     "execution_count": 43,
     "metadata": {},
     "output_type": "execute_result"
    }
   ],
   "source": [
    "new_df['id'].value_counts().head()"
   ]
  },
  {
   "cell_type": "code",
   "execution_count": 44,
   "metadata": {},
   "outputs": [
    {
     "data": {
      "text/plain": [
       "(986, 98)"
      ]
     },
     "execution_count": 44,
     "metadata": {},
     "output_type": "execute_result"
    }
   ],
   "source": [
    "new_df.shape"
   ]
  },
  {
   "cell_type": "code",
   "execution_count": 45,
   "metadata": {},
   "outputs": [],
   "source": [
    "new_df['timestamp'] = pd.to_datetime(new_df['created_utc'], unit='s')"
   ]
  },
  {
   "cell_type": "code",
   "execution_count": 46,
   "metadata": {},
   "outputs": [
    {
     "data": {
      "text/html": [
       "<div>\n",
       "<style scoped>\n",
       "    .dataframe tbody tr th:only-of-type {\n",
       "        vertical-align: middle;\n",
       "    }\n",
       "\n",
       "    .dataframe tbody tr th {\n",
       "        vertical-align: top;\n",
       "    }\n",
       "\n",
       "    .dataframe thead th {\n",
       "        text-align: right;\n",
       "    }\n",
       "</style>\n",
       "<table border=\"1\" class=\"dataframe\">\n",
       "  <thead>\n",
       "    <tr style=\"text-align: right;\">\n",
       "      <th></th>\n",
       "      <th>id</th>\n",
       "      <th>author</th>\n",
       "      <th>title</th>\n",
       "      <th>selftext</th>\n",
       "      <th>timestamp</th>\n",
       "      <th>num_comments</th>\n",
       "      <th>ups</th>\n",
       "      <th>subreddit</th>\n",
       "    </tr>\n",
       "  </thead>\n",
       "  <tbody>\n",
       "    <tr>\n",
       "      <th>0</th>\n",
       "      <td>cc1xgw</td>\n",
       "      <td>Zxnobia</td>\n",
       "      <td>When is it getting serious?</td>\n",
       "      <td>Hey, I’m relatively new to dating and therefor...</td>\n",
       "      <td>2019-07-11 21:54:37</td>\n",
       "      <td>1</td>\n",
       "      <td>1</td>\n",
       "      <td>dating_advice</td>\n",
       "    </tr>\n",
       "    <tr>\n",
       "      <th>1</th>\n",
       "      <td>cc1ro7</td>\n",
       "      <td>kittenlikeunicorn</td>\n",
       "      <td>I am having anxiety about a guy I just started...</td>\n",
       "      <td>I want to have another date, we’ve already wen...</td>\n",
       "      <td>2019-07-11 21:41:30</td>\n",
       "      <td>1</td>\n",
       "      <td>1</td>\n",
       "      <td>dating_advice</td>\n",
       "    </tr>\n",
       "    <tr>\n",
       "      <th>2</th>\n",
       "      <td>cc1ppg</td>\n",
       "      <td>whyisthisthrow</td>\n",
       "      <td>I feel like shit, and a moron, with nobody to ...</td>\n",
       "      <td>I met this girl around 4 years ago. At the tim...</td>\n",
       "      <td>2019-07-11 21:37:04</td>\n",
       "      <td>1</td>\n",
       "      <td>2</td>\n",
       "      <td>dating_advice</td>\n",
       "    </tr>\n",
       "    <tr>\n",
       "      <th>3</th>\n",
       "      <td>cc1p2b</td>\n",
       "      <td>lustinglost</td>\n",
       "      <td>How to deal with dates you don't feel a connec...</td>\n",
       "      <td>So you are dating around with different people...</td>\n",
       "      <td>2019-07-11 21:35:33</td>\n",
       "      <td>1</td>\n",
       "      <td>2</td>\n",
       "      <td>dating_advice</td>\n",
       "    </tr>\n",
       "    <tr>\n",
       "      <th>4</th>\n",
       "      <td>cc1j09</td>\n",
       "      <td>ScaredAboutScars</td>\n",
       "      <td>Am I shallow for screening out introverted guys?</td>\n",
       "      <td>I feel like a terrible person for this but I s...</td>\n",
       "      <td>2019-07-11 21:21:50</td>\n",
       "      <td>14</td>\n",
       "      <td>0</td>\n",
       "      <td>dating_advice</td>\n",
       "    </tr>\n",
       "  </tbody>\n",
       "</table>\n",
       "</div>"
      ],
      "text/plain": [
       "       id             author  \\\n",
       "0  cc1xgw            Zxnobia   \n",
       "1  cc1ro7  kittenlikeunicorn   \n",
       "2  cc1ppg     whyisthisthrow   \n",
       "3  cc1p2b        lustinglost   \n",
       "4  cc1j09   ScaredAboutScars   \n",
       "\n",
       "                                               title  \\\n",
       "0                        When is it getting serious?   \n",
       "1  I am having anxiety about a guy I just started...   \n",
       "2  I feel like shit, and a moron, with nobody to ...   \n",
       "3  How to deal with dates you don't feel a connec...   \n",
       "4   Am I shallow for screening out introverted guys?   \n",
       "\n",
       "                                            selftext           timestamp  \\\n",
       "0  Hey, I’m relatively new to dating and therefor... 2019-07-11 21:54:37   \n",
       "1  I want to have another date, we’ve already wen... 2019-07-11 21:41:30   \n",
       "2  I met this girl around 4 years ago. At the tim... 2019-07-11 21:37:04   \n",
       "3  So you are dating around with different people... 2019-07-11 21:35:33   \n",
       "4  I feel like a terrible person for this but I s... 2019-07-11 21:21:50   \n",
       "\n",
       "   num_comments  ups      subreddit  \n",
       "0             1    1  dating_advice  \n",
       "1             1    1  dating_advice  \n",
       "2             1    2  dating_advice  \n",
       "3             1    2  dating_advice  \n",
       "4            14    0  dating_advice  "
      ]
     },
     "execution_count": 46,
     "metadata": {},
     "output_type": "execute_result"
    }
   ],
   "source": [
    "dating_2 = new_df[['id', 'author', 'title', 'selftext', \n",
    "                   'timestamp', 'num_comments', 'ups', 'subreddit']]\n",
    "dating_2.head()"
   ]
  },
  {
   "cell_type": "code",
   "execution_count": 47,
   "metadata": {},
   "outputs": [],
   "source": [
    "full_dating = pd.concat(objs=[dating_2, dating], axis='rows', ignore_index=True)"
   ]
  },
  {
   "cell_type": "code",
   "execution_count": 48,
   "metadata": {},
   "outputs": [
    {
     "data": {
      "text/html": [
       "<div>\n",
       "<style scoped>\n",
       "    .dataframe tbody tr th:only-of-type {\n",
       "        vertical-align: middle;\n",
       "    }\n",
       "\n",
       "    .dataframe tbody tr th {\n",
       "        vertical-align: top;\n",
       "    }\n",
       "\n",
       "    .dataframe thead th {\n",
       "        text-align: right;\n",
       "    }\n",
       "</style>\n",
       "<table border=\"1\" class=\"dataframe\">\n",
       "  <thead>\n",
       "    <tr style=\"text-align: right;\">\n",
       "      <th></th>\n",
       "      <th>id</th>\n",
       "      <th>author</th>\n",
       "      <th>title</th>\n",
       "      <th>selftext</th>\n",
       "      <th>timestamp</th>\n",
       "      <th>num_comments</th>\n",
       "      <th>ups</th>\n",
       "      <th>subreddit</th>\n",
       "    </tr>\n",
       "  </thead>\n",
       "  <tbody>\n",
       "    <tr>\n",
       "      <th>0</th>\n",
       "      <td>cc1xgw</td>\n",
       "      <td>Zxnobia</td>\n",
       "      <td>When is it getting serious?</td>\n",
       "      <td>Hey, I’m relatively new to dating and therefor...</td>\n",
       "      <td>2019-07-11 21:54:37</td>\n",
       "      <td>1</td>\n",
       "      <td>1</td>\n",
       "      <td>dating_advice</td>\n",
       "    </tr>\n",
       "    <tr>\n",
       "      <th>1</th>\n",
       "      <td>cc1ro7</td>\n",
       "      <td>kittenlikeunicorn</td>\n",
       "      <td>I am having anxiety about a guy I just started...</td>\n",
       "      <td>I want to have another date, we’ve already wen...</td>\n",
       "      <td>2019-07-11 21:41:30</td>\n",
       "      <td>1</td>\n",
       "      <td>1</td>\n",
       "      <td>dating_advice</td>\n",
       "    </tr>\n",
       "    <tr>\n",
       "      <th>2</th>\n",
       "      <td>cc1ppg</td>\n",
       "      <td>whyisthisthrow</td>\n",
       "      <td>I feel like shit, and a moron, with nobody to ...</td>\n",
       "      <td>I met this girl around 4 years ago. At the tim...</td>\n",
       "      <td>2019-07-11 21:37:04</td>\n",
       "      <td>1</td>\n",
       "      <td>2</td>\n",
       "      <td>dating_advice</td>\n",
       "    </tr>\n",
       "    <tr>\n",
       "      <th>3</th>\n",
       "      <td>cc1p2b</td>\n",
       "      <td>lustinglost</td>\n",
       "      <td>How to deal with dates you don't feel a connec...</td>\n",
       "      <td>So you are dating around with different people...</td>\n",
       "      <td>2019-07-11 21:35:33</td>\n",
       "      <td>1</td>\n",
       "      <td>2</td>\n",
       "      <td>dating_advice</td>\n",
       "    </tr>\n",
       "    <tr>\n",
       "      <th>4</th>\n",
       "      <td>cc1j09</td>\n",
       "      <td>ScaredAboutScars</td>\n",
       "      <td>Am I shallow for screening out introverted guys?</td>\n",
       "      <td>I feel like a terrible person for this but I s...</td>\n",
       "      <td>2019-07-11 21:21:50</td>\n",
       "      <td>14</td>\n",
       "      <td>0</td>\n",
       "      <td>dating_advice</td>\n",
       "    </tr>\n",
       "  </tbody>\n",
       "</table>\n",
       "</div>"
      ],
      "text/plain": [
       "       id             author  \\\n",
       "0  cc1xgw            Zxnobia   \n",
       "1  cc1ro7  kittenlikeunicorn   \n",
       "2  cc1ppg     whyisthisthrow   \n",
       "3  cc1p2b        lustinglost   \n",
       "4  cc1j09   ScaredAboutScars   \n",
       "\n",
       "                                               title  \\\n",
       "0                        When is it getting serious?   \n",
       "1  I am having anxiety about a guy I just started...   \n",
       "2  I feel like shit, and a moron, with nobody to ...   \n",
       "3  How to deal with dates you don't feel a connec...   \n",
       "4   Am I shallow for screening out introverted guys?   \n",
       "\n",
       "                                            selftext           timestamp  \\\n",
       "0  Hey, I’m relatively new to dating and therefor... 2019-07-11 21:54:37   \n",
       "1  I want to have another date, we’ve already wen... 2019-07-11 21:41:30   \n",
       "2  I met this girl around 4 years ago. At the tim... 2019-07-11 21:37:04   \n",
       "3  So you are dating around with different people... 2019-07-11 21:35:33   \n",
       "4  I feel like a terrible person for this but I s... 2019-07-11 21:21:50   \n",
       "\n",
       "   num_comments  ups      subreddit  \n",
       "0             1    1  dating_advice  \n",
       "1             1    1  dating_advice  \n",
       "2             1    2  dating_advice  \n",
       "3             1    2  dating_advice  \n",
       "4            14    0  dating_advice  "
      ]
     },
     "execution_count": 48,
     "metadata": {},
     "output_type": "execute_result"
    }
   ],
   "source": [
    "full_dating.head()"
   ]
  },
  {
   "cell_type": "code",
   "execution_count": 49,
   "metadata": {},
   "outputs": [
    {
     "data": {
      "text/plain": [
       "(1949, 8)"
      ]
     },
     "execution_count": 49,
     "metadata": {},
     "output_type": "execute_result"
    }
   ],
   "source": [
    "full_dating.shape"
   ]
  },
  {
   "cell_type": "code",
   "execution_count": 50,
   "metadata": {},
   "outputs": [
    {
     "data": {
      "text/plain": [
       "pandas.core.series.Series"
      ]
     },
     "execution_count": 50,
     "metadata": {},
     "output_type": "execute_result"
    }
   ],
   "source": [
    "type(full_dating['title'])"
   ]
  },
  {
   "cell_type": "code",
   "execution_count": 51,
   "metadata": {},
   "outputs": [],
   "source": [
    "from nltk.tokenize import RegexpTokenizer \n",
    "from sklearn.feature_extraction.text import CountVectorizer"
   ]
  },
  {
   "cell_type": "code",
   "execution_count": 52,
   "metadata": {},
   "outputs": [],
   "source": [
    "tokenizer = RegexpTokenizer('\\w+|\\$[\\d\\.]+|\\S+')"
   ]
  },
  {
   "cell_type": "code",
   "execution_count": 53,
   "metadata": {
    "scrolled": true
   },
   "outputs": [],
   "source": [
    "full_dating['token_titles'] = full_dating['title'].apply(tokenizer.tokenize)"
   ]
  },
  {
   "cell_type": "code",
   "execution_count": 54,
   "metadata": {},
   "outputs": [],
   "source": [
    "full_dating['token_selftext'] = full_dating['selftext'].apply(tokenizer.tokenize)"
   ]
  },
  {
   "cell_type": "markdown",
   "metadata": {},
   "source": [
    "Plotting total words in all titles and words per title."
   ]
  },
  {
   "cell_type": "code",
   "execution_count": 55,
   "metadata": {},
   "outputs": [
    {
     "name": "stdout",
     "output_type": "stream",
     "text": [
      "There are 23865 words total in the titles, with 2245 unique words.\n",
      "Max title length is 65 words.\n"
     ]
    }
   ],
   "source": [
    "title_words = [word for tokens in full_dating[\"token_titles\"] for word in tokens]\n",
    "title_length = [len(title) for title in full_dating['token_titles']]\n",
    "\n",
    "VOCAB = sorted(list(set(title_words)))\n",
    "print(f'There are {len(title_words)} words total in the titles, with {len(VOCAB)} unique words.')\n",
    "print(f\"Max title length is {max(title_length)} words.\")\n",
    "\n",
    "#code adapted from Emmanuel Ameisen https://blog.insightdatascience.com/how-to-solve-90-of-nlp-problems-a-step-by-step-guide-fda605278e4e"
   ]
  },
  {
   "cell_type": "code",
   "execution_count": 56,
   "metadata": {},
   "outputs": [
    {
     "data": {
      "text/plain": [
       "<Figure size 1000x1000 with 1 Axes>"
      ]
     },
     "metadata": {},
     "output_type": "display_data"
    }
   ],
   "source": [
    "import matplotlib.pyplot as plt\n",
    "\n",
    "fig = plt.figure(figsize=(10, 10)) \n",
    "plt.xlabel('Title length')\n",
    "plt.ylabel('Number of titles')\n",
    "plt.hist(title_length)\n",
    "\n",
    "mean = sum(title_length)/full_dating.shape[0]\n",
    "plt.axvline(mean, color='r', linestyle='--')\n",
    "plt.title('Distribution of dating advice title lengths', fontsize=18)\n",
    "plt.show()"
   ]
  },
  {
   "cell_type": "markdown",
   "metadata": {},
   "source": [
    "The average number of words per dating advice title post is 12."
   ]
  },
  {
   "cell_type": "markdown",
   "metadata": {},
   "source": [
    "Plotting total words in all posts and words per post."
   ]
  },
  {
   "cell_type": "code",
   "execution_count": 57,
   "metadata": {},
   "outputs": [
    {
     "name": "stdout",
     "output_type": "stream",
     "text": [
      "There are 456087 words total in the posts, with 10358 unique words.\n",
      "Max post length is 3555 words.\n"
     ]
    }
   ],
   "source": [
    "post_words = [word for tokens in full_dating[\"token_selftext\"] for word in tokens]\n",
    "post_length = [len(title) for title in full_dating['token_selftext']]\n",
    "VOCAB = sorted(list(set(post_words)))\n",
    "\n",
    "print(f'There are {len(post_words)} words total in the posts, with {len(VOCAB)} unique words.')\n",
    "print(f\"Max post length is {max(post_length)} words.\")"
   ]
  },
  {
   "cell_type": "code",
   "execution_count": 58,
   "metadata": {},
   "outputs": [
    {
     "data": {
      "image/png": "[encoded data removed]",
      "text/plain": [
       "<Figure size 576x432 with 1 Axes>"
      ]
     },
     "metadata": {
      "needs_background": "light"
     },
     "output_type": "display_data"
    }
   ],
   "source": [
    "fig = plt.figure(figsize=(8, 6)) \n",
    "plt.xlabel('Post length')\n",
    "plt.ylabel('Number of posts')\n",
    "plt.hist(post_length)\n",
    "\n",
    "mean_words = sum(post_length)/full_dating.shape[0]\n",
    "plt.axvline(mean_words, color='r', linestyle='--')\n",
    "plt.title('Distribution of dating advice post lengths', fontsize=24)\n",
    "plt.show();"
   ]
  },
  {
   "cell_type": "markdown",
   "metadata": {},
   "source": [
    "These histograms show me that the dating subreddit title and post lengths are not normally distributed."
   ]
  },
  {
   "cell_type": "markdown",
   "metadata": {},
   "source": [
    "The average number of words per post on the dating advice subreddit is 222."
   ]
  },
  {
   "cell_type": "code",
   "execution_count": 59,
   "metadata": {},
   "outputs": [
    {
     "data": {
      "text/html": [
       "<div>\n",
       "<style scoped>\n",
       "    .dataframe tbody tr th:only-of-type {\n",
       "        vertical-align: middle;\n",
       "    }\n",
       "\n",
       "    .dataframe tbody tr th {\n",
       "        vertical-align: top;\n",
       "    }\n",
       "\n",
       "    .dataframe thead th {\n",
       "        text-align: right;\n",
       "    }\n",
       "</style>\n",
       "<table border=\"1\" class=\"dataframe\">\n",
       "  <thead>\n",
       "    <tr style=\"text-align: right;\">\n",
       "      <th></th>\n",
       "      <th>num_comments</th>\n",
       "      <th>ups</th>\n",
       "    </tr>\n",
       "  </thead>\n",
       "  <tbody>\n",
       "    <tr>\n",
       "      <th>count</th>\n",
       "      <td>1949.000000</td>\n",
       "      <td>1949.000000</td>\n",
       "    </tr>\n",
       "    <tr>\n",
       "      <th>mean</th>\n",
       "      <td>9.016419</td>\n",
       "      <td>24.347871</td>\n",
       "    </tr>\n",
       "    <tr>\n",
       "      <th>std</th>\n",
       "      <td>24.776780</td>\n",
       "      <td>220.516353</td>\n",
       "    </tr>\n",
       "    <tr>\n",
       "      <th>min</th>\n",
       "      <td>1.000000</td>\n",
       "      <td>0.000000</td>\n",
       "    </tr>\n",
       "    <tr>\n",
       "      <th>25%</th>\n",
       "      <td>3.000000</td>\n",
       "      <td>1.000000</td>\n",
       "    </tr>\n",
       "    <tr>\n",
       "      <th>50%</th>\n",
       "      <td>5.000000</td>\n",
       "      <td>1.000000</td>\n",
       "    </tr>\n",
       "    <tr>\n",
       "      <th>75%</th>\n",
       "      <td>8.000000</td>\n",
       "      <td>3.000000</td>\n",
       "    </tr>\n",
       "    <tr>\n",
       "      <th>max</th>\n",
       "      <td>416.000000</td>\n",
       "      <td>3920.000000</td>\n",
       "    </tr>\n",
       "  </tbody>\n",
       "</table>\n",
       "</div>"
      ],
      "text/plain": [
       "       num_comments          ups\n",
       "count   1949.000000  1949.000000\n",
       "mean       9.016419    24.347871\n",
       "std       24.776780   220.516353\n",
       "min        1.000000     0.000000\n",
       "25%        3.000000     1.000000\n",
       "50%        5.000000     1.000000\n",
       "75%        8.000000     3.000000\n",
       "max      416.000000  3920.000000"
      ]
     },
     "execution_count": 59,
     "metadata": {},
     "output_type": "execute_result"
    }
   ],
   "source": [
    "full_dating.describe()"
   ]
  },
  {
   "cell_type": "code",
   "execution_count": 81,
   "metadata": {},
   "outputs": [],
   "source": [
    "def get_top_n_words(corpus, n=None):\n",
    "    cvec = CountVectorizer(stop_words = 'english').fit(corpus)\n",
    "    bag_of_words = cvec.transform(corpus)\n",
    "    sum_words = bag_of_words.sum(axis=0) \n",
    "    words_freq = [(word, sum_words[0, idx]) for word, idx in cvec.vocabulary_.items()]\n",
    "    words_freq =sorted(words_freq, key = lambda x: x[1], reverse=True)\n",
    "    return words_freq[:n]\n",
    "#code adapted from https://towardsdatascience.com/a-complete-exploratory-data-analysis-and-visualization-for-text-data-29fb1b96fb6a"
   ]
  },
  {
   "cell_type": "code",
   "execution_count": 63,
   "metadata": {},
   "outputs": [
    {
     "name": "stdout",
     "output_type": "stream",
     "text": [
      "girl 210\n",
      "dating 203\n",
      "date 199\n",
      "like 119\n",
      "know 109\n",
      "don 105\n",
      "advice 103\n",
      "guy 94\n",
      "relationship 90\n",
      "help 88\n",
      "want 76\n",
      "ve 76\n",
      "need 75\n",
      "just 69\n",
      "ask 69\n",
      "really 67\n",
      "time 62\n",
      "friend 61\n",
      "women 61\n",
      "people 56\n"
     ]
    }
   ],
   "source": [
    "common_titles = get_top_n_words(full_dating['title'], 20)\n",
    "for word, freq in common_titles:\n",
    "    print(word, freq)\n",
    "\n"
   ]
  },
  {
   "cell_type": "code",
   "execution_count": 64,
   "metadata": {},
   "outputs": [
    {
     "data": {
      "image/png": "[encoded data removed]",
      "text/plain": [
       "<Figure size 720x576 with 1 Axes>"
      ]
     },
     "metadata": {
      "needs_background": "light"
     },
     "output_type": "display_data"
    }
   ],
   "source": [
    "title_df = pd.DataFrame(common_titles, columns=['Titles', 'count'])\n",
    "plt.figure(figsize=(10,8))\n",
    "title_df.groupby('Titles').sum()['count'].sort_values(ascending=False).plot(kind='barh', fontsize=18)\n",
    "plt.title(\"Top 20 words in subreddit dating advice titles\", fontsize=24);"
   ]
  },
  {
   "cell_type": "code",
   "execution_count": 65,
   "metadata": {},
   "outputs": [
    {
     "data": {
      "text/plain": [
       "['girl',\n",
       " 'dating',\n",
       " 'date',\n",
       " 'like',\n",
       " 'know',\n",
       " 'don',\n",
       " 'advice',\n",
       " 'guy',\n",
       " 'relationship',\n",
       " 'help',\n",
       " 'want',\n",
       " 've',\n",
       " 'need',\n",
       " 'just',\n",
       " 'ask',\n",
       " 'really',\n",
       " 'time',\n",
       " 'friend',\n",
       " 'women',\n",
       " 'people']"
      ]
     },
     "execution_count": 65,
     "metadata": {},
     "output_type": "execute_result"
    }
   ],
   "source": [
    "list(title_df['Titles'])"
   ]
  },
  {
   "cell_type": "code",
   "execution_count": 66,
   "metadata": {},
   "outputs": [
    {
     "name": "stdout",
     "output_type": "stream",
     "text": [
      "just 2557\n",
      "like 2480\n",
      "don 1778\n",
      "ve 1735\n",
      "know 1721\n",
      "really 1697\n",
      "time 1604\n",
      "want 1407\n",
      "said 1136\n",
      "feel 1122\n",
      "date 1027\n",
      "girl 1027\n",
      "relationship 915\n",
      "friends 909\n",
      "think 873\n",
      "didn 864\n",
      "things 858\n",
      "guy 858\n",
      "dating 826\n",
      "going 797\n"
     ]
    }
   ],
   "source": [
    "common_words = get_top_n_words(full_dating['selftext'], 20)\n",
    "for word, freq in common_words:\n",
    "    print(word, freq)"
   ]
  },
  {
   "cell_type": "code",
   "execution_count": 67,
   "metadata": {},
   "outputs": [
    {
     "data": {
      "image/png": "[encoded data removed]",
      "text/plain": [
       "<Figure size 720x576 with 1 Axes>"
      ]
     },
     "metadata": {
      "needs_background": "light"
     },
     "output_type": "display_data"
    }
   ],
   "source": [
    "pop_words = pd.DataFrame(common_words, columns=['Words', 'count'])\n",
    "plt.figure(figsize=(10,8))\n",
    "pop_words.groupby('Words').sum()['count'].sort_values(ascending=False).plot(kind='barh', fontsize=18)\n",
    "plt.title(\"Top 20 Words in Posts on dating advice subreddit\", fontsize=24);"
   ]
  },
  {
   "cell_type": "markdown",
   "metadata": {},
   "source": [
    "Load in the relationship csv to concat with "
   ]
  },
  {
   "cell_type": "code",
   "execution_count": 69,
   "metadata": {},
   "outputs": [],
   "source": [
    "train = pd.read_csv('datasets/more_train.csv')"
   ]
  },
  {
   "cell_type": "code",
   "execution_count": 70,
   "metadata": {},
   "outputs": [],
   "source": [
    "train.drop(columns=['Unnamed: 0', 'Unnamed: 0.1'], inplace=True)"
   ]
  },
  {
   "cell_type": "code",
   "execution_count": 71,
   "metadata": {},
   "outputs": [
    {
     "data": {
      "text/html": [
       "<div>\n",
       "<style scoped>\n",
       "    .dataframe tbody tr th:only-of-type {\n",
       "        vertical-align: middle;\n",
       "    }\n",
       "\n",
       "    .dataframe tbody tr th {\n",
       "        vertical-align: top;\n",
       "    }\n",
       "\n",
       "    .dataframe thead th {\n",
       "        text-align: right;\n",
       "    }\n",
       "</style>\n",
       "<table border=\"1\" class=\"dataframe\">\n",
       "  <thead>\n",
       "    <tr style=\"text-align: right;\">\n",
       "      <th></th>\n",
       "      <th>id</th>\n",
       "      <th>author</th>\n",
       "      <th>title</th>\n",
       "      <th>selftext</th>\n",
       "      <th>timestamp</th>\n",
       "      <th>num_comments</th>\n",
       "      <th>ups</th>\n",
       "      <th>subreddit</th>\n",
       "    </tr>\n",
       "  </thead>\n",
       "  <tbody>\n",
       "    <tr>\n",
       "      <th>0</th>\n",
       "      <td>caomx7</td>\n",
       "      <td>aspicer101</td>\n",
       "      <td>My 26yr old GF that has OCD with staring compu...</td>\n",
       "      <td>This is my first time dating a person with OCD...</td>\n",
       "      <td>2019-07-08 18:12:14</td>\n",
       "      <td>0</td>\n",
       "      <td>1</td>\n",
       "      <td>relationship_advice</td>\n",
       "    </tr>\n",
       "    <tr>\n",
       "      <th>1</th>\n",
       "      <td>caomuh</td>\n",
       "      <td>Tiathomas</td>\n",
       "      <td>Best friend becomes lover</td>\n",
       "      <td>Hi ! I have fallen in love with my childhood b...</td>\n",
       "      <td>2019-07-08 18:12:05</td>\n",
       "      <td>0</td>\n",
       "      <td>1</td>\n",
       "      <td>relationship_advice</td>\n",
       "    </tr>\n",
       "    <tr>\n",
       "      <th>2</th>\n",
       "      <td>caomsk</td>\n",
       "      <td>emstyler</td>\n",
       "      <td>I (30M) think I made a humongous mistake break...</td>\n",
       "      <td>I think I could use some help with clarity her...</td>\n",
       "      <td>2019-07-08 18:11:59</td>\n",
       "      <td>0</td>\n",
       "      <td>1</td>\n",
       "      <td>relationship_advice</td>\n",
       "    </tr>\n",
       "    <tr>\n",
       "      <th>3</th>\n",
       "      <td>caoml0</td>\n",
       "      <td>bf_advice_throwaway</td>\n",
       "      <td>24 F relationship with 23 M ended suddenly. I ...</td>\n",
       "      <td>I do not know how to navigate the plethora of ...</td>\n",
       "      <td>2019-07-08 18:11:30</td>\n",
       "      <td>0</td>\n",
       "      <td>1</td>\n",
       "      <td>relationship_advice</td>\n",
       "    </tr>\n",
       "    <tr>\n",
       "      <th>4</th>\n",
       "      <td>caomf8</td>\n",
       "      <td>ilovesocksalot</td>\n",
       "      <td>Wife was raped while cheating</td>\n",
       "      <td>I found out about three ago that my wife cheat...</td>\n",
       "      <td>2019-07-08 18:11:13</td>\n",
       "      <td>1</td>\n",
       "      <td>1</td>\n",
       "      <td>relationship_advice</td>\n",
       "    </tr>\n",
       "  </tbody>\n",
       "</table>\n",
       "</div>"
      ],
      "text/plain": [
       "       id               author  \\\n",
       "0  caomx7           aspicer101   \n",
       "1  caomuh            Tiathomas   \n",
       "2  caomsk             emstyler   \n",
       "3  caoml0  bf_advice_throwaway   \n",
       "4  caomf8       ilovesocksalot   \n",
       "\n",
       "                                               title  \\\n",
       "0  My 26yr old GF that has OCD with staring compu...   \n",
       "1                          Best friend becomes lover   \n",
       "2  I (30M) think I made a humongous mistake break...   \n",
       "3  24 F relationship with 23 M ended suddenly. I ...   \n",
       "4                      Wife was raped while cheating   \n",
       "\n",
       "                                            selftext            timestamp  \\\n",
       "0  This is my first time dating a person with OCD...  2019-07-08 18:12:14   \n",
       "1  Hi ! I have fallen in love with my childhood b...  2019-07-08 18:12:05   \n",
       "2  I think I could use some help with clarity her...  2019-07-08 18:11:59   \n",
       "3  I do not know how to navigate the plethora of ...  2019-07-08 18:11:30   \n",
       "4  I found out about three ago that my wife cheat...  2019-07-08 18:11:13   \n",
       "\n",
       "   num_comments  ups            subreddit  \n",
       "0             0    1  relationship_advice  \n",
       "1             0    1  relationship_advice  \n",
       "2             0    1  relationship_advice  \n",
       "3             0    1  relationship_advice  \n",
       "4             1    1  relationship_advice  "
      ]
     },
     "execution_count": 71,
     "metadata": {},
     "output_type": "execute_result"
    }
   ],
   "source": [
    "train.head()"
   ]
  },
  {
   "cell_type": "code",
   "execution_count": 72,
   "metadata": {},
   "outputs": [],
   "source": [
    "train = pd.concat(objs=[dating_2, train], axis='rows', ignore_index=True)"
   ]
  },
  {
   "cell_type": "code",
   "execution_count": 73,
   "metadata": {},
   "outputs": [
    {
     "data": {
      "text/plain": [
       "(3878, 8)"
      ]
     },
     "execution_count": 73,
     "metadata": {},
     "output_type": "execute_result"
    }
   ],
   "source": [
    "train.shape"
   ]
  },
  {
   "cell_type": "markdown",
   "metadata": {},
   "source": [
    "Save to one final big csv"
   ]
  },
  {
   "cell_type": "code",
   "execution_count": 80,
   "metadata": {},
   "outputs": [],
   "source": [
    "# train.to_csv('datasets/big_train.csv')\n",
    "# commented out so it doesn't save over original when the notebook is rerun."
   ]
  },
  {
   "cell_type": "code",
   "execution_count": 75,
   "metadata": {},
   "outputs": [
    {
     "name": "stdout",
     "output_type": "stream",
     "text": [
      "README.md                         reddit-NLP.ipynb\r\n",
      "\u001b[34mdatasets\u001b[m\u001b[m/                         relationship-advice-scrape.ipynb\r\n",
      "dating-advice-scrape.ipynb\r\n"
     ]
    }
   ],
   "source": [
    "%ls"
   ]
  },
  {
   "cell_type": "code",
   "execution_count": 76,
   "metadata": {},
   "outputs": [
    {
     "data": {
      "text/plain": [
       "ca97ub    2\n",
       "ca8vpe    2\n",
       "ca9u0h    2\n",
       "ca9dmy    2\n",
       "ca9w63    2\n",
       "Name: id, dtype: int64"
      ]
     },
     "execution_count": 76,
     "metadata": {},
     "output_type": "execute_result"
    }
   ],
   "source": [
    "train['id'].value_counts().head()"
   ]
  },
  {
   "cell_type": "code",
   "execution_count": 77,
   "metadata": {},
   "outputs": [],
   "source": [
    "train.drop_duplicates(subset='id', inplace=True)"
   ]
  },
  {
   "cell_type": "code",
   "execution_count": 78,
   "metadata": {},
   "outputs": [
    {
     "data": {
      "text/plain": [
       "(3845, 8)"
      ]
     },
     "execution_count": 78,
     "metadata": {},
     "output_type": "execute_result"
    }
   ],
   "source": [
    "train.shape"
   ]
  },
  {
   "cell_type": "code",
   "execution_count": 79,
   "metadata": {},
   "outputs": [
    {
     "data": {
      "text/plain": [
       "id              0\n",
       "author          0\n",
       "title           0\n",
       "selftext        5\n",
       "timestamp       0\n",
       "num_comments    0\n",
       "ups             0\n",
       "subreddit       0\n",
       "dtype: int64"
      ]
     },
     "execution_count": 79,
     "metadata": {},
     "output_type": "execute_result"
    }
   ],
   "source": [
    "train.isnull().sum()"
   ]
  },
  {
   "cell_type": "code",
   "execution_count": null,
   "metadata": {},
   "outputs": [],
   "source": []
  }
 ],
 "metadata": {
  "kernelspec": {
   "display_name": "Python 3",
   "language": "python",
   "name": "python3"
  },
  "language_info": {
   "codemirror_mode": {
    "name": "ipython",
    "version": 3
   },
   "file_extension": ".py",
   "mimetype": "text/x-python",
   "name": "python",
   "nbconvert_exporter": "python",
   "pygments_lexer": "ipython3",
   "version": "3.7.3"
  }
 },
 "nbformat": 4,
 "nbformat_minor": 2
}
